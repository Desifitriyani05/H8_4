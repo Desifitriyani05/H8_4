{
  "nbformat": 4,
  "nbformat_minor": 0,
  "metadata": {
    "colab": {
      "provenance": []
    },
    "kernelspec": {
      "name": "python3",
      "display_name": "Python 3"
    },
    "language_info": {
      "name": "python"
    }
  },
  "cells": [
    {
      "cell_type": "markdown",
      "source": [
        "##**Assignment 2**"
      ],
      "metadata": {
        "id": "NE9TXfEHntL4"
      }
    },
    {
      "cell_type": "markdown",
      "source": [
        "Import semua module dan packages yang diperlukan"
      ],
      "metadata": {
        "id": "AhHCWplenzS2"
      }
    },
    {
      "cell_type": "code",
      "execution_count": 1,
      "metadata": {
        "id": "utxn36LyIXj2"
      },
      "outputs": [],
      "source": [
        "import math\n",
        "import statistics\n",
        "import numpy as np\n",
        "import pandas as pd\n",
        "import matplotlib.pyplot as plt\n",
        "import seaborn as sns\n",
        "import scipy.stats"
      ]
    },
    {
      "cell_type": "markdown",
      "source": [
        "Import dataset : https://www.kaggle.com/datasets/new-york-city/nyc-property-sales"
      ],
      "metadata": {
        "id": "Ekwop9H3n7Qd"
      }
    },
    {
      "cell_type": "code",
      "source": [
        "df = pd.read_csv('nyc-rolling-sales.csv')\n",
        "df.head()"
      ],
      "metadata": {
        "colab": {
          "base_uri": "https://localhost:8080/",
          "height": 629
        },
        "id": "czPOTTEAn8M0",
        "outputId": "05b8bc40-ce1b-4929-f10f-3ed03edc2d7c"
      },
      "execution_count": 2,
      "outputs": [
        {
          "output_type": "execute_result",
          "data": {
            "text/plain": [
              "   Unnamed: 0  BOROUGH   NEIGHBORHOOD  \\\n",
              "0           4        1  ALPHABET CITY   \n",
              "1           5        1  ALPHABET CITY   \n",
              "2           6        1  ALPHABET CITY   \n",
              "3           7        1  ALPHABET CITY   \n",
              "4           8        1  ALPHABET CITY   \n",
              "\n",
              "                       BUILDING CLASS CATEGORY TAX CLASS AT PRESENT  BLOCK  \\\n",
              "0  07 RENTALS - WALKUP APARTMENTS                                2A    392   \n",
              "1  07 RENTALS - WALKUP APARTMENTS                                 2    399   \n",
              "2  07 RENTALS - WALKUP APARTMENTS                                 2    399   \n",
              "3  07 RENTALS - WALKUP APARTMENTS                                2B    402   \n",
              "4  07 RENTALS - WALKUP APARTMENTS                                2A    404   \n",
              "\n",
              "   LOT EASE-MENT BUILDING CLASS AT PRESENT                 ADDRESS  ...  \\\n",
              "0    6                                  C2            153 AVENUE B  ...   \n",
              "1   26                                  C7   234 EAST 4TH   STREET  ...   \n",
              "2   39                                  C7   197 EAST 3RD   STREET  ...   \n",
              "3   21                                  C4     154 EAST 7TH STREET  ...   \n",
              "4   55                                  C2  301 EAST 10TH   STREET  ...   \n",
              "\n",
              "  RESIDENTIAL UNITS  COMMERCIAL UNITS  TOTAL UNITS  LAND SQUARE FEET  \\\n",
              "0                 5                 0            5              1633   \n",
              "1                28                 3           31              4616   \n",
              "2                16                 1           17              2212   \n",
              "3                10                 0           10              2272   \n",
              "4                 6                 0            6              2369   \n",
              "\n",
              "   GROSS SQUARE FEET YEAR BUILT TAX CLASS AT TIME OF SALE  \\\n",
              "0               6440       1900                         2   \n",
              "1              18690       1900                         2   \n",
              "2               7803       1900                         2   \n",
              "3               6794       1913                         2   \n",
              "4               4615       1900                         2   \n",
              "\n",
              "   BUILDING CLASS AT TIME OF SALE  SALE PRICE            SALE DATE  \n",
              "0                              C2     6625000  2017-07-19 00:00:00  \n",
              "1                              C7         -    2016-12-14 00:00:00  \n",
              "2                              C7         -    2016-12-09 00:00:00  \n",
              "3                              C4     3936272  2016-09-23 00:00:00  \n",
              "4                              C2     8000000  2016-11-17 00:00:00  \n",
              "\n",
              "[5 rows x 22 columns]"
            ],
            "text/html": [
              "\n",
              "  <div id=\"df-14116c9c-4c7a-4ded-85ee-29be09d377cf\">\n",
              "    <div class=\"colab-df-container\">\n",
              "      <div>\n",
              "<style scoped>\n",
              "    .dataframe tbody tr th:only-of-type {\n",
              "        vertical-align: middle;\n",
              "    }\n",
              "\n",
              "    .dataframe tbody tr th {\n",
              "        vertical-align: top;\n",
              "    }\n",
              "\n",
              "    .dataframe thead th {\n",
              "        text-align: right;\n",
              "    }\n",
              "</style>\n",
              "<table border=\"1\" class=\"dataframe\">\n",
              "  <thead>\n",
              "    <tr style=\"text-align: right;\">\n",
              "      <th></th>\n",
              "      <th>Unnamed: 0</th>\n",
              "      <th>BOROUGH</th>\n",
              "      <th>NEIGHBORHOOD</th>\n",
              "      <th>BUILDING CLASS CATEGORY</th>\n",
              "      <th>TAX CLASS AT PRESENT</th>\n",
              "      <th>BLOCK</th>\n",
              "      <th>LOT</th>\n",
              "      <th>EASE-MENT</th>\n",
              "      <th>BUILDING CLASS AT PRESENT</th>\n",
              "      <th>ADDRESS</th>\n",
              "      <th>...</th>\n",
              "      <th>RESIDENTIAL UNITS</th>\n",
              "      <th>COMMERCIAL UNITS</th>\n",
              "      <th>TOTAL UNITS</th>\n",
              "      <th>LAND SQUARE FEET</th>\n",
              "      <th>GROSS SQUARE FEET</th>\n",
              "      <th>YEAR BUILT</th>\n",
              "      <th>TAX CLASS AT TIME OF SALE</th>\n",
              "      <th>BUILDING CLASS AT TIME OF SALE</th>\n",
              "      <th>SALE PRICE</th>\n",
              "      <th>SALE DATE</th>\n",
              "    </tr>\n",
              "  </thead>\n",
              "  <tbody>\n",
              "    <tr>\n",
              "      <th>0</th>\n",
              "      <td>4</td>\n",
              "      <td>1</td>\n",
              "      <td>ALPHABET CITY</td>\n",
              "      <td>07 RENTALS - WALKUP APARTMENTS</td>\n",
              "      <td>2A</td>\n",
              "      <td>392</td>\n",
              "      <td>6</td>\n",
              "      <td></td>\n",
              "      <td>C2</td>\n",
              "      <td>153 AVENUE B</td>\n",
              "      <td>...</td>\n",
              "      <td>5</td>\n",
              "      <td>0</td>\n",
              "      <td>5</td>\n",
              "      <td>1633</td>\n",
              "      <td>6440</td>\n",
              "      <td>1900</td>\n",
              "      <td>2</td>\n",
              "      <td>C2</td>\n",
              "      <td>6625000</td>\n",
              "      <td>2017-07-19 00:00:00</td>\n",
              "    </tr>\n",
              "    <tr>\n",
              "      <th>1</th>\n",
              "      <td>5</td>\n",
              "      <td>1</td>\n",
              "      <td>ALPHABET CITY</td>\n",
              "      <td>07 RENTALS - WALKUP APARTMENTS</td>\n",
              "      <td>2</td>\n",
              "      <td>399</td>\n",
              "      <td>26</td>\n",
              "      <td></td>\n",
              "      <td>C7</td>\n",
              "      <td>234 EAST 4TH   STREET</td>\n",
              "      <td>...</td>\n",
              "      <td>28</td>\n",
              "      <td>3</td>\n",
              "      <td>31</td>\n",
              "      <td>4616</td>\n",
              "      <td>18690</td>\n",
              "      <td>1900</td>\n",
              "      <td>2</td>\n",
              "      <td>C7</td>\n",
              "      <td>-</td>\n",
              "      <td>2016-12-14 00:00:00</td>\n",
              "    </tr>\n",
              "    <tr>\n",
              "      <th>2</th>\n",
              "      <td>6</td>\n",
              "      <td>1</td>\n",
              "      <td>ALPHABET CITY</td>\n",
              "      <td>07 RENTALS - WALKUP APARTMENTS</td>\n",
              "      <td>2</td>\n",
              "      <td>399</td>\n",
              "      <td>39</td>\n",
              "      <td></td>\n",
              "      <td>C7</td>\n",
              "      <td>197 EAST 3RD   STREET</td>\n",
              "      <td>...</td>\n",
              "      <td>16</td>\n",
              "      <td>1</td>\n",
              "      <td>17</td>\n",
              "      <td>2212</td>\n",
              "      <td>7803</td>\n",
              "      <td>1900</td>\n",
              "      <td>2</td>\n",
              "      <td>C7</td>\n",
              "      <td>-</td>\n",
              "      <td>2016-12-09 00:00:00</td>\n",
              "    </tr>\n",
              "    <tr>\n",
              "      <th>3</th>\n",
              "      <td>7</td>\n",
              "      <td>1</td>\n",
              "      <td>ALPHABET CITY</td>\n",
              "      <td>07 RENTALS - WALKUP APARTMENTS</td>\n",
              "      <td>2B</td>\n",
              "      <td>402</td>\n",
              "      <td>21</td>\n",
              "      <td></td>\n",
              "      <td>C4</td>\n",
              "      <td>154 EAST 7TH STREET</td>\n",
              "      <td>...</td>\n",
              "      <td>10</td>\n",
              "      <td>0</td>\n",
              "      <td>10</td>\n",
              "      <td>2272</td>\n",
              "      <td>6794</td>\n",
              "      <td>1913</td>\n",
              "      <td>2</td>\n",
              "      <td>C4</td>\n",
              "      <td>3936272</td>\n",
              "      <td>2016-09-23 00:00:00</td>\n",
              "    </tr>\n",
              "    <tr>\n",
              "      <th>4</th>\n",
              "      <td>8</td>\n",
              "      <td>1</td>\n",
              "      <td>ALPHABET CITY</td>\n",
              "      <td>07 RENTALS - WALKUP APARTMENTS</td>\n",
              "      <td>2A</td>\n",
              "      <td>404</td>\n",
              "      <td>55</td>\n",
              "      <td></td>\n",
              "      <td>C2</td>\n",
              "      <td>301 EAST 10TH   STREET</td>\n",
              "      <td>...</td>\n",
              "      <td>6</td>\n",
              "      <td>0</td>\n",
              "      <td>6</td>\n",
              "      <td>2369</td>\n",
              "      <td>4615</td>\n",
              "      <td>1900</td>\n",
              "      <td>2</td>\n",
              "      <td>C2</td>\n",
              "      <td>8000000</td>\n",
              "      <td>2016-11-17 00:00:00</td>\n",
              "    </tr>\n",
              "  </tbody>\n",
              "</table>\n",
              "<p>5 rows × 22 columns</p>\n",
              "</div>\n",
              "      <button class=\"colab-df-convert\" onclick=\"convertToInteractive('df-14116c9c-4c7a-4ded-85ee-29be09d377cf')\"\n",
              "              title=\"Convert this dataframe to an interactive table.\"\n",
              "              style=\"display:none;\">\n",
              "        \n",
              "  <svg xmlns=\"http://www.w3.org/2000/svg\" height=\"24px\"viewBox=\"0 0 24 24\"\n",
              "       width=\"24px\">\n",
              "    <path d=\"M0 0h24v24H0V0z\" fill=\"none\"/>\n",
              "    <path d=\"M18.56 5.44l.94 2.06.94-2.06 2.06-.94-2.06-.94-.94-2.06-.94 2.06-2.06.94zm-11 1L8.5 8.5l.94-2.06 2.06-.94-2.06-.94L8.5 2.5l-.94 2.06-2.06.94zm10 10l.94 2.06.94-2.06 2.06-.94-2.06-.94-.94-2.06-.94 2.06-2.06.94z\"/><path d=\"M17.41 7.96l-1.37-1.37c-.4-.4-.92-.59-1.43-.59-.52 0-1.04.2-1.43.59L10.3 9.45l-7.72 7.72c-.78.78-.78 2.05 0 2.83L4 21.41c.39.39.9.59 1.41.59.51 0 1.02-.2 1.41-.59l7.78-7.78 2.81-2.81c.8-.78.8-2.07 0-2.86zM5.41 20L4 18.59l7.72-7.72 1.47 1.35L5.41 20z\"/>\n",
              "  </svg>\n",
              "      </button>\n",
              "      \n",
              "  <style>\n",
              "    .colab-df-container {\n",
              "      display:flex;\n",
              "      flex-wrap:wrap;\n",
              "      gap: 12px;\n",
              "    }\n",
              "\n",
              "    .colab-df-convert {\n",
              "      background-color: #E8F0FE;\n",
              "      border: none;\n",
              "      border-radius: 50%;\n",
              "      cursor: pointer;\n",
              "      display: none;\n",
              "      fill: #1967D2;\n",
              "      height: 32px;\n",
              "      padding: 0 0 0 0;\n",
              "      width: 32px;\n",
              "    }\n",
              "\n",
              "    .colab-df-convert:hover {\n",
              "      background-color: #E2EBFA;\n",
              "      box-shadow: 0px 1px 2px rgba(60, 64, 67, 0.3), 0px 1px 3px 1px rgba(60, 64, 67, 0.15);\n",
              "      fill: #174EA6;\n",
              "    }\n",
              "\n",
              "    [theme=dark] .colab-df-convert {\n",
              "      background-color: #3B4455;\n",
              "      fill: #D2E3FC;\n",
              "    }\n",
              "\n",
              "    [theme=dark] .colab-df-convert:hover {\n",
              "      background-color: #434B5C;\n",
              "      box-shadow: 0px 1px 3px 1px rgba(0, 0, 0, 0.15);\n",
              "      filter: drop-shadow(0px 1px 2px rgba(0, 0, 0, 0.3));\n",
              "      fill: #FFFFFF;\n",
              "    }\n",
              "  </style>\n",
              "\n",
              "      <script>\n",
              "        const buttonEl =\n",
              "          document.querySelector('#df-14116c9c-4c7a-4ded-85ee-29be09d377cf button.colab-df-convert');\n",
              "        buttonEl.style.display =\n",
              "          google.colab.kernel.accessAllowed ? 'block' : 'none';\n",
              "\n",
              "        async function convertToInteractive(key) {\n",
              "          const element = document.querySelector('#df-14116c9c-4c7a-4ded-85ee-29be09d377cf');\n",
              "          const dataTable =\n",
              "            await google.colab.kernel.invokeFunction('convertToInteractive',\n",
              "                                                     [key], {});\n",
              "          if (!dataTable) return;\n",
              "\n",
              "          const docLinkHtml = 'Like what you see? Visit the ' +\n",
              "            '<a target=\"_blank\" href=https://colab.research.google.com/notebooks/data_table.ipynb>data table notebook</a>'\n",
              "            + ' to learn more about interactive tables.';\n",
              "          element.innerHTML = '';\n",
              "          dataTable['output_type'] = 'display_data';\n",
              "          await google.colab.output.renderOutput(dataTable, element);\n",
              "          const docLink = document.createElement('div');\n",
              "          docLink.innerHTML = docLinkHtml;\n",
              "          element.appendChild(docLink);\n",
              "        }\n",
              "      </script>\n",
              "    </div>\n",
              "  </div>\n",
              "  "
            ]
          },
          "metadata": {},
          "execution_count": 2
        }
      ]
    },
    {
      "cell_type": "markdown",
      "source": [
        "Cek berapa banyak baris dan kolom yang dimiliki."
      ],
      "metadata": {
        "id": "0ceQGR3moGct"
      }
    },
    {
      "cell_type": "code",
      "source": [
        "df.shape"
      ],
      "metadata": {
        "colab": {
          "base_uri": "https://localhost:8080/"
        },
        "id": "FbNUZJghoHaA",
        "outputId": "184913bf-5321-44df-e549-bfb28a1d6508"
      },
      "execution_count": 3,
      "outputs": [
        {
          "output_type": "execute_result",
          "data": {
            "text/plain": [
              "(84548, 22)"
            ]
          },
          "metadata": {},
          "execution_count": 3
        }
      ]
    },
    {
      "cell_type": "markdown",
      "source": [
        "## Data Cleaning"
      ],
      "metadata": {
        "id": "nWrlrh9foRPu"
      }
    },
    {
      "cell_type": "markdown",
      "source": [
        "Drop atau hapus kolom yang tidak dibutuhkan."
      ],
      "metadata": {
        "id": "JVXAaXDroTNj"
      }
    },
    {
      "cell_type": "code",
      "source": [
        "df.drop(columns = ['Unnamed: 0'], inplace=True)"
      ],
      "metadata": {
        "id": "2PoE23iGoWk4"
      },
      "execution_count": 4,
      "outputs": []
    },
    {
      "cell_type": "markdown",
      "source": [
        "Cek type data dari setiap kolom"
      ],
      "metadata": {
        "id": "FECsrQbeocFd"
      }
    },
    {
      "cell_type": "code",
      "source": [
        "df.info()"
      ],
      "metadata": {
        "colab": {
          "base_uri": "https://localhost:8080/"
        },
        "id": "iz4PF_CUoj-f",
        "outputId": "e8aa69d2-c714-4f4b-ebb5-6856d069336f"
      },
      "execution_count": 5,
      "outputs": [
        {
          "output_type": "stream",
          "name": "stdout",
          "text": [
            "<class 'pandas.core.frame.DataFrame'>\n",
            "RangeIndex: 84548 entries, 0 to 84547\n",
            "Data columns (total 21 columns):\n",
            " #   Column                          Non-Null Count  Dtype \n",
            "---  ------                          --------------  ----- \n",
            " 0   BOROUGH                         84548 non-null  int64 \n",
            " 1   NEIGHBORHOOD                    84548 non-null  object\n",
            " 2   BUILDING CLASS CATEGORY         84548 non-null  object\n",
            " 3   TAX CLASS AT PRESENT            84548 non-null  object\n",
            " 4   BLOCK                           84548 non-null  int64 \n",
            " 5   LOT                             84548 non-null  int64 \n",
            " 6   EASE-MENT                       84548 non-null  object\n",
            " 7   BUILDING CLASS AT PRESENT       84548 non-null  object\n",
            " 8   ADDRESS                         84548 non-null  object\n",
            " 9   APARTMENT NUMBER                84548 non-null  object\n",
            " 10  ZIP CODE                        84548 non-null  int64 \n",
            " 11  RESIDENTIAL UNITS               84548 non-null  int64 \n",
            " 12  COMMERCIAL UNITS                84548 non-null  int64 \n",
            " 13  TOTAL UNITS                     84548 non-null  int64 \n",
            " 14  LAND SQUARE FEET                84548 non-null  object\n",
            " 15  GROSS SQUARE FEET               84548 non-null  object\n",
            " 16  YEAR BUILT                      84548 non-null  int64 \n",
            " 17  TAX CLASS AT TIME OF SALE       84548 non-null  int64 \n",
            " 18  BUILDING CLASS AT TIME OF SALE  84548 non-null  object\n",
            " 19  SALE PRICE                      84548 non-null  object\n",
            " 20  SALE DATE                       84548 non-null  object\n",
            "dtypes: int64(9), object(12)\n",
            "memory usage: 13.5+ MB\n"
          ]
        }
      ]
    },
    {
      "cell_type": "markdown",
      "source": [
        "## Mengelompokkan kolom sesuai dengan klasifikasinya."
      ],
      "metadata": {
        "id": "ocsvlDLOooq5"
      }
    },
    {
      "cell_type": "code",
      "source": [
        "# Identifikasi kolom object\n",
        "print(df.select_dtypes(['object']).columns)"
      ],
      "metadata": {
        "colab": {
          "base_uri": "https://localhost:8080/"
        },
        "id": "YjNOKtp_otDa",
        "outputId": "a73a7d42-5159-49e1-b4a3-8813459de161"
      },
      "execution_count": 6,
      "outputs": [
        {
          "output_type": "stream",
          "name": "stdout",
          "text": [
            "Index(['NEIGHBORHOOD', 'BUILDING CLASS CATEGORY', 'TAX CLASS AT PRESENT',\n",
            "       'EASE-MENT', 'BUILDING CLASS AT PRESENT', 'ADDRESS', 'APARTMENT NUMBER',\n",
            "       'LAND SQUARE FEET', 'GROSS SQUARE FEET',\n",
            "       'BUILDING CLASS AT TIME OF SALE', 'SALE PRICE', 'SALE DATE'],\n",
            "      dtype='object')\n"
          ]
        }
      ]
    },
    {
      "cell_type": "code",
      "source": [
        "# Identifikasi kolom integer\n",
        "print(df.select_dtypes(['int64']).columns)"
      ],
      "metadata": {
        "colab": {
          "base_uri": "https://localhost:8080/"
        },
        "id": "UOOxZNq4oxJk",
        "outputId": "cd3f9f06-6938-4e96-99ed-4973ed1f743f"
      },
      "execution_count": 7,
      "outputs": [
        {
          "output_type": "stream",
          "name": "stdout",
          "text": [
            "Index(['BOROUGH', 'BLOCK', 'LOT', 'ZIP CODE', 'RESIDENTIAL UNITS',\n",
            "       'COMMERCIAL UNITS', 'TOTAL UNITS', 'YEAR BUILT',\n",
            "       'TAX CLASS AT TIME OF SALE'],\n",
            "      dtype='object')\n"
          ]
        }
      ]
    },
    {
      "cell_type": "code",
      "source": [
        "# Convert beberapa object ke variabel category\n",
        "obj_cats = ['NEIGHBORHOOD', 'BUILDING CLASS CATEGORY', 'TAX CLASS AT PRESENT',\n",
        "       'EASE-MENT', 'BUILDING CLASS AT PRESENT', 'ADDRESS', 'APARTMENT NUMBER',\n",
        "       'BUILDING CLASS AT TIME OF SALE']"
      ],
      "metadata": {
        "id": "Fe2d9c0jo0pA"
      },
      "execution_count": 8,
      "outputs": []
    },
    {
      "cell_type": "code",
      "source": [
        "# Convert beberapa int ke variabel category\n",
        "num_cats = ['BOROUGH', 'BLOCK', 'LOT', 'ZIP CODE',\n",
        "            'TAX CLASS AT TIME OF SALE']\n",
        "\n",
        "for colname in num_cats:\n",
        "  df[colname] = df[colname].astype('category')"
      ],
      "metadata": {
        "id": "Ttz7KP5Mo4OW"
      },
      "execution_count": 9,
      "outputs": []
    },
    {
      "cell_type": "code",
      "source": [
        "# cek type seluruh kolom\n",
        "df.info()"
      ],
      "metadata": {
        "colab": {
          "base_uri": "https://localhost:8080/"
        },
        "id": "nC6ry9TjpAQN",
        "outputId": "11b682d5-acc3-40c7-d265-48dcaf89ed2e"
      },
      "execution_count": 10,
      "outputs": [
        {
          "output_type": "stream",
          "name": "stdout",
          "text": [
            "<class 'pandas.core.frame.DataFrame'>\n",
            "RangeIndex: 84548 entries, 0 to 84547\n",
            "Data columns (total 21 columns):\n",
            " #   Column                          Non-Null Count  Dtype   \n",
            "---  ------                          --------------  -----   \n",
            " 0   BOROUGH                         84548 non-null  category\n",
            " 1   NEIGHBORHOOD                    84548 non-null  object  \n",
            " 2   BUILDING CLASS CATEGORY         84548 non-null  object  \n",
            " 3   TAX CLASS AT PRESENT            84548 non-null  object  \n",
            " 4   BLOCK                           84548 non-null  category\n",
            " 5   LOT                             84548 non-null  category\n",
            " 6   EASE-MENT                       84548 non-null  object  \n",
            " 7   BUILDING CLASS AT PRESENT       84548 non-null  object  \n",
            " 8   ADDRESS                         84548 non-null  object  \n",
            " 9   APARTMENT NUMBER                84548 non-null  object  \n",
            " 10  ZIP CODE                        84548 non-null  category\n",
            " 11  RESIDENTIAL UNITS               84548 non-null  int64   \n",
            " 12  COMMERCIAL UNITS                84548 non-null  int64   \n",
            " 13  TOTAL UNITS                     84548 non-null  int64   \n",
            " 14  LAND SQUARE FEET                84548 non-null  object  \n",
            " 15  GROSS SQUARE FEET               84548 non-null  object  \n",
            " 16  YEAR BUILT                      84548 non-null  int64   \n",
            " 17  TAX CLASS AT TIME OF SALE       84548 non-null  category\n",
            " 18  BUILDING CLASS AT TIME OF SALE  84548 non-null  object  \n",
            " 19  SALE PRICE                      84548 non-null  object  \n",
            " 20  SALE DATE                       84548 non-null  object  \n",
            "dtypes: category(5), int64(4), object(12)\n",
            "memory usage: 11.4+ MB\n"
          ]
        }
      ]
    },
    {
      "cell_type": "markdown",
      "source": [
        "## Convert type data object ke int dg pd.to_numeric, dan set errors to 'coerce'"
      ],
      "metadata": {
        "id": "ZBicECnypG0M"
      }
    },
    {
      "cell_type": "code",
      "source": [
        "num = ['LAND SQUARE FEET','GROSS SQUARE FEET', 'SALE PRICE']\n",
        "\n",
        "for col in num: #coerce for missing values\n",
        "  df[col] = pd.to_numeric(df[col], errors='coerce')"
      ],
      "metadata": {
        "id": "b1rej7_opBYw"
      },
      "execution_count": 11,
      "outputs": []
    },
    {
      "cell_type": "markdown",
      "source": [
        "## Convert SALE DATE to date object"
      ],
      "metadata": {
        "id": "07GNuuWApQWN"
      }
    },
    {
      "cell_type": "code",
      "source": [
        "df['SALE DATE'] = pd.to_datetime(df['SALE DATE'])"
      ],
      "metadata": {
        "id": "SPcPcAvypSNK"
      },
      "execution_count": 12,
      "outputs": []
    },
    {
      "cell_type": "code",
      "source": [
        "df.head(10)"
      ],
      "metadata": {
        "colab": {
          "base_uri": "https://localhost:8080/",
          "height": 1000
        },
        "id": "CgLnpdZZpZbj",
        "outputId": "0363cd13-02ee-4fc3-c770-089cae195a61"
      },
      "execution_count": 13,
      "outputs": [
        {
          "output_type": "execute_result",
          "data": {
            "text/plain": [
              "  BOROUGH   NEIGHBORHOOD                      BUILDING CLASS CATEGORY  \\\n",
              "0       1  ALPHABET CITY  07 RENTALS - WALKUP APARTMENTS                \n",
              "1       1  ALPHABET CITY  07 RENTALS - WALKUP APARTMENTS                \n",
              "2       1  ALPHABET CITY  07 RENTALS - WALKUP APARTMENTS                \n",
              "3       1  ALPHABET CITY  07 RENTALS - WALKUP APARTMENTS                \n",
              "4       1  ALPHABET CITY  07 RENTALS - WALKUP APARTMENTS                \n",
              "5       1  ALPHABET CITY  07 RENTALS - WALKUP APARTMENTS                \n",
              "6       1  ALPHABET CITY  07 RENTALS - WALKUP APARTMENTS                \n",
              "7       1  ALPHABET CITY  07 RENTALS - WALKUP APARTMENTS                \n",
              "8       1  ALPHABET CITY  08 RENTALS - ELEVATOR APARTMENTS              \n",
              "9       1  ALPHABET CITY  08 RENTALS - ELEVATOR APARTMENTS              \n",
              "\n",
              "  TAX CLASS AT PRESENT BLOCK  LOT EASE-MENT BUILDING CLASS AT PRESENT  \\\n",
              "0                   2A   392    6                                  C2   \n",
              "1                    2   399   26                                  C7   \n",
              "2                    2   399   39                                  C7   \n",
              "3                   2B   402   21                                  C4   \n",
              "4                   2A   404   55                                  C2   \n",
              "5                    2   405   16                                  C4   \n",
              "6                   2B   406   32                                  C4   \n",
              "7                    2   407   18                                  C7   \n",
              "8                    2   379   34                                  D5   \n",
              "9                    2   387  153                                  D9   \n",
              "\n",
              "                  ADDRESS APARTMENT NUMBER  ... RESIDENTIAL UNITS  \\\n",
              "0            153 AVENUE B                   ...                 5   \n",
              "1   234 EAST 4TH   STREET                   ...                28   \n",
              "2   197 EAST 3RD   STREET                   ...                16   \n",
              "3     154 EAST 7TH STREET                   ...                10   \n",
              "4  301 EAST 10TH   STREET                   ...                 6   \n",
              "5  516 EAST 12TH   STREET                   ...                20   \n",
              "6            210 AVENUE B                   ...                 8   \n",
              "7  520 EAST 14TH   STREET                   ...                44   \n",
              "8            141 AVENUE D                   ...                15   \n",
              "9     629 EAST 5TH STREET                   ...                24   \n",
              "\n",
              "   COMMERCIAL UNITS  TOTAL UNITS  LAND SQUARE FEET  GROSS SQUARE FEET  \\\n",
              "0                 0            5            1633.0             6440.0   \n",
              "1                 3           31            4616.0            18690.0   \n",
              "2                 1           17            2212.0             7803.0   \n",
              "3                 0           10            2272.0             6794.0   \n",
              "4                 0            6            2369.0             4615.0   \n",
              "5                 0           20            2581.0             9730.0   \n",
              "6                 0            8            1750.0             4226.0   \n",
              "7                 2           46            5163.0            21007.0   \n",
              "8                 0           15            1534.0             9198.0   \n",
              "9                 0           24            4489.0            18523.0   \n",
              "\n",
              "   YEAR BUILT  TAX CLASS AT TIME OF SALE BUILDING CLASS AT TIME OF SALE  \\\n",
              "0        1900                          2                             C2   \n",
              "1        1900                          2                             C7   \n",
              "2        1900                          2                             C7   \n",
              "3        1913                          2                             C4   \n",
              "4        1900                          2                             C2   \n",
              "5        1900                          2                             C4   \n",
              "6        1920                          2                             C4   \n",
              "7        1900                          2                             C7   \n",
              "8        1920                          2                             D5   \n",
              "9        1920                          2                             D9   \n",
              "\n",
              "   SALE PRICE  SALE DATE  \n",
              "0   6625000.0 2017-07-19  \n",
              "1         NaN 2016-12-14  \n",
              "2         NaN 2016-12-09  \n",
              "3   3936272.0 2016-09-23  \n",
              "4   8000000.0 2016-11-17  \n",
              "5         NaN 2017-07-20  \n",
              "6   3192840.0 2016-09-23  \n",
              "7         NaN 2017-07-20  \n",
              "8         NaN 2017-06-20  \n",
              "9  16232000.0 2016-11-07  \n",
              "\n",
              "[10 rows x 21 columns]"
            ],
            "text/html": [
              "\n",
              "  <div id=\"df-acfe7d75-0a09-4fb3-9acd-c34c845d250a\">\n",
              "    <div class=\"colab-df-container\">\n",
              "      <div>\n",
              "<style scoped>\n",
              "    .dataframe tbody tr th:only-of-type {\n",
              "        vertical-align: middle;\n",
              "    }\n",
              "\n",
              "    .dataframe tbody tr th {\n",
              "        vertical-align: top;\n",
              "    }\n",
              "\n",
              "    .dataframe thead th {\n",
              "        text-align: right;\n",
              "    }\n",
              "</style>\n",
              "<table border=\"1\" class=\"dataframe\">\n",
              "  <thead>\n",
              "    <tr style=\"text-align: right;\">\n",
              "      <th></th>\n",
              "      <th>BOROUGH</th>\n",
              "      <th>NEIGHBORHOOD</th>\n",
              "      <th>BUILDING CLASS CATEGORY</th>\n",
              "      <th>TAX CLASS AT PRESENT</th>\n",
              "      <th>BLOCK</th>\n",
              "      <th>LOT</th>\n",
              "      <th>EASE-MENT</th>\n",
              "      <th>BUILDING CLASS AT PRESENT</th>\n",
              "      <th>ADDRESS</th>\n",
              "      <th>APARTMENT NUMBER</th>\n",
              "      <th>...</th>\n",
              "      <th>RESIDENTIAL UNITS</th>\n",
              "      <th>COMMERCIAL UNITS</th>\n",
              "      <th>TOTAL UNITS</th>\n",
              "      <th>LAND SQUARE FEET</th>\n",
              "      <th>GROSS SQUARE FEET</th>\n",
              "      <th>YEAR BUILT</th>\n",
              "      <th>TAX CLASS AT TIME OF SALE</th>\n",
              "      <th>BUILDING CLASS AT TIME OF SALE</th>\n",
              "      <th>SALE PRICE</th>\n",
              "      <th>SALE DATE</th>\n",
              "    </tr>\n",
              "  </thead>\n",
              "  <tbody>\n",
              "    <tr>\n",
              "      <th>0</th>\n",
              "      <td>1</td>\n",
              "      <td>ALPHABET CITY</td>\n",
              "      <td>07 RENTALS - WALKUP APARTMENTS</td>\n",
              "      <td>2A</td>\n",
              "      <td>392</td>\n",
              "      <td>6</td>\n",
              "      <td></td>\n",
              "      <td>C2</td>\n",
              "      <td>153 AVENUE B</td>\n",
              "      <td></td>\n",
              "      <td>...</td>\n",
              "      <td>5</td>\n",
              "      <td>0</td>\n",
              "      <td>5</td>\n",
              "      <td>1633.0</td>\n",
              "      <td>6440.0</td>\n",
              "      <td>1900</td>\n",
              "      <td>2</td>\n",
              "      <td>C2</td>\n",
              "      <td>6625000.0</td>\n",
              "      <td>2017-07-19</td>\n",
              "    </tr>\n",
              "    <tr>\n",
              "      <th>1</th>\n",
              "      <td>1</td>\n",
              "      <td>ALPHABET CITY</td>\n",
              "      <td>07 RENTALS - WALKUP APARTMENTS</td>\n",
              "      <td>2</td>\n",
              "      <td>399</td>\n",
              "      <td>26</td>\n",
              "      <td></td>\n",
              "      <td>C7</td>\n",
              "      <td>234 EAST 4TH   STREET</td>\n",
              "      <td></td>\n",
              "      <td>...</td>\n",
              "      <td>28</td>\n",
              "      <td>3</td>\n",
              "      <td>31</td>\n",
              "      <td>4616.0</td>\n",
              "      <td>18690.0</td>\n",
              "      <td>1900</td>\n",
              "      <td>2</td>\n",
              "      <td>C7</td>\n",
              "      <td>NaN</td>\n",
              "      <td>2016-12-14</td>\n",
              "    </tr>\n",
              "    <tr>\n",
              "      <th>2</th>\n",
              "      <td>1</td>\n",
              "      <td>ALPHABET CITY</td>\n",
              "      <td>07 RENTALS - WALKUP APARTMENTS</td>\n",
              "      <td>2</td>\n",
              "      <td>399</td>\n",
              "      <td>39</td>\n",
              "      <td></td>\n",
              "      <td>C7</td>\n",
              "      <td>197 EAST 3RD   STREET</td>\n",
              "      <td></td>\n",
              "      <td>...</td>\n",
              "      <td>16</td>\n",
              "      <td>1</td>\n",
              "      <td>17</td>\n",
              "      <td>2212.0</td>\n",
              "      <td>7803.0</td>\n",
              "      <td>1900</td>\n",
              "      <td>2</td>\n",
              "      <td>C7</td>\n",
              "      <td>NaN</td>\n",
              "      <td>2016-12-09</td>\n",
              "    </tr>\n",
              "    <tr>\n",
              "      <th>3</th>\n",
              "      <td>1</td>\n",
              "      <td>ALPHABET CITY</td>\n",
              "      <td>07 RENTALS - WALKUP APARTMENTS</td>\n",
              "      <td>2B</td>\n",
              "      <td>402</td>\n",
              "      <td>21</td>\n",
              "      <td></td>\n",
              "      <td>C4</td>\n",
              "      <td>154 EAST 7TH STREET</td>\n",
              "      <td></td>\n",
              "      <td>...</td>\n",
              "      <td>10</td>\n",
              "      <td>0</td>\n",
              "      <td>10</td>\n",
              "      <td>2272.0</td>\n",
              "      <td>6794.0</td>\n",
              "      <td>1913</td>\n",
              "      <td>2</td>\n",
              "      <td>C4</td>\n",
              "      <td>3936272.0</td>\n",
              "      <td>2016-09-23</td>\n",
              "    </tr>\n",
              "    <tr>\n",
              "      <th>4</th>\n",
              "      <td>1</td>\n",
              "      <td>ALPHABET CITY</td>\n",
              "      <td>07 RENTALS - WALKUP APARTMENTS</td>\n",
              "      <td>2A</td>\n",
              "      <td>404</td>\n",
              "      <td>55</td>\n",
              "      <td></td>\n",
              "      <td>C2</td>\n",
              "      <td>301 EAST 10TH   STREET</td>\n",
              "      <td></td>\n",
              "      <td>...</td>\n",
              "      <td>6</td>\n",
              "      <td>0</td>\n",
              "      <td>6</td>\n",
              "      <td>2369.0</td>\n",
              "      <td>4615.0</td>\n",
              "      <td>1900</td>\n",
              "      <td>2</td>\n",
              "      <td>C2</td>\n",
              "      <td>8000000.0</td>\n",
              "      <td>2016-11-17</td>\n",
              "    </tr>\n",
              "    <tr>\n",
              "      <th>5</th>\n",
              "      <td>1</td>\n",
              "      <td>ALPHABET CITY</td>\n",
              "      <td>07 RENTALS - WALKUP APARTMENTS</td>\n",
              "      <td>2</td>\n",
              "      <td>405</td>\n",
              "      <td>16</td>\n",
              "      <td></td>\n",
              "      <td>C4</td>\n",
              "      <td>516 EAST 12TH   STREET</td>\n",
              "      <td></td>\n",
              "      <td>...</td>\n",
              "      <td>20</td>\n",
              "      <td>0</td>\n",
              "      <td>20</td>\n",
              "      <td>2581.0</td>\n",
              "      <td>9730.0</td>\n",
              "      <td>1900</td>\n",
              "      <td>2</td>\n",
              "      <td>C4</td>\n",
              "      <td>NaN</td>\n",
              "      <td>2017-07-20</td>\n",
              "    </tr>\n",
              "    <tr>\n",
              "      <th>6</th>\n",
              "      <td>1</td>\n",
              "      <td>ALPHABET CITY</td>\n",
              "      <td>07 RENTALS - WALKUP APARTMENTS</td>\n",
              "      <td>2B</td>\n",
              "      <td>406</td>\n",
              "      <td>32</td>\n",
              "      <td></td>\n",
              "      <td>C4</td>\n",
              "      <td>210 AVENUE B</td>\n",
              "      <td></td>\n",
              "      <td>...</td>\n",
              "      <td>8</td>\n",
              "      <td>0</td>\n",
              "      <td>8</td>\n",
              "      <td>1750.0</td>\n",
              "      <td>4226.0</td>\n",
              "      <td>1920</td>\n",
              "      <td>2</td>\n",
              "      <td>C4</td>\n",
              "      <td>3192840.0</td>\n",
              "      <td>2016-09-23</td>\n",
              "    </tr>\n",
              "    <tr>\n",
              "      <th>7</th>\n",
              "      <td>1</td>\n",
              "      <td>ALPHABET CITY</td>\n",
              "      <td>07 RENTALS - WALKUP APARTMENTS</td>\n",
              "      <td>2</td>\n",
              "      <td>407</td>\n",
              "      <td>18</td>\n",
              "      <td></td>\n",
              "      <td>C7</td>\n",
              "      <td>520 EAST 14TH   STREET</td>\n",
              "      <td></td>\n",
              "      <td>...</td>\n",
              "      <td>44</td>\n",
              "      <td>2</td>\n",
              "      <td>46</td>\n",
              "      <td>5163.0</td>\n",
              "      <td>21007.0</td>\n",
              "      <td>1900</td>\n",
              "      <td>2</td>\n",
              "      <td>C7</td>\n",
              "      <td>NaN</td>\n",
              "      <td>2017-07-20</td>\n",
              "    </tr>\n",
              "    <tr>\n",
              "      <th>8</th>\n",
              "      <td>1</td>\n",
              "      <td>ALPHABET CITY</td>\n",
              "      <td>08 RENTALS - ELEVATOR APARTMENTS</td>\n",
              "      <td>2</td>\n",
              "      <td>379</td>\n",
              "      <td>34</td>\n",
              "      <td></td>\n",
              "      <td>D5</td>\n",
              "      <td>141 AVENUE D</td>\n",
              "      <td></td>\n",
              "      <td>...</td>\n",
              "      <td>15</td>\n",
              "      <td>0</td>\n",
              "      <td>15</td>\n",
              "      <td>1534.0</td>\n",
              "      <td>9198.0</td>\n",
              "      <td>1920</td>\n",
              "      <td>2</td>\n",
              "      <td>D5</td>\n",
              "      <td>NaN</td>\n",
              "      <td>2017-06-20</td>\n",
              "    </tr>\n",
              "    <tr>\n",
              "      <th>9</th>\n",
              "      <td>1</td>\n",
              "      <td>ALPHABET CITY</td>\n",
              "      <td>08 RENTALS - ELEVATOR APARTMENTS</td>\n",
              "      <td>2</td>\n",
              "      <td>387</td>\n",
              "      <td>153</td>\n",
              "      <td></td>\n",
              "      <td>D9</td>\n",
              "      <td>629 EAST 5TH STREET</td>\n",
              "      <td></td>\n",
              "      <td>...</td>\n",
              "      <td>24</td>\n",
              "      <td>0</td>\n",
              "      <td>24</td>\n",
              "      <td>4489.0</td>\n",
              "      <td>18523.0</td>\n",
              "      <td>1920</td>\n",
              "      <td>2</td>\n",
              "      <td>D9</td>\n",
              "      <td>16232000.0</td>\n",
              "      <td>2016-11-07</td>\n",
              "    </tr>\n",
              "  </tbody>\n",
              "</table>\n",
              "<p>10 rows × 21 columns</p>\n",
              "</div>\n",
              "      <button class=\"colab-df-convert\" onclick=\"convertToInteractive('df-acfe7d75-0a09-4fb3-9acd-c34c845d250a')\"\n",
              "              title=\"Convert this dataframe to an interactive table.\"\n",
              "              style=\"display:none;\">\n",
              "        \n",
              "  <svg xmlns=\"http://www.w3.org/2000/svg\" height=\"24px\"viewBox=\"0 0 24 24\"\n",
              "       width=\"24px\">\n",
              "    <path d=\"M0 0h24v24H0V0z\" fill=\"none\"/>\n",
              "    <path d=\"M18.56 5.44l.94 2.06.94-2.06 2.06-.94-2.06-.94-.94-2.06-.94 2.06-2.06.94zm-11 1L8.5 8.5l.94-2.06 2.06-.94-2.06-.94L8.5 2.5l-.94 2.06-2.06.94zm10 10l.94 2.06.94-2.06 2.06-.94-2.06-.94-.94-2.06-.94 2.06-2.06.94z\"/><path d=\"M17.41 7.96l-1.37-1.37c-.4-.4-.92-.59-1.43-.59-.52 0-1.04.2-1.43.59L10.3 9.45l-7.72 7.72c-.78.78-.78 2.05 0 2.83L4 21.41c.39.39.9.59 1.41.59.51 0 1.02-.2 1.41-.59l7.78-7.78 2.81-2.81c.8-.78.8-2.07 0-2.86zM5.41 20L4 18.59l7.72-7.72 1.47 1.35L5.41 20z\"/>\n",
              "  </svg>\n",
              "      </button>\n",
              "      \n",
              "  <style>\n",
              "    .colab-df-container {\n",
              "      display:flex;\n",
              "      flex-wrap:wrap;\n",
              "      gap: 12px;\n",
              "    }\n",
              "\n",
              "    .colab-df-convert {\n",
              "      background-color: #E8F0FE;\n",
              "      border: none;\n",
              "      border-radius: 50%;\n",
              "      cursor: pointer;\n",
              "      display: none;\n",
              "      fill: #1967D2;\n",
              "      height: 32px;\n",
              "      padding: 0 0 0 0;\n",
              "      width: 32px;\n",
              "    }\n",
              "\n",
              "    .colab-df-convert:hover {\n",
              "      background-color: #E2EBFA;\n",
              "      box-shadow: 0px 1px 2px rgba(60, 64, 67, 0.3), 0px 1px 3px 1px rgba(60, 64, 67, 0.15);\n",
              "      fill: #174EA6;\n",
              "    }\n",
              "\n",
              "    [theme=dark] .colab-df-convert {\n",
              "      background-color: #3B4455;\n",
              "      fill: #D2E3FC;\n",
              "    }\n",
              "\n",
              "    [theme=dark] .colab-df-convert:hover {\n",
              "      background-color: #434B5C;\n",
              "      box-shadow: 0px 1px 3px 1px rgba(0, 0, 0, 0.15);\n",
              "      filter: drop-shadow(0px 1px 2px rgba(0, 0, 0, 0.3));\n",
              "      fill: #FFFFFF;\n",
              "    }\n",
              "  </style>\n",
              "\n",
              "      <script>\n",
              "        const buttonEl =\n",
              "          document.querySelector('#df-acfe7d75-0a09-4fb3-9acd-c34c845d250a button.colab-df-convert');\n",
              "        buttonEl.style.display =\n",
              "          google.colab.kernel.accessAllowed ? 'block' : 'none';\n",
              "\n",
              "        async function convertToInteractive(key) {\n",
              "          const element = document.querySelector('#df-acfe7d75-0a09-4fb3-9acd-c34c845d250a');\n",
              "          const dataTable =\n",
              "            await google.colab.kernel.invokeFunction('convertToInteractive',\n",
              "                                                     [key], {});\n",
              "          if (!dataTable) return;\n",
              "\n",
              "          const docLinkHtml = 'Like what you see? Visit the ' +\n",
              "            '<a target=\"_blank\" href=https://colab.research.google.com/notebooks/data_table.ipynb>data table notebook</a>'\n",
              "            + ' to learn more about interactive tables.';\n",
              "          element.innerHTML = '';\n",
              "          dataTable['output_type'] = 'display_data';\n",
              "          await google.colab.output.renderOutput(dataTable, element);\n",
              "          const docLink = document.createElement('div');\n",
              "          docLink.innerHTML = docLinkHtml;\n",
              "          element.appendChild(docLink);\n",
              "        }\n",
              "      </script>\n",
              "    </div>\n",
              "  </div>\n",
              "  "
            ]
          },
          "metadata": {},
          "execution_count": 13
        }
      ]
    },
    {
      "cell_type": "markdown",
      "source": [
        "Rename nama kolom dan tambah _ agar memudahkan processing"
      ],
      "metadata": {
        "id": "MKA61_iYpyg3"
      }
    },
    {
      "cell_type": "code",
      "source": [
        "df.columns = df.columns.str.replace(' ', '_')"
      ],
      "metadata": {
        "id": "mOxkSRbAp1iA"
      },
      "execution_count": 14,
      "outputs": []
    },
    {
      "cell_type": "markdown",
      "source": [
        "Ubah nama kolom menjadi lowercase agar lebih efisien."
      ],
      "metadata": {
        "id": "liIyq3EYqHQF"
      }
    },
    {
      "cell_type": "code",
      "source": [
        "df.columns = df.columns.str.lower()\n",
        "df.columns"
      ],
      "metadata": {
        "colab": {
          "base_uri": "https://localhost:8080/"
        },
        "id": "M8Q3a98FqLn1",
        "outputId": "73ac5bce-2907-4e02-a49e-7f577faf6833"
      },
      "execution_count": 15,
      "outputs": [
        {
          "output_type": "execute_result",
          "data": {
            "text/plain": [
              "Index(['borough', 'neighborhood', 'building_class_category',\n",
              "       'tax_class_at_present', 'block', 'lot', 'ease-ment',\n",
              "       'building_class_at_present', 'address', 'apartment_number', 'zip_code',\n",
              "       'residential_units', 'commercial_units', 'total_units',\n",
              "       'land_square_feet', 'gross_square_feet', 'year_built',\n",
              "       'tax_class_at_time_of_sale', 'building_class_at_time_of_sale',\n",
              "       'sale_price', 'sale_date'],\n",
              "      dtype='object')"
            ]
          },
          "metadata": {},
          "execution_count": 15
        }
      ]
    },
    {
      "cell_type": "markdown",
      "source": [
        "Buat kolom baru yang dibutuhkan"
      ],
      "metadata": {
        "id": "H03_6DZ_rg--"
      }
    },
    {
      "cell_type": "code",
      "source": [
        "# buat kolom age yang menunjukkan umur properti\n",
        "df['age'] = 2023 - df['year_built']\n",
        "\n",
        "# kelompokkan properti berdasarkan umurnya, pre atau post war\n",
        "df['age_category'] = np.where(df['age']>=76, 'Pre-War', 'Post-War')\n",
        "\n",
        "# convert kolom dalam type category\n",
        "df['age_category'] = df['age_category'].astype('category')\n",
        "\n",
        "df.head(10)"
      ],
      "metadata": {
        "colab": {
          "base_uri": "https://localhost:8080/",
          "height": 942
        },
        "id": "2oqRYhCRrjQO",
        "outputId": "3613e4df-80a6-44dd-f4a7-e0045e5ba48d"
      },
      "execution_count": 16,
      "outputs": [
        {
          "output_type": "execute_result",
          "data": {
            "text/plain": [
              "  borough   neighborhood                      building_class_category  \\\n",
              "0       1  ALPHABET CITY  07 RENTALS - WALKUP APARTMENTS                \n",
              "1       1  ALPHABET CITY  07 RENTALS - WALKUP APARTMENTS                \n",
              "2       1  ALPHABET CITY  07 RENTALS - WALKUP APARTMENTS                \n",
              "3       1  ALPHABET CITY  07 RENTALS - WALKUP APARTMENTS                \n",
              "4       1  ALPHABET CITY  07 RENTALS - WALKUP APARTMENTS                \n",
              "5       1  ALPHABET CITY  07 RENTALS - WALKUP APARTMENTS                \n",
              "6       1  ALPHABET CITY  07 RENTALS - WALKUP APARTMENTS                \n",
              "7       1  ALPHABET CITY  07 RENTALS - WALKUP APARTMENTS                \n",
              "8       1  ALPHABET CITY  08 RENTALS - ELEVATOR APARTMENTS              \n",
              "9       1  ALPHABET CITY  08 RENTALS - ELEVATOR APARTMENTS              \n",
              "\n",
              "  tax_class_at_present block  lot ease-ment building_class_at_present  \\\n",
              "0                   2A   392    6                                  C2   \n",
              "1                    2   399   26                                  C7   \n",
              "2                    2   399   39                                  C7   \n",
              "3                   2B   402   21                                  C4   \n",
              "4                   2A   404   55                                  C2   \n",
              "5                    2   405   16                                  C4   \n",
              "6                   2B   406   32                                  C4   \n",
              "7                    2   407   18                                  C7   \n",
              "8                    2   379   34                                  D5   \n",
              "9                    2   387  153                                  D9   \n",
              "\n",
              "                  address apartment_number  ... total_units  land_square_feet  \\\n",
              "0            153 AVENUE B                   ...           5            1633.0   \n",
              "1   234 EAST 4TH   STREET                   ...          31            4616.0   \n",
              "2   197 EAST 3RD   STREET                   ...          17            2212.0   \n",
              "3     154 EAST 7TH STREET                   ...          10            2272.0   \n",
              "4  301 EAST 10TH   STREET                   ...           6            2369.0   \n",
              "5  516 EAST 12TH   STREET                   ...          20            2581.0   \n",
              "6            210 AVENUE B                   ...           8            1750.0   \n",
              "7  520 EAST 14TH   STREET                   ...          46            5163.0   \n",
              "8            141 AVENUE D                   ...          15            1534.0   \n",
              "9     629 EAST 5TH STREET                   ...          24            4489.0   \n",
              "\n",
              "   gross_square_feet  year_built  tax_class_at_time_of_sale  \\\n",
              "0             6440.0        1900                          2   \n",
              "1            18690.0        1900                          2   \n",
              "2             7803.0        1900                          2   \n",
              "3             6794.0        1913                          2   \n",
              "4             4615.0        1900                          2   \n",
              "5             9730.0        1900                          2   \n",
              "6             4226.0        1920                          2   \n",
              "7            21007.0        1900                          2   \n",
              "8             9198.0        1920                          2   \n",
              "9            18523.0        1920                          2   \n",
              "\n",
              "   building_class_at_time_of_sale  sale_price  sale_date  age  age_category  \n",
              "0                              C2   6625000.0 2017-07-19  123       Pre-War  \n",
              "1                              C7         NaN 2016-12-14  123       Pre-War  \n",
              "2                              C7         NaN 2016-12-09  123       Pre-War  \n",
              "3                              C4   3936272.0 2016-09-23  110       Pre-War  \n",
              "4                              C2   8000000.0 2016-11-17  123       Pre-War  \n",
              "5                              C4         NaN 2017-07-20  123       Pre-War  \n",
              "6                              C4   3192840.0 2016-09-23  103       Pre-War  \n",
              "7                              C7         NaN 2017-07-20  123       Pre-War  \n",
              "8                              D5         NaN 2017-06-20  103       Pre-War  \n",
              "9                              D9  16232000.0 2016-11-07  103       Pre-War  \n",
              "\n",
              "[10 rows x 23 columns]"
            ],
            "text/html": [
              "\n",
              "  <div id=\"df-0cdd54eb-9e2f-483d-8a94-c1862e7c8082\">\n",
              "    <div class=\"colab-df-container\">\n",
              "      <div>\n",
              "<style scoped>\n",
              "    .dataframe tbody tr th:only-of-type {\n",
              "        vertical-align: middle;\n",
              "    }\n",
              "\n",
              "    .dataframe tbody tr th {\n",
              "        vertical-align: top;\n",
              "    }\n",
              "\n",
              "    .dataframe thead th {\n",
              "        text-align: right;\n",
              "    }\n",
              "</style>\n",
              "<table border=\"1\" class=\"dataframe\">\n",
              "  <thead>\n",
              "    <tr style=\"text-align: right;\">\n",
              "      <th></th>\n",
              "      <th>borough</th>\n",
              "      <th>neighborhood</th>\n",
              "      <th>building_class_category</th>\n",
              "      <th>tax_class_at_present</th>\n",
              "      <th>block</th>\n",
              "      <th>lot</th>\n",
              "      <th>ease-ment</th>\n",
              "      <th>building_class_at_present</th>\n",
              "      <th>address</th>\n",
              "      <th>apartment_number</th>\n",
              "      <th>...</th>\n",
              "      <th>total_units</th>\n",
              "      <th>land_square_feet</th>\n",
              "      <th>gross_square_feet</th>\n",
              "      <th>year_built</th>\n",
              "      <th>tax_class_at_time_of_sale</th>\n",
              "      <th>building_class_at_time_of_sale</th>\n",
              "      <th>sale_price</th>\n",
              "      <th>sale_date</th>\n",
              "      <th>age</th>\n",
              "      <th>age_category</th>\n",
              "    </tr>\n",
              "  </thead>\n",
              "  <tbody>\n",
              "    <tr>\n",
              "      <th>0</th>\n",
              "      <td>1</td>\n",
              "      <td>ALPHABET CITY</td>\n",
              "      <td>07 RENTALS - WALKUP APARTMENTS</td>\n",
              "      <td>2A</td>\n",
              "      <td>392</td>\n",
              "      <td>6</td>\n",
              "      <td></td>\n",
              "      <td>C2</td>\n",
              "      <td>153 AVENUE B</td>\n",
              "      <td></td>\n",
              "      <td>...</td>\n",
              "      <td>5</td>\n",
              "      <td>1633.0</td>\n",
              "      <td>6440.0</td>\n",
              "      <td>1900</td>\n",
              "      <td>2</td>\n",
              "      <td>C2</td>\n",
              "      <td>6625000.0</td>\n",
              "      <td>2017-07-19</td>\n",
              "      <td>123</td>\n",
              "      <td>Pre-War</td>\n",
              "    </tr>\n",
              "    <tr>\n",
              "      <th>1</th>\n",
              "      <td>1</td>\n",
              "      <td>ALPHABET CITY</td>\n",
              "      <td>07 RENTALS - WALKUP APARTMENTS</td>\n",
              "      <td>2</td>\n",
              "      <td>399</td>\n",
              "      <td>26</td>\n",
              "      <td></td>\n",
              "      <td>C7</td>\n",
              "      <td>234 EAST 4TH   STREET</td>\n",
              "      <td></td>\n",
              "      <td>...</td>\n",
              "      <td>31</td>\n",
              "      <td>4616.0</td>\n",
              "      <td>18690.0</td>\n",
              "      <td>1900</td>\n",
              "      <td>2</td>\n",
              "      <td>C7</td>\n",
              "      <td>NaN</td>\n",
              "      <td>2016-12-14</td>\n",
              "      <td>123</td>\n",
              "      <td>Pre-War</td>\n",
              "    </tr>\n",
              "    <tr>\n",
              "      <th>2</th>\n",
              "      <td>1</td>\n",
              "      <td>ALPHABET CITY</td>\n",
              "      <td>07 RENTALS - WALKUP APARTMENTS</td>\n",
              "      <td>2</td>\n",
              "      <td>399</td>\n",
              "      <td>39</td>\n",
              "      <td></td>\n",
              "      <td>C7</td>\n",
              "      <td>197 EAST 3RD   STREET</td>\n",
              "      <td></td>\n",
              "      <td>...</td>\n",
              "      <td>17</td>\n",
              "      <td>2212.0</td>\n",
              "      <td>7803.0</td>\n",
              "      <td>1900</td>\n",
              "      <td>2</td>\n",
              "      <td>C7</td>\n",
              "      <td>NaN</td>\n",
              "      <td>2016-12-09</td>\n",
              "      <td>123</td>\n",
              "      <td>Pre-War</td>\n",
              "    </tr>\n",
              "    <tr>\n",
              "      <th>3</th>\n",
              "      <td>1</td>\n",
              "      <td>ALPHABET CITY</td>\n",
              "      <td>07 RENTALS - WALKUP APARTMENTS</td>\n",
              "      <td>2B</td>\n",
              "      <td>402</td>\n",
              "      <td>21</td>\n",
              "      <td></td>\n",
              "      <td>C4</td>\n",
              "      <td>154 EAST 7TH STREET</td>\n",
              "      <td></td>\n",
              "      <td>...</td>\n",
              "      <td>10</td>\n",
              "      <td>2272.0</td>\n",
              "      <td>6794.0</td>\n",
              "      <td>1913</td>\n",
              "      <td>2</td>\n",
              "      <td>C4</td>\n",
              "      <td>3936272.0</td>\n",
              "      <td>2016-09-23</td>\n",
              "      <td>110</td>\n",
              "      <td>Pre-War</td>\n",
              "    </tr>\n",
              "    <tr>\n",
              "      <th>4</th>\n",
              "      <td>1</td>\n",
              "      <td>ALPHABET CITY</td>\n",
              "      <td>07 RENTALS - WALKUP APARTMENTS</td>\n",
              "      <td>2A</td>\n",
              "      <td>404</td>\n",
              "      <td>55</td>\n",
              "      <td></td>\n",
              "      <td>C2</td>\n",
              "      <td>301 EAST 10TH   STREET</td>\n",
              "      <td></td>\n",
              "      <td>...</td>\n",
              "      <td>6</td>\n",
              "      <td>2369.0</td>\n",
              "      <td>4615.0</td>\n",
              "      <td>1900</td>\n",
              "      <td>2</td>\n",
              "      <td>C2</td>\n",
              "      <td>8000000.0</td>\n",
              "      <td>2016-11-17</td>\n",
              "      <td>123</td>\n",
              "      <td>Pre-War</td>\n",
              "    </tr>\n",
              "    <tr>\n",
              "      <th>5</th>\n",
              "      <td>1</td>\n",
              "      <td>ALPHABET CITY</td>\n",
              "      <td>07 RENTALS - WALKUP APARTMENTS</td>\n",
              "      <td>2</td>\n",
              "      <td>405</td>\n",
              "      <td>16</td>\n",
              "      <td></td>\n",
              "      <td>C4</td>\n",
              "      <td>516 EAST 12TH   STREET</td>\n",
              "      <td></td>\n",
              "      <td>...</td>\n",
              "      <td>20</td>\n",
              "      <td>2581.0</td>\n",
              "      <td>9730.0</td>\n",
              "      <td>1900</td>\n",
              "      <td>2</td>\n",
              "      <td>C4</td>\n",
              "      <td>NaN</td>\n",
              "      <td>2017-07-20</td>\n",
              "      <td>123</td>\n",
              "      <td>Pre-War</td>\n",
              "    </tr>\n",
              "    <tr>\n",
              "      <th>6</th>\n",
              "      <td>1</td>\n",
              "      <td>ALPHABET CITY</td>\n",
              "      <td>07 RENTALS - WALKUP APARTMENTS</td>\n",
              "      <td>2B</td>\n",
              "      <td>406</td>\n",
              "      <td>32</td>\n",
              "      <td></td>\n",
              "      <td>C4</td>\n",
              "      <td>210 AVENUE B</td>\n",
              "      <td></td>\n",
              "      <td>...</td>\n",
              "      <td>8</td>\n",
              "      <td>1750.0</td>\n",
              "      <td>4226.0</td>\n",
              "      <td>1920</td>\n",
              "      <td>2</td>\n",
              "      <td>C4</td>\n",
              "      <td>3192840.0</td>\n",
              "      <td>2016-09-23</td>\n",
              "      <td>103</td>\n",
              "      <td>Pre-War</td>\n",
              "    </tr>\n",
              "    <tr>\n",
              "      <th>7</th>\n",
              "      <td>1</td>\n",
              "      <td>ALPHABET CITY</td>\n",
              "      <td>07 RENTALS - WALKUP APARTMENTS</td>\n",
              "      <td>2</td>\n",
              "      <td>407</td>\n",
              "      <td>18</td>\n",
              "      <td></td>\n",
              "      <td>C7</td>\n",
              "      <td>520 EAST 14TH   STREET</td>\n",
              "      <td></td>\n",
              "      <td>...</td>\n",
              "      <td>46</td>\n",
              "      <td>5163.0</td>\n",
              "      <td>21007.0</td>\n",
              "      <td>1900</td>\n",
              "      <td>2</td>\n",
              "      <td>C7</td>\n",
              "      <td>NaN</td>\n",
              "      <td>2017-07-20</td>\n",
              "      <td>123</td>\n",
              "      <td>Pre-War</td>\n",
              "    </tr>\n",
              "    <tr>\n",
              "      <th>8</th>\n",
              "      <td>1</td>\n",
              "      <td>ALPHABET CITY</td>\n",
              "      <td>08 RENTALS - ELEVATOR APARTMENTS</td>\n",
              "      <td>2</td>\n",
              "      <td>379</td>\n",
              "      <td>34</td>\n",
              "      <td></td>\n",
              "      <td>D5</td>\n",
              "      <td>141 AVENUE D</td>\n",
              "      <td></td>\n",
              "      <td>...</td>\n",
              "      <td>15</td>\n",
              "      <td>1534.0</td>\n",
              "      <td>9198.0</td>\n",
              "      <td>1920</td>\n",
              "      <td>2</td>\n",
              "      <td>D5</td>\n",
              "      <td>NaN</td>\n",
              "      <td>2017-06-20</td>\n",
              "      <td>103</td>\n",
              "      <td>Pre-War</td>\n",
              "    </tr>\n",
              "    <tr>\n",
              "      <th>9</th>\n",
              "      <td>1</td>\n",
              "      <td>ALPHABET CITY</td>\n",
              "      <td>08 RENTALS - ELEVATOR APARTMENTS</td>\n",
              "      <td>2</td>\n",
              "      <td>387</td>\n",
              "      <td>153</td>\n",
              "      <td></td>\n",
              "      <td>D9</td>\n",
              "      <td>629 EAST 5TH STREET</td>\n",
              "      <td></td>\n",
              "      <td>...</td>\n",
              "      <td>24</td>\n",
              "      <td>4489.0</td>\n",
              "      <td>18523.0</td>\n",
              "      <td>1920</td>\n",
              "      <td>2</td>\n",
              "      <td>D9</td>\n",
              "      <td>16232000.0</td>\n",
              "      <td>2016-11-07</td>\n",
              "      <td>103</td>\n",
              "      <td>Pre-War</td>\n",
              "    </tr>\n",
              "  </tbody>\n",
              "</table>\n",
              "<p>10 rows × 23 columns</p>\n",
              "</div>\n",
              "      <button class=\"colab-df-convert\" onclick=\"convertToInteractive('df-0cdd54eb-9e2f-483d-8a94-c1862e7c8082')\"\n",
              "              title=\"Convert this dataframe to an interactive table.\"\n",
              "              style=\"display:none;\">\n",
              "        \n",
              "  <svg xmlns=\"http://www.w3.org/2000/svg\" height=\"24px\"viewBox=\"0 0 24 24\"\n",
              "       width=\"24px\">\n",
              "    <path d=\"M0 0h24v24H0V0z\" fill=\"none\"/>\n",
              "    <path d=\"M18.56 5.44l.94 2.06.94-2.06 2.06-.94-2.06-.94-.94-2.06-.94 2.06-2.06.94zm-11 1L8.5 8.5l.94-2.06 2.06-.94-2.06-.94L8.5 2.5l-.94 2.06-2.06.94zm10 10l.94 2.06.94-2.06 2.06-.94-2.06-.94-.94-2.06-.94 2.06-2.06.94z\"/><path d=\"M17.41 7.96l-1.37-1.37c-.4-.4-.92-.59-1.43-.59-.52 0-1.04.2-1.43.59L10.3 9.45l-7.72 7.72c-.78.78-.78 2.05 0 2.83L4 21.41c.39.39.9.59 1.41.59.51 0 1.02-.2 1.41-.59l7.78-7.78 2.81-2.81c.8-.78.8-2.07 0-2.86zM5.41 20L4 18.59l7.72-7.72 1.47 1.35L5.41 20z\"/>\n",
              "  </svg>\n",
              "      </button>\n",
              "      \n",
              "  <style>\n",
              "    .colab-df-container {\n",
              "      display:flex;\n",
              "      flex-wrap:wrap;\n",
              "      gap: 12px;\n",
              "    }\n",
              "\n",
              "    .colab-df-convert {\n",
              "      background-color: #E8F0FE;\n",
              "      border: none;\n",
              "      border-radius: 50%;\n",
              "      cursor: pointer;\n",
              "      display: none;\n",
              "      fill: #1967D2;\n",
              "      height: 32px;\n",
              "      padding: 0 0 0 0;\n",
              "      width: 32px;\n",
              "    }\n",
              "\n",
              "    .colab-df-convert:hover {\n",
              "      background-color: #E2EBFA;\n",
              "      box-shadow: 0px 1px 2px rgba(60, 64, 67, 0.3), 0px 1px 3px 1px rgba(60, 64, 67, 0.15);\n",
              "      fill: #174EA6;\n",
              "    }\n",
              "\n",
              "    [theme=dark] .colab-df-convert {\n",
              "      background-color: #3B4455;\n",
              "      fill: #D2E3FC;\n",
              "    }\n",
              "\n",
              "    [theme=dark] .colab-df-convert:hover {\n",
              "      background-color: #434B5C;\n",
              "      box-shadow: 0px 1px 3px 1px rgba(0, 0, 0, 0.15);\n",
              "      filter: drop-shadow(0px 1px 2px rgba(0, 0, 0, 0.3));\n",
              "      fill: #FFFFFF;\n",
              "    }\n",
              "  </style>\n",
              "\n",
              "      <script>\n",
              "        const buttonEl =\n",
              "          document.querySelector('#df-0cdd54eb-9e2f-483d-8a94-c1862e7c8082 button.colab-df-convert');\n",
              "        buttonEl.style.display =\n",
              "          google.colab.kernel.accessAllowed ? 'block' : 'none';\n",
              "\n",
              "        async function convertToInteractive(key) {\n",
              "          const element = document.querySelector('#df-0cdd54eb-9e2f-483d-8a94-c1862e7c8082');\n",
              "          const dataTable =\n",
              "            await google.colab.kernel.invokeFunction('convertToInteractive',\n",
              "                                                     [key], {});\n",
              "          if (!dataTable) return;\n",
              "\n",
              "          const docLinkHtml = 'Like what you see? Visit the ' +\n",
              "            '<a target=\"_blank\" href=https://colab.research.google.com/notebooks/data_table.ipynb>data table notebook</a>'\n",
              "            + ' to learn more about interactive tables.';\n",
              "          element.innerHTML = '';\n",
              "          dataTable['output_type'] = 'display_data';\n",
              "          await google.colab.output.renderOutput(dataTable, element);\n",
              "          const docLink = document.createElement('div');\n",
              "          docLink.innerHTML = docLinkHtml;\n",
              "          element.appendChild(docLink);\n",
              "        }\n",
              "      </script>\n",
              "    </div>\n",
              "  </div>\n",
              "  "
            ]
          },
          "metadata": {},
          "execution_count": 16
        }
      ]
    },
    {
      "cell_type": "code",
      "source": [
        "# menambah kolom sale_price_in_m\n",
        "df['sale_price_in_m'] = df['sale_price'].astype(np.float64) / 1000000"
      ],
      "metadata": {
        "id": "-0ITYWydruix"
      },
      "execution_count": 17,
      "outputs": []
    },
    {
      "cell_type": "code",
      "source": [
        "# set numerical indicator kolom borough astype str kemudian replace sesuai nama borough\n",
        "df['borough'] = df['borough'].astype(str)\n",
        "df['borough'] = df['borough'].str.replace(\"1\", \"Manhattan\")\n",
        "df['borough'] = df['borough'].str.replace(\"2\", \"Bronx\")\n",
        "df['borough'] = df['borough'].str.replace(\"3\", \"Brooklyn\")\n",
        "df['borough'] = df['borough'].str.replace(\"4\", \"Queens\")\n",
        "df['borough'] = df['borough'].str.replace(\"5\", \"Staten Island\")"
      ],
      "metadata": {
        "id": "X7I8x5lgrv9O"
      },
      "execution_count": 18,
      "outputs": []
    },
    {
      "cell_type": "markdown",
      "source": [
        "## Missing Values"
      ],
      "metadata": {
        "id": "VBgriptAsADT"
      }
    },
    {
      "cell_type": "code",
      "source": [
        "# hitung missing values\n",
        "df.isnull().sum()"
      ],
      "metadata": {
        "colab": {
          "base_uri": "https://localhost:8080/"
        },
        "id": "OyU1C8LUsCPA",
        "outputId": "5f8abebf-8f0f-4769-9f85-e8a276dd15ae"
      },
      "execution_count": 19,
      "outputs": [
        {
          "output_type": "execute_result",
          "data": {
            "text/plain": [
              "borough                               0\n",
              "neighborhood                          0\n",
              "building_class_category               0\n",
              "tax_class_at_present                  0\n",
              "block                                 0\n",
              "lot                                   0\n",
              "ease-ment                             0\n",
              "building_class_at_present             0\n",
              "address                               0\n",
              "apartment_number                      0\n",
              "zip_code                              0\n",
              "residential_units                     0\n",
              "commercial_units                      0\n",
              "total_units                           0\n",
              "land_square_feet                  26252\n",
              "gross_square_feet                 27612\n",
              "year_built                            0\n",
              "tax_class_at_time_of_sale             0\n",
              "building_class_at_time_of_sale        0\n",
              "sale_price                        14561\n",
              "sale_date                             0\n",
              "age                                   0\n",
              "age_category                          0\n",
              "sale_price_in_m                   14561\n",
              "dtype: int64"
            ]
          },
          "metadata": {},
          "execution_count": 19
        }
      ]
    },
    {
      "cell_type": "code",
      "source": [
        "# remove missing values\n",
        "df = df.dropna()"
      ],
      "metadata": {
        "id": "ZWzcP04Gy15k"
      },
      "execution_count": 20,
      "outputs": []
    },
    {
      "cell_type": "code",
      "source": [
        "# cek kembali jumlah missing values\n",
        "df.isnull().sum()"
      ],
      "metadata": {
        "colab": {
          "base_uri": "https://localhost:8080/"
        },
        "id": "vC7w104my49t",
        "outputId": "26528cf9-beda-440d-e731-8d353fcd83d6"
      },
      "execution_count": 21,
      "outputs": [
        {
          "output_type": "execute_result",
          "data": {
            "text/plain": [
              "borough                           0\n",
              "neighborhood                      0\n",
              "building_class_category           0\n",
              "tax_class_at_present              0\n",
              "block                             0\n",
              "lot                               0\n",
              "ease-ment                         0\n",
              "building_class_at_present         0\n",
              "address                           0\n",
              "apartment_number                  0\n",
              "zip_code                          0\n",
              "residential_units                 0\n",
              "commercial_units                  0\n",
              "total_units                       0\n",
              "land_square_feet                  0\n",
              "gross_square_feet                 0\n",
              "year_built                        0\n",
              "tax_class_at_time_of_sale         0\n",
              "building_class_at_time_of_sale    0\n",
              "sale_price                        0\n",
              "sale_date                         0\n",
              "age                               0\n",
              "age_category                      0\n",
              "sale_price_in_m                   0\n",
              "dtype: int64"
            ]
          },
          "metadata": {},
          "execution_count": 21
        }
      ]
    },
    {
      "cell_type": "markdown",
      "source": [
        "Terdapat beberapa nilai minimum sebesar 0 di beberapa kolom yang tidak masuk akal. Contohnya pada kolom year_built terdapat nilai minimum 0."
      ],
      "metadata": {
        "id": "GpWt9nATzCrH"
      }
    },
    {
      "cell_type": "code",
      "source": [
        "# Cek df kolom year_built dengan nilai 0 tahun\n",
        "df[df['year_built']==0]"
      ],
      "metadata": {
        "colab": {
          "base_uri": "https://localhost:8080/",
          "height": 800
        },
        "id": "bi4m_38wzDiW",
        "outputId": "9f63a70f-ea62-496e-baf1-e11a422c23d4"
      },
      "execution_count": 22,
      "outputs": [
        {
          "output_type": "execute_result",
          "data": {
            "text/plain": [
              "             borough    neighborhood  \\\n",
              "18364          Bronx        BATHGATE   \n",
              "18371          Bronx        BATHGATE   \n",
              "18373          Bronx        BATHGATE   \n",
              "18756          Bronx      BAYCHESTER   \n",
              "18757          Bronx      BAYCHESTER   \n",
              "...              ...             ...   \n",
              "53841         Queens          CORONA   \n",
              "54054         Queens          CORONA   \n",
              "57321         Queens  FLUSHING-NORTH   \n",
              "65906         Queens     LITTLE NECK   \n",
              "82002  Staten Island     PRINCES BAY   \n",
              "\n",
              "                           building_class_category tax_class_at_present block  \\\n",
              "18364  29 COMMERCIAL GARAGES                                          4  2918   \n",
              "18371  31 COMMERCIAL VACANT LAND                                      4  3028   \n",
              "18373  41 TAX CLASS 4 - OTHER                                         4  2900   \n",
              "18756  05 TAX CLASS 1 VACANT LAND                                    1B  4725   \n",
              "18757  05 TAX CLASS 1 VACANT LAND                                    1B  4726   \n",
              "...                                            ...                  ...   ...   \n",
              "53841  07 RENTALS - WALKUP APARTMENTS                                2B  1785   \n",
              "54054  41 TAX CLASS 4 - OTHER                                         4  1961   \n",
              "57321  08 RENTALS - ELEVATOR APARTMENTS                              2B  5186   \n",
              "65906  01 ONE FAMILY DWELLINGS                                        1  8229   \n",
              "82002  02 TWO FAMILY DWELLINGS                                        1  6979   \n",
              "\n",
              "       lot ease-ment building_class_at_present                address  \\\n",
              "18364   29                                  G7   1885 BATHGATE AVENUE   \n",
              "18371   13                                  V9    1996 WEBSTER AVENUE   \n",
              "18373    1                                  Z9    1816 WEBSTER AVENUE   \n",
              "18756   26                                  V0      1475 HICKS STREET   \n",
              "18757   38                                  V0  3552 EASTCHESTER ROAD   \n",
              "...    ...       ...                       ...                    ...   \n",
              "53841   22                                  C1   112-48 38TH   AVENUE   \n",
              "54054    1                                  Z9  5506 VAN CLEEF STREET   \n",
              "57321   56                                  D3   142-11 CHERRY AVENUE   \n",
              "65906   80                                  A3    45-39 BROWVALE LANE   \n",
              "82002  314                                  B9     153 EL CAMINO LOOP   \n",
              "\n",
              "      apartment_number  ... land_square_feet  gross_square_feet  year_built  \\\n",
              "18364                   ...           3070.0                0.0           0   \n",
              "18371                   ...           5945.0                0.0           0   \n",
              "18373                   ...           3082.0                0.0           0   \n",
              "18756                   ...           2375.0                0.0           0   \n",
              "18757                   ...           3400.0                0.0           0   \n",
              "...                ...  ...              ...                ...         ...   \n",
              "53841                   ...           2500.0             6875.0           0   \n",
              "54054                   ...            926.0              384.0           0   \n",
              "57321                   ...           2850.0            10111.0           0   \n",
              "65906                   ...           9562.0             5291.0           0   \n",
              "82002                   ...           2115.0             1800.0           0   \n",
              "\n",
              "       tax_class_at_time_of_sale  building_class_at_time_of_sale  sale_price  \\\n",
              "18364                          4                              G7   2500000.0   \n",
              "18371                          4                              V9   1200000.0   \n",
              "18373                          4                              Z9    300000.0   \n",
              "18756                          1                              V0     98000.0   \n",
              "18757                          1                              V0         0.0   \n",
              "...                          ...                             ...         ...   \n",
              "53841                          2                              C1   2153222.0   \n",
              "54054                          4                              Z9    113000.0   \n",
              "57321                          2                              D3   4000000.0   \n",
              "65906                          1                              A3   1731025.0   \n",
              "82002                          1                              B9    626223.0   \n",
              "\n",
              "       sale_date   age age_category  sale_price_in_m  \n",
              "18364 2016-12-15  2023      Pre-War         2.500000  \n",
              "18371 2016-10-19  2023      Pre-War         1.200000  \n",
              "18373 2016-11-03  2023      Pre-War         0.300000  \n",
              "18756 2016-10-31  2023      Pre-War         0.098000  \n",
              "18757 2017-03-16  2023      Pre-War         0.000000  \n",
              "...          ...   ...          ...              ...  \n",
              "53841 2017-05-10  2023      Pre-War         2.153222  \n",
              "54054 2017-08-09  2023      Pre-War         0.113000  \n",
              "57321 2017-05-19  2023      Pre-War         4.000000  \n",
              "65906 2017-04-06  2023      Pre-War         1.731025  \n",
              "82002 2017-04-10  2023      Pre-War         0.626223  \n",
              "\n",
              "[2911 rows x 24 columns]"
            ],
            "text/html": [
              "\n",
              "  <div id=\"df-ff340672-31c7-4d5a-996b-4c3fb716d4f2\">\n",
              "    <div class=\"colab-df-container\">\n",
              "      <div>\n",
              "<style scoped>\n",
              "    .dataframe tbody tr th:only-of-type {\n",
              "        vertical-align: middle;\n",
              "    }\n",
              "\n",
              "    .dataframe tbody tr th {\n",
              "        vertical-align: top;\n",
              "    }\n",
              "\n",
              "    .dataframe thead th {\n",
              "        text-align: right;\n",
              "    }\n",
              "</style>\n",
              "<table border=\"1\" class=\"dataframe\">\n",
              "  <thead>\n",
              "    <tr style=\"text-align: right;\">\n",
              "      <th></th>\n",
              "      <th>borough</th>\n",
              "      <th>neighborhood</th>\n",
              "      <th>building_class_category</th>\n",
              "      <th>tax_class_at_present</th>\n",
              "      <th>block</th>\n",
              "      <th>lot</th>\n",
              "      <th>ease-ment</th>\n",
              "      <th>building_class_at_present</th>\n",
              "      <th>address</th>\n",
              "      <th>apartment_number</th>\n",
              "      <th>...</th>\n",
              "      <th>land_square_feet</th>\n",
              "      <th>gross_square_feet</th>\n",
              "      <th>year_built</th>\n",
              "      <th>tax_class_at_time_of_sale</th>\n",
              "      <th>building_class_at_time_of_sale</th>\n",
              "      <th>sale_price</th>\n",
              "      <th>sale_date</th>\n",
              "      <th>age</th>\n",
              "      <th>age_category</th>\n",
              "      <th>sale_price_in_m</th>\n",
              "    </tr>\n",
              "  </thead>\n",
              "  <tbody>\n",
              "    <tr>\n",
              "      <th>18364</th>\n",
              "      <td>Bronx</td>\n",
              "      <td>BATHGATE</td>\n",
              "      <td>29 COMMERCIAL GARAGES</td>\n",
              "      <td>4</td>\n",
              "      <td>2918</td>\n",
              "      <td>29</td>\n",
              "      <td></td>\n",
              "      <td>G7</td>\n",
              "      <td>1885 BATHGATE AVENUE</td>\n",
              "      <td></td>\n",
              "      <td>...</td>\n",
              "      <td>3070.0</td>\n",
              "      <td>0.0</td>\n",
              "      <td>0</td>\n",
              "      <td>4</td>\n",
              "      <td>G7</td>\n",
              "      <td>2500000.0</td>\n",
              "      <td>2016-12-15</td>\n",
              "      <td>2023</td>\n",
              "      <td>Pre-War</td>\n",
              "      <td>2.500000</td>\n",
              "    </tr>\n",
              "    <tr>\n",
              "      <th>18371</th>\n",
              "      <td>Bronx</td>\n",
              "      <td>BATHGATE</td>\n",
              "      <td>31 COMMERCIAL VACANT LAND</td>\n",
              "      <td>4</td>\n",
              "      <td>3028</td>\n",
              "      <td>13</td>\n",
              "      <td></td>\n",
              "      <td>V9</td>\n",
              "      <td>1996 WEBSTER AVENUE</td>\n",
              "      <td></td>\n",
              "      <td>...</td>\n",
              "      <td>5945.0</td>\n",
              "      <td>0.0</td>\n",
              "      <td>0</td>\n",
              "      <td>4</td>\n",
              "      <td>V9</td>\n",
              "      <td>1200000.0</td>\n",
              "      <td>2016-10-19</td>\n",
              "      <td>2023</td>\n",
              "      <td>Pre-War</td>\n",
              "      <td>1.200000</td>\n",
              "    </tr>\n",
              "    <tr>\n",
              "      <th>18373</th>\n",
              "      <td>Bronx</td>\n",
              "      <td>BATHGATE</td>\n",
              "      <td>41 TAX CLASS 4 - OTHER</td>\n",
              "      <td>4</td>\n",
              "      <td>2900</td>\n",
              "      <td>1</td>\n",
              "      <td></td>\n",
              "      <td>Z9</td>\n",
              "      <td>1816 WEBSTER AVENUE</td>\n",
              "      <td></td>\n",
              "      <td>...</td>\n",
              "      <td>3082.0</td>\n",
              "      <td>0.0</td>\n",
              "      <td>0</td>\n",
              "      <td>4</td>\n",
              "      <td>Z9</td>\n",
              "      <td>300000.0</td>\n",
              "      <td>2016-11-03</td>\n",
              "      <td>2023</td>\n",
              "      <td>Pre-War</td>\n",
              "      <td>0.300000</td>\n",
              "    </tr>\n",
              "    <tr>\n",
              "      <th>18756</th>\n",
              "      <td>Bronx</td>\n",
              "      <td>BAYCHESTER</td>\n",
              "      <td>05 TAX CLASS 1 VACANT LAND</td>\n",
              "      <td>1B</td>\n",
              "      <td>4725</td>\n",
              "      <td>26</td>\n",
              "      <td></td>\n",
              "      <td>V0</td>\n",
              "      <td>1475 HICKS STREET</td>\n",
              "      <td></td>\n",
              "      <td>...</td>\n",
              "      <td>2375.0</td>\n",
              "      <td>0.0</td>\n",
              "      <td>0</td>\n",
              "      <td>1</td>\n",
              "      <td>V0</td>\n",
              "      <td>98000.0</td>\n",
              "      <td>2016-10-31</td>\n",
              "      <td>2023</td>\n",
              "      <td>Pre-War</td>\n",
              "      <td>0.098000</td>\n",
              "    </tr>\n",
              "    <tr>\n",
              "      <th>18757</th>\n",
              "      <td>Bronx</td>\n",
              "      <td>BAYCHESTER</td>\n",
              "      <td>05 TAX CLASS 1 VACANT LAND</td>\n",
              "      <td>1B</td>\n",
              "      <td>4726</td>\n",
              "      <td>38</td>\n",
              "      <td></td>\n",
              "      <td>V0</td>\n",
              "      <td>3552 EASTCHESTER ROAD</td>\n",
              "      <td></td>\n",
              "      <td>...</td>\n",
              "      <td>3400.0</td>\n",
              "      <td>0.0</td>\n",
              "      <td>0</td>\n",
              "      <td>1</td>\n",
              "      <td>V0</td>\n",
              "      <td>0.0</td>\n",
              "      <td>2017-03-16</td>\n",
              "      <td>2023</td>\n",
              "      <td>Pre-War</td>\n",
              "      <td>0.000000</td>\n",
              "    </tr>\n",
              "    <tr>\n",
              "      <th>...</th>\n",
              "      <td>...</td>\n",
              "      <td>...</td>\n",
              "      <td>...</td>\n",
              "      <td>...</td>\n",
              "      <td>...</td>\n",
              "      <td>...</td>\n",
              "      <td>...</td>\n",
              "      <td>...</td>\n",
              "      <td>...</td>\n",
              "      <td>...</td>\n",
              "      <td>...</td>\n",
              "      <td>...</td>\n",
              "      <td>...</td>\n",
              "      <td>...</td>\n",
              "      <td>...</td>\n",
              "      <td>...</td>\n",
              "      <td>...</td>\n",
              "      <td>...</td>\n",
              "      <td>...</td>\n",
              "      <td>...</td>\n",
              "      <td>...</td>\n",
              "    </tr>\n",
              "    <tr>\n",
              "      <th>53841</th>\n",
              "      <td>Queens</td>\n",
              "      <td>CORONA</td>\n",
              "      <td>07 RENTALS - WALKUP APARTMENTS</td>\n",
              "      <td>2B</td>\n",
              "      <td>1785</td>\n",
              "      <td>22</td>\n",
              "      <td></td>\n",
              "      <td>C1</td>\n",
              "      <td>112-48 38TH   AVENUE</td>\n",
              "      <td></td>\n",
              "      <td>...</td>\n",
              "      <td>2500.0</td>\n",
              "      <td>6875.0</td>\n",
              "      <td>0</td>\n",
              "      <td>2</td>\n",
              "      <td>C1</td>\n",
              "      <td>2153222.0</td>\n",
              "      <td>2017-05-10</td>\n",
              "      <td>2023</td>\n",
              "      <td>Pre-War</td>\n",
              "      <td>2.153222</td>\n",
              "    </tr>\n",
              "    <tr>\n",
              "      <th>54054</th>\n",
              "      <td>Queens</td>\n",
              "      <td>CORONA</td>\n",
              "      <td>41 TAX CLASS 4 - OTHER</td>\n",
              "      <td>4</td>\n",
              "      <td>1961</td>\n",
              "      <td>1</td>\n",
              "      <td></td>\n",
              "      <td>Z9</td>\n",
              "      <td>5506 VAN CLEEF STREET</td>\n",
              "      <td></td>\n",
              "      <td>...</td>\n",
              "      <td>926.0</td>\n",
              "      <td>384.0</td>\n",
              "      <td>0</td>\n",
              "      <td>4</td>\n",
              "      <td>Z9</td>\n",
              "      <td>113000.0</td>\n",
              "      <td>2017-08-09</td>\n",
              "      <td>2023</td>\n",
              "      <td>Pre-War</td>\n",
              "      <td>0.113000</td>\n",
              "    </tr>\n",
              "    <tr>\n",
              "      <th>57321</th>\n",
              "      <td>Queens</td>\n",
              "      <td>FLUSHING-NORTH</td>\n",
              "      <td>08 RENTALS - ELEVATOR APARTMENTS</td>\n",
              "      <td>2B</td>\n",
              "      <td>5186</td>\n",
              "      <td>56</td>\n",
              "      <td></td>\n",
              "      <td>D3</td>\n",
              "      <td>142-11 CHERRY AVENUE</td>\n",
              "      <td></td>\n",
              "      <td>...</td>\n",
              "      <td>2850.0</td>\n",
              "      <td>10111.0</td>\n",
              "      <td>0</td>\n",
              "      <td>2</td>\n",
              "      <td>D3</td>\n",
              "      <td>4000000.0</td>\n",
              "      <td>2017-05-19</td>\n",
              "      <td>2023</td>\n",
              "      <td>Pre-War</td>\n",
              "      <td>4.000000</td>\n",
              "    </tr>\n",
              "    <tr>\n",
              "      <th>65906</th>\n",
              "      <td>Queens</td>\n",
              "      <td>LITTLE NECK</td>\n",
              "      <td>01 ONE FAMILY DWELLINGS</td>\n",
              "      <td>1</td>\n",
              "      <td>8229</td>\n",
              "      <td>80</td>\n",
              "      <td></td>\n",
              "      <td>A3</td>\n",
              "      <td>45-39 BROWVALE LANE</td>\n",
              "      <td></td>\n",
              "      <td>...</td>\n",
              "      <td>9562.0</td>\n",
              "      <td>5291.0</td>\n",
              "      <td>0</td>\n",
              "      <td>1</td>\n",
              "      <td>A3</td>\n",
              "      <td>1731025.0</td>\n",
              "      <td>2017-04-06</td>\n",
              "      <td>2023</td>\n",
              "      <td>Pre-War</td>\n",
              "      <td>1.731025</td>\n",
              "    </tr>\n",
              "    <tr>\n",
              "      <th>82002</th>\n",
              "      <td>Staten Island</td>\n",
              "      <td>PRINCES BAY</td>\n",
              "      <td>02 TWO FAMILY DWELLINGS</td>\n",
              "      <td>1</td>\n",
              "      <td>6979</td>\n",
              "      <td>314</td>\n",
              "      <td></td>\n",
              "      <td>B9</td>\n",
              "      <td>153 EL CAMINO LOOP</td>\n",
              "      <td></td>\n",
              "      <td>...</td>\n",
              "      <td>2115.0</td>\n",
              "      <td>1800.0</td>\n",
              "      <td>0</td>\n",
              "      <td>1</td>\n",
              "      <td>B9</td>\n",
              "      <td>626223.0</td>\n",
              "      <td>2017-04-10</td>\n",
              "      <td>2023</td>\n",
              "      <td>Pre-War</td>\n",
              "      <td>0.626223</td>\n",
              "    </tr>\n",
              "  </tbody>\n",
              "</table>\n",
              "<p>2911 rows × 24 columns</p>\n",
              "</div>\n",
              "      <button class=\"colab-df-convert\" onclick=\"convertToInteractive('df-ff340672-31c7-4d5a-996b-4c3fb716d4f2')\"\n",
              "              title=\"Convert this dataframe to an interactive table.\"\n",
              "              style=\"display:none;\">\n",
              "        \n",
              "  <svg xmlns=\"http://www.w3.org/2000/svg\" height=\"24px\"viewBox=\"0 0 24 24\"\n",
              "       width=\"24px\">\n",
              "    <path d=\"M0 0h24v24H0V0z\" fill=\"none\"/>\n",
              "    <path d=\"M18.56 5.44l.94 2.06.94-2.06 2.06-.94-2.06-.94-.94-2.06-.94 2.06-2.06.94zm-11 1L8.5 8.5l.94-2.06 2.06-.94-2.06-.94L8.5 2.5l-.94 2.06-2.06.94zm10 10l.94 2.06.94-2.06 2.06-.94-2.06-.94-.94-2.06-.94 2.06-2.06.94z\"/><path d=\"M17.41 7.96l-1.37-1.37c-.4-.4-.92-.59-1.43-.59-.52 0-1.04.2-1.43.59L10.3 9.45l-7.72 7.72c-.78.78-.78 2.05 0 2.83L4 21.41c.39.39.9.59 1.41.59.51 0 1.02-.2 1.41-.59l7.78-7.78 2.81-2.81c.8-.78.8-2.07 0-2.86zM5.41 20L4 18.59l7.72-7.72 1.47 1.35L5.41 20z\"/>\n",
              "  </svg>\n",
              "      </button>\n",
              "      \n",
              "  <style>\n",
              "    .colab-df-container {\n",
              "      display:flex;\n",
              "      flex-wrap:wrap;\n",
              "      gap: 12px;\n",
              "    }\n",
              "\n",
              "    .colab-df-convert {\n",
              "      background-color: #E8F0FE;\n",
              "      border: none;\n",
              "      border-radius: 50%;\n",
              "      cursor: pointer;\n",
              "      display: none;\n",
              "      fill: #1967D2;\n",
              "      height: 32px;\n",
              "      padding: 0 0 0 0;\n",
              "      width: 32px;\n",
              "    }\n",
              "\n",
              "    .colab-df-convert:hover {\n",
              "      background-color: #E2EBFA;\n",
              "      box-shadow: 0px 1px 2px rgba(60, 64, 67, 0.3), 0px 1px 3px 1px rgba(60, 64, 67, 0.15);\n",
              "      fill: #174EA6;\n",
              "    }\n",
              "\n",
              "    [theme=dark] .colab-df-convert {\n",
              "      background-color: #3B4455;\n",
              "      fill: #D2E3FC;\n",
              "    }\n",
              "\n",
              "    [theme=dark] .colab-df-convert:hover {\n",
              "      background-color: #434B5C;\n",
              "      box-shadow: 0px 1px 3px 1px rgba(0, 0, 0, 0.15);\n",
              "      filter: drop-shadow(0px 1px 2px rgba(0, 0, 0, 0.3));\n",
              "      fill: #FFFFFF;\n",
              "    }\n",
              "  </style>\n",
              "\n",
              "      <script>\n",
              "        const buttonEl =\n",
              "          document.querySelector('#df-ff340672-31c7-4d5a-996b-4c3fb716d4f2 button.colab-df-convert');\n",
              "        buttonEl.style.display =\n",
              "          google.colab.kernel.accessAllowed ? 'block' : 'none';\n",
              "\n",
              "        async function convertToInteractive(key) {\n",
              "          const element = document.querySelector('#df-ff340672-31c7-4d5a-996b-4c3fb716d4f2');\n",
              "          const dataTable =\n",
              "            await google.colab.kernel.invokeFunction('convertToInteractive',\n",
              "                                                     [key], {});\n",
              "          if (!dataTable) return;\n",
              "\n",
              "          const docLinkHtml = 'Like what you see? Visit the ' +\n",
              "            '<a target=\"_blank\" href=https://colab.research.google.com/notebooks/data_table.ipynb>data table notebook</a>'\n",
              "            + ' to learn more about interactive tables.';\n",
              "          element.innerHTML = '';\n",
              "          dataTable['output_type'] = 'display_data';\n",
              "          await google.colab.output.renderOutput(dataTable, element);\n",
              "          const docLink = document.createElement('div');\n",
              "          docLink.innerHTML = docLinkHtml;\n",
              "          element.appendChild(docLink);\n",
              "        }\n",
              "      </script>\n",
              "    </div>\n",
              "  </div>\n",
              "  "
            ]
          },
          "metadata": {},
          "execution_count": 22
        }
      ]
    },
    {
      "cell_type": "code",
      "source": [
        "# Cek berapa banyak year_built= 0\n",
        "zero = df[df['year_built']==0]\n",
        "zero.count()"
      ],
      "metadata": {
        "colab": {
          "base_uri": "https://localhost:8080/"
        },
        "id": "NQ68mxxQ08C5",
        "outputId": "b3d4d078-a6c1-4474-f626-ebdab42a710f"
      },
      "execution_count": 23,
      "outputs": [
        {
          "output_type": "execute_result",
          "data": {
            "text/plain": [
              "borough                           2911\n",
              "neighborhood                      2911\n",
              "building_class_category           2911\n",
              "tax_class_at_present              2911\n",
              "block                             2911\n",
              "lot                               2911\n",
              "ease-ment                         2911\n",
              "building_class_at_present         2911\n",
              "address                           2911\n",
              "apartment_number                  2911\n",
              "zip_code                          2911\n",
              "residential_units                 2911\n",
              "commercial_units                  2911\n",
              "total_units                       2911\n",
              "land_square_feet                  2911\n",
              "gross_square_feet                 2911\n",
              "year_built                        2911\n",
              "tax_class_at_time_of_sale         2911\n",
              "building_class_at_time_of_sale    2911\n",
              "sale_price                        2911\n",
              "sale_date                         2911\n",
              "age                               2911\n",
              "age_category                      2911\n",
              "sale_price_in_m                   2911\n",
              "dtype: int64"
            ]
          },
          "metadata": {},
          "execution_count": 23
        }
      ]
    },
    {
      "cell_type": "code",
      "source": [
        "# hapus baris dengan year_built = 0\n",
        "df = df[df['year_built']!=0]"
      ],
      "metadata": {
        "id": "NJIdQ4x50_ro"
      },
      "execution_count": 24,
      "outputs": []
    },
    {
      "cell_type": "markdown",
      "source": [
        "## Outlier"
      ],
      "metadata": {
        "id": "7nhaM3W8zpfF"
      }
    },
    {
      "cell_type": "markdown",
      "source": [
        "Sama seperti cara sebelumnya kita akan memeriksa nilai dimana kolom where land and gross square feet bernilai 0."
      ],
      "metadata": {
        "id": "HfUMT-7D1HqR"
      }
    },
    {
      "cell_type": "code",
      "source": [
        "df[df['land_square_feet']==0]"
      ],
      "metadata": {
        "colab": {
          "base_uri": "https://localhost:8080/",
          "height": 852
        },
        "id": "8UdanHSJzsxP",
        "outputId": "8fb2bda2-e797-468c-f29a-27d85e4ce78e"
      },
      "execution_count": 25,
      "outputs": [
        {
          "output_type": "execute_result",
          "data": {
            "text/plain": [
              "        borough     neighborhood                      building_class_category  \\\n",
              "18354     Bronx         BATHGATE  10 COOPS - ELEVATOR APARTMENTS                \n",
              "18355     Bronx         BATHGATE  10 COOPS - ELEVATOR APARTMENTS                \n",
              "18356     Bronx         BATHGATE  10 COOPS - ELEVATOR APARTMENTS                \n",
              "18746     Bronx       BAYCHESTER  04 TAX CLASS 1 CONDOS                         \n",
              "18747     Bronx       BAYCHESTER  04 TAX CLASS 1 CONDOS                         \n",
              "...         ...              ...                                          ...   \n",
              "49292  Brooklyn  WINDSOR TERRACE  44 CONDO PARKING                              \n",
              "49293  Brooklyn  WINDSOR TERRACE  44 CONDO PARKING                              \n",
              "49294  Brooklyn  WINDSOR TERRACE  47 CONDO NON-BUSINESS STORAGE                 \n",
              "49295  Brooklyn  WINDSOR TERRACE  47 CONDO NON-BUSINESS STORAGE                 \n",
              "49344  Brooklyn  WYCKOFF HEIGHTS  04 TAX CLASS 1 CONDOS                         \n",
              "\n",
              "      tax_class_at_present block   lot ease-ment building_class_at_present  \\\n",
              "18354                    2  3035    48                                  D4   \n",
              "18355                    2  3035    48                                  D4   \n",
              "18356                    2  3044    40                                  D4   \n",
              "18746                   1A  4795  1009                                  R3   \n",
              "18747                   1A  4795  1027                                  R3   \n",
              "...                    ...   ...   ...       ...                       ...   \n",
              "49292                    4  5287  1035                                  RP   \n",
              "49293                    4  5287  1035                                  RP   \n",
              "49294                    4   895  1213                                  RS   \n",
              "49295                    4   895  1219                                  RS   \n",
              "49344                   1A  3200  1002                                  R3   \n",
              "\n",
              "                         address apartment_number  ... land_square_feet  \\\n",
              "18354  463 EAST 178TH STREET, 6E                   ...              0.0   \n",
              "18355      463 EAST 178TH ST, 6B                   ...              0.0   \n",
              "18356     495 E 178TH STREET, 2H                   ...              0.0   \n",
              "18746            2877 ELY AVENUE                3  ...              0.0   \n",
              "18747            2853 ELY AVENUE                3  ...              0.0   \n",
              "...                          ...              ...  ...              ...   \n",
              "49292       207 PROSPECT PARK SW              P35  ...              0.0   \n",
              "49293       207 PROSPECT PARK SW              P35  ...              0.0   \n",
              "49294           11 TERRACE PLACE               S2  ...              0.0   \n",
              "49295           11 TERRACE PLACE               S8  ...              0.0   \n",
              "49344      54 ST NICHOLAS AVENUE               1B  ...              0.0   \n",
              "\n",
              "       gross_square_feet  year_built  tax_class_at_time_of_sale  \\\n",
              "18354                0.0        1935                          2   \n",
              "18355                0.0        1935                          2   \n",
              "18356                0.0        1941                          2   \n",
              "18746                0.0        2008                          1   \n",
              "18747                0.0        2008                          1   \n",
              "...                  ...         ...                        ...   \n",
              "49292                0.0        1990                          4   \n",
              "49293                0.0        1990                          4   \n",
              "49294                0.0        2006                          4   \n",
              "49295                0.0        2006                          4   \n",
              "49344                0.0        1931                          1   \n",
              "\n",
              "       building_class_at_time_of_sale  sale_price  sale_date age age_category  \\\n",
              "18354                              D4     40000.0 2017-04-17  88      Pre-War   \n",
              "18355                              D4     40000.0 2017-04-17  88      Pre-War   \n",
              "18356                              D4     60000.0 2016-12-01  82      Pre-War   \n",
              "18746                              R3    310000.0 2017-02-28  15     Post-War   \n",
              "18747                              R3    342500.0 2017-07-31  15     Post-War   \n",
              "...                               ...         ...        ...  ..          ...   \n",
              "49292                              RP         0.0 2017-07-25  33     Post-War   \n",
              "49293                              RP         0.0 2017-07-17  33     Post-War   \n",
              "49294                              RS         0.0 2016-10-06  17     Post-War   \n",
              "49295                              RS         0.0 2016-10-24  17     Post-War   \n",
              "49344                              R3    510000.0 2017-07-13  92      Pre-War   \n",
              "\n",
              "       sale_price_in_m  \n",
              "18354           0.0400  \n",
              "18355           0.0400  \n",
              "18356           0.0600  \n",
              "18746           0.3100  \n",
              "18747           0.3425  \n",
              "...                ...  \n",
              "49292           0.0000  \n",
              "49293           0.0000  \n",
              "49294           0.0000  \n",
              "49295           0.0000  \n",
              "49344           0.5100  \n",
              "\n",
              "[8345 rows x 24 columns]"
            ],
            "text/html": [
              "\n",
              "  <div id=\"df-9315eefe-dcc3-44d8-b688-661395097994\">\n",
              "    <div class=\"colab-df-container\">\n",
              "      <div>\n",
              "<style scoped>\n",
              "    .dataframe tbody tr th:only-of-type {\n",
              "        vertical-align: middle;\n",
              "    }\n",
              "\n",
              "    .dataframe tbody tr th {\n",
              "        vertical-align: top;\n",
              "    }\n",
              "\n",
              "    .dataframe thead th {\n",
              "        text-align: right;\n",
              "    }\n",
              "</style>\n",
              "<table border=\"1\" class=\"dataframe\">\n",
              "  <thead>\n",
              "    <tr style=\"text-align: right;\">\n",
              "      <th></th>\n",
              "      <th>borough</th>\n",
              "      <th>neighborhood</th>\n",
              "      <th>building_class_category</th>\n",
              "      <th>tax_class_at_present</th>\n",
              "      <th>block</th>\n",
              "      <th>lot</th>\n",
              "      <th>ease-ment</th>\n",
              "      <th>building_class_at_present</th>\n",
              "      <th>address</th>\n",
              "      <th>apartment_number</th>\n",
              "      <th>...</th>\n",
              "      <th>land_square_feet</th>\n",
              "      <th>gross_square_feet</th>\n",
              "      <th>year_built</th>\n",
              "      <th>tax_class_at_time_of_sale</th>\n",
              "      <th>building_class_at_time_of_sale</th>\n",
              "      <th>sale_price</th>\n",
              "      <th>sale_date</th>\n",
              "      <th>age</th>\n",
              "      <th>age_category</th>\n",
              "      <th>sale_price_in_m</th>\n",
              "    </tr>\n",
              "  </thead>\n",
              "  <tbody>\n",
              "    <tr>\n",
              "      <th>18354</th>\n",
              "      <td>Bronx</td>\n",
              "      <td>BATHGATE</td>\n",
              "      <td>10 COOPS - ELEVATOR APARTMENTS</td>\n",
              "      <td>2</td>\n",
              "      <td>3035</td>\n",
              "      <td>48</td>\n",
              "      <td></td>\n",
              "      <td>D4</td>\n",
              "      <td>463 EAST 178TH STREET, 6E</td>\n",
              "      <td></td>\n",
              "      <td>...</td>\n",
              "      <td>0.0</td>\n",
              "      <td>0.0</td>\n",
              "      <td>1935</td>\n",
              "      <td>2</td>\n",
              "      <td>D4</td>\n",
              "      <td>40000.0</td>\n",
              "      <td>2017-04-17</td>\n",
              "      <td>88</td>\n",
              "      <td>Pre-War</td>\n",
              "      <td>0.0400</td>\n",
              "    </tr>\n",
              "    <tr>\n",
              "      <th>18355</th>\n",
              "      <td>Bronx</td>\n",
              "      <td>BATHGATE</td>\n",
              "      <td>10 COOPS - ELEVATOR APARTMENTS</td>\n",
              "      <td>2</td>\n",
              "      <td>3035</td>\n",
              "      <td>48</td>\n",
              "      <td></td>\n",
              "      <td>D4</td>\n",
              "      <td>463 EAST 178TH ST, 6B</td>\n",
              "      <td></td>\n",
              "      <td>...</td>\n",
              "      <td>0.0</td>\n",
              "      <td>0.0</td>\n",
              "      <td>1935</td>\n",
              "      <td>2</td>\n",
              "      <td>D4</td>\n",
              "      <td>40000.0</td>\n",
              "      <td>2017-04-17</td>\n",
              "      <td>88</td>\n",
              "      <td>Pre-War</td>\n",
              "      <td>0.0400</td>\n",
              "    </tr>\n",
              "    <tr>\n",
              "      <th>18356</th>\n",
              "      <td>Bronx</td>\n",
              "      <td>BATHGATE</td>\n",
              "      <td>10 COOPS - ELEVATOR APARTMENTS</td>\n",
              "      <td>2</td>\n",
              "      <td>3044</td>\n",
              "      <td>40</td>\n",
              "      <td></td>\n",
              "      <td>D4</td>\n",
              "      <td>495 E 178TH STREET, 2H</td>\n",
              "      <td></td>\n",
              "      <td>...</td>\n",
              "      <td>0.0</td>\n",
              "      <td>0.0</td>\n",
              "      <td>1941</td>\n",
              "      <td>2</td>\n",
              "      <td>D4</td>\n",
              "      <td>60000.0</td>\n",
              "      <td>2016-12-01</td>\n",
              "      <td>82</td>\n",
              "      <td>Pre-War</td>\n",
              "      <td>0.0600</td>\n",
              "    </tr>\n",
              "    <tr>\n",
              "      <th>18746</th>\n",
              "      <td>Bronx</td>\n",
              "      <td>BAYCHESTER</td>\n",
              "      <td>04 TAX CLASS 1 CONDOS</td>\n",
              "      <td>1A</td>\n",
              "      <td>4795</td>\n",
              "      <td>1009</td>\n",
              "      <td></td>\n",
              "      <td>R3</td>\n",
              "      <td>2877 ELY AVENUE</td>\n",
              "      <td>3</td>\n",
              "      <td>...</td>\n",
              "      <td>0.0</td>\n",
              "      <td>0.0</td>\n",
              "      <td>2008</td>\n",
              "      <td>1</td>\n",
              "      <td>R3</td>\n",
              "      <td>310000.0</td>\n",
              "      <td>2017-02-28</td>\n",
              "      <td>15</td>\n",
              "      <td>Post-War</td>\n",
              "      <td>0.3100</td>\n",
              "    </tr>\n",
              "    <tr>\n",
              "      <th>18747</th>\n",
              "      <td>Bronx</td>\n",
              "      <td>BAYCHESTER</td>\n",
              "      <td>04 TAX CLASS 1 CONDOS</td>\n",
              "      <td>1A</td>\n",
              "      <td>4795</td>\n",
              "      <td>1027</td>\n",
              "      <td></td>\n",
              "      <td>R3</td>\n",
              "      <td>2853 ELY AVENUE</td>\n",
              "      <td>3</td>\n",
              "      <td>...</td>\n",
              "      <td>0.0</td>\n",
              "      <td>0.0</td>\n",
              "      <td>2008</td>\n",
              "      <td>1</td>\n",
              "      <td>R3</td>\n",
              "      <td>342500.0</td>\n",
              "      <td>2017-07-31</td>\n",
              "      <td>15</td>\n",
              "      <td>Post-War</td>\n",
              "      <td>0.3425</td>\n",
              "    </tr>\n",
              "    <tr>\n",
              "      <th>...</th>\n",
              "      <td>...</td>\n",
              "      <td>...</td>\n",
              "      <td>...</td>\n",
              "      <td>...</td>\n",
              "      <td>...</td>\n",
              "      <td>...</td>\n",
              "      <td>...</td>\n",
              "      <td>...</td>\n",
              "      <td>...</td>\n",
              "      <td>...</td>\n",
              "      <td>...</td>\n",
              "      <td>...</td>\n",
              "      <td>...</td>\n",
              "      <td>...</td>\n",
              "      <td>...</td>\n",
              "      <td>...</td>\n",
              "      <td>...</td>\n",
              "      <td>...</td>\n",
              "      <td>...</td>\n",
              "      <td>...</td>\n",
              "      <td>...</td>\n",
              "    </tr>\n",
              "    <tr>\n",
              "      <th>49292</th>\n",
              "      <td>Brooklyn</td>\n",
              "      <td>WINDSOR TERRACE</td>\n",
              "      <td>44 CONDO PARKING</td>\n",
              "      <td>4</td>\n",
              "      <td>5287</td>\n",
              "      <td>1035</td>\n",
              "      <td></td>\n",
              "      <td>RP</td>\n",
              "      <td>207 PROSPECT PARK SW</td>\n",
              "      <td>P35</td>\n",
              "      <td>...</td>\n",
              "      <td>0.0</td>\n",
              "      <td>0.0</td>\n",
              "      <td>1990</td>\n",
              "      <td>4</td>\n",
              "      <td>RP</td>\n",
              "      <td>0.0</td>\n",
              "      <td>2017-07-25</td>\n",
              "      <td>33</td>\n",
              "      <td>Post-War</td>\n",
              "      <td>0.0000</td>\n",
              "    </tr>\n",
              "    <tr>\n",
              "      <th>49293</th>\n",
              "      <td>Brooklyn</td>\n",
              "      <td>WINDSOR TERRACE</td>\n",
              "      <td>44 CONDO PARKING</td>\n",
              "      <td>4</td>\n",
              "      <td>5287</td>\n",
              "      <td>1035</td>\n",
              "      <td></td>\n",
              "      <td>RP</td>\n",
              "      <td>207 PROSPECT PARK SW</td>\n",
              "      <td>P35</td>\n",
              "      <td>...</td>\n",
              "      <td>0.0</td>\n",
              "      <td>0.0</td>\n",
              "      <td>1990</td>\n",
              "      <td>4</td>\n",
              "      <td>RP</td>\n",
              "      <td>0.0</td>\n",
              "      <td>2017-07-17</td>\n",
              "      <td>33</td>\n",
              "      <td>Post-War</td>\n",
              "      <td>0.0000</td>\n",
              "    </tr>\n",
              "    <tr>\n",
              "      <th>49294</th>\n",
              "      <td>Brooklyn</td>\n",
              "      <td>WINDSOR TERRACE</td>\n",
              "      <td>47 CONDO NON-BUSINESS STORAGE</td>\n",
              "      <td>4</td>\n",
              "      <td>895</td>\n",
              "      <td>1213</td>\n",
              "      <td></td>\n",
              "      <td>RS</td>\n",
              "      <td>11 TERRACE PLACE</td>\n",
              "      <td>S2</td>\n",
              "      <td>...</td>\n",
              "      <td>0.0</td>\n",
              "      <td>0.0</td>\n",
              "      <td>2006</td>\n",
              "      <td>4</td>\n",
              "      <td>RS</td>\n",
              "      <td>0.0</td>\n",
              "      <td>2016-10-06</td>\n",
              "      <td>17</td>\n",
              "      <td>Post-War</td>\n",
              "      <td>0.0000</td>\n",
              "    </tr>\n",
              "    <tr>\n",
              "      <th>49295</th>\n",
              "      <td>Brooklyn</td>\n",
              "      <td>WINDSOR TERRACE</td>\n",
              "      <td>47 CONDO NON-BUSINESS STORAGE</td>\n",
              "      <td>4</td>\n",
              "      <td>895</td>\n",
              "      <td>1219</td>\n",
              "      <td></td>\n",
              "      <td>RS</td>\n",
              "      <td>11 TERRACE PLACE</td>\n",
              "      <td>S8</td>\n",
              "      <td>...</td>\n",
              "      <td>0.0</td>\n",
              "      <td>0.0</td>\n",
              "      <td>2006</td>\n",
              "      <td>4</td>\n",
              "      <td>RS</td>\n",
              "      <td>0.0</td>\n",
              "      <td>2016-10-24</td>\n",
              "      <td>17</td>\n",
              "      <td>Post-War</td>\n",
              "      <td>0.0000</td>\n",
              "    </tr>\n",
              "    <tr>\n",
              "      <th>49344</th>\n",
              "      <td>Brooklyn</td>\n",
              "      <td>WYCKOFF HEIGHTS</td>\n",
              "      <td>04 TAX CLASS 1 CONDOS</td>\n",
              "      <td>1A</td>\n",
              "      <td>3200</td>\n",
              "      <td>1002</td>\n",
              "      <td></td>\n",
              "      <td>R3</td>\n",
              "      <td>54 ST NICHOLAS AVENUE</td>\n",
              "      <td>1B</td>\n",
              "      <td>...</td>\n",
              "      <td>0.0</td>\n",
              "      <td>0.0</td>\n",
              "      <td>1931</td>\n",
              "      <td>1</td>\n",
              "      <td>R3</td>\n",
              "      <td>510000.0</td>\n",
              "      <td>2017-07-13</td>\n",
              "      <td>92</td>\n",
              "      <td>Pre-War</td>\n",
              "      <td>0.5100</td>\n",
              "    </tr>\n",
              "  </tbody>\n",
              "</table>\n",
              "<p>8345 rows × 24 columns</p>\n",
              "</div>\n",
              "      <button class=\"colab-df-convert\" onclick=\"convertToInteractive('df-9315eefe-dcc3-44d8-b688-661395097994')\"\n",
              "              title=\"Convert this dataframe to an interactive table.\"\n",
              "              style=\"display:none;\">\n",
              "        \n",
              "  <svg xmlns=\"http://www.w3.org/2000/svg\" height=\"24px\"viewBox=\"0 0 24 24\"\n",
              "       width=\"24px\">\n",
              "    <path d=\"M0 0h24v24H0V0z\" fill=\"none\"/>\n",
              "    <path d=\"M18.56 5.44l.94 2.06.94-2.06 2.06-.94-2.06-.94-.94-2.06-.94 2.06-2.06.94zm-11 1L8.5 8.5l.94-2.06 2.06-.94-2.06-.94L8.5 2.5l-.94 2.06-2.06.94zm10 10l.94 2.06.94-2.06 2.06-.94-2.06-.94-.94-2.06-.94 2.06-2.06.94z\"/><path d=\"M17.41 7.96l-1.37-1.37c-.4-.4-.92-.59-1.43-.59-.52 0-1.04.2-1.43.59L10.3 9.45l-7.72 7.72c-.78.78-.78 2.05 0 2.83L4 21.41c.39.39.9.59 1.41.59.51 0 1.02-.2 1.41-.59l7.78-7.78 2.81-2.81c.8-.78.8-2.07 0-2.86zM5.41 20L4 18.59l7.72-7.72 1.47 1.35L5.41 20z\"/>\n",
              "  </svg>\n",
              "      </button>\n",
              "      \n",
              "  <style>\n",
              "    .colab-df-container {\n",
              "      display:flex;\n",
              "      flex-wrap:wrap;\n",
              "      gap: 12px;\n",
              "    }\n",
              "\n",
              "    .colab-df-convert {\n",
              "      background-color: #E8F0FE;\n",
              "      border: none;\n",
              "      border-radius: 50%;\n",
              "      cursor: pointer;\n",
              "      display: none;\n",
              "      fill: #1967D2;\n",
              "      height: 32px;\n",
              "      padding: 0 0 0 0;\n",
              "      width: 32px;\n",
              "    }\n",
              "\n",
              "    .colab-df-convert:hover {\n",
              "      background-color: #E2EBFA;\n",
              "      box-shadow: 0px 1px 2px rgba(60, 64, 67, 0.3), 0px 1px 3px 1px rgba(60, 64, 67, 0.15);\n",
              "      fill: #174EA6;\n",
              "    }\n",
              "\n",
              "    [theme=dark] .colab-df-convert {\n",
              "      background-color: #3B4455;\n",
              "      fill: #D2E3FC;\n",
              "    }\n",
              "\n",
              "    [theme=dark] .colab-df-convert:hover {\n",
              "      background-color: #434B5C;\n",
              "      box-shadow: 0px 1px 3px 1px rgba(0, 0, 0, 0.15);\n",
              "      filter: drop-shadow(0px 1px 2px rgba(0, 0, 0, 0.3));\n",
              "      fill: #FFFFFF;\n",
              "    }\n",
              "  </style>\n",
              "\n",
              "      <script>\n",
              "        const buttonEl =\n",
              "          document.querySelector('#df-9315eefe-dcc3-44d8-b688-661395097994 button.colab-df-convert');\n",
              "        buttonEl.style.display =\n",
              "          google.colab.kernel.accessAllowed ? 'block' : 'none';\n",
              "\n",
              "        async function convertToInteractive(key) {\n",
              "          const element = document.querySelector('#df-9315eefe-dcc3-44d8-b688-661395097994');\n",
              "          const dataTable =\n",
              "            await google.colab.kernel.invokeFunction('convertToInteractive',\n",
              "                                                     [key], {});\n",
              "          if (!dataTable) return;\n",
              "\n",
              "          const docLinkHtml = 'Like what you see? Visit the ' +\n",
              "            '<a target=\"_blank\" href=https://colab.research.google.com/notebooks/data_table.ipynb>data table notebook</a>'\n",
              "            + ' to learn more about interactive tables.';\n",
              "          element.innerHTML = '';\n",
              "          dataTable['output_type'] = 'display_data';\n",
              "          await google.colab.output.renderOutput(dataTable, element);\n",
              "          const docLink = document.createElement('div');\n",
              "          docLink.innerHTML = docLinkHtml;\n",
              "          element.appendChild(docLink);\n",
              "        }\n",
              "      </script>\n",
              "    </div>\n",
              "  </div>\n",
              "  "
            ]
          },
          "metadata": {},
          "execution_count": 25
        }
      ]
    },
    {
      "cell_type": "markdown",
      "source": [
        "Berdasarkan definisi variabel yang dicantumkan, land square feet adalah luas tanah yang tercantum dalam meter persegi. Berdasarkan definisi tersebut, tidak mungkin sebuah properti memiliki luas tanah sebesar 0 meter persegi."
      ],
      "metadata": {
        "id": "TO2mYCf_1Nzj"
      }
    },
    {
      "cell_type": "code",
      "source": [
        "df[df['gross_square_feet']==0]"
      ],
      "metadata": {
        "colab": {
          "base_uri": "https://localhost:8080/",
          "height": 852
        },
        "id": "BBANLy9fzmGA",
        "outputId": "417c634d-aed4-4b98-a317-0c14a7d2063f"
      },
      "execution_count": 26,
      "outputs": [
        {
          "output_type": "execute_result",
          "data": {
            "text/plain": [
              "        borough     neighborhood                      building_class_category  \\\n",
              "18354     Bronx         BATHGATE  10 COOPS - ELEVATOR APARTMENTS                \n",
              "18355     Bronx         BATHGATE  10 COOPS - ELEVATOR APARTMENTS                \n",
              "18356     Bronx         BATHGATE  10 COOPS - ELEVATOR APARTMENTS                \n",
              "18746     Bronx       BAYCHESTER  04 TAX CLASS 1 CONDOS                         \n",
              "18747     Bronx       BAYCHESTER  04 TAX CLASS 1 CONDOS                         \n",
              "...         ...              ...                                          ...   \n",
              "49292  Brooklyn  WINDSOR TERRACE  44 CONDO PARKING                              \n",
              "49293  Brooklyn  WINDSOR TERRACE  44 CONDO PARKING                              \n",
              "49294  Brooklyn  WINDSOR TERRACE  47 CONDO NON-BUSINESS STORAGE                 \n",
              "49295  Brooklyn  WINDSOR TERRACE  47 CONDO NON-BUSINESS STORAGE                 \n",
              "49344  Brooklyn  WYCKOFF HEIGHTS  04 TAX CLASS 1 CONDOS                         \n",
              "\n",
              "      tax_class_at_present block   lot ease-ment building_class_at_present  \\\n",
              "18354                    2  3035    48                                  D4   \n",
              "18355                    2  3035    48                                  D4   \n",
              "18356                    2  3044    40                                  D4   \n",
              "18746                   1A  4795  1009                                  R3   \n",
              "18747                   1A  4795  1027                                  R3   \n",
              "...                    ...   ...   ...       ...                       ...   \n",
              "49292                    4  5287  1035                                  RP   \n",
              "49293                    4  5287  1035                                  RP   \n",
              "49294                    4   895  1213                                  RS   \n",
              "49295                    4   895  1219                                  RS   \n",
              "49344                   1A  3200  1002                                  R3   \n",
              "\n",
              "                         address apartment_number  ... land_square_feet  \\\n",
              "18354  463 EAST 178TH STREET, 6E                   ...              0.0   \n",
              "18355      463 EAST 178TH ST, 6B                   ...              0.0   \n",
              "18356     495 E 178TH STREET, 2H                   ...              0.0   \n",
              "18746            2877 ELY AVENUE                3  ...              0.0   \n",
              "18747            2853 ELY AVENUE                3  ...              0.0   \n",
              "...                          ...              ...  ...              ...   \n",
              "49292       207 PROSPECT PARK SW              P35  ...              0.0   \n",
              "49293       207 PROSPECT PARK SW              P35  ...              0.0   \n",
              "49294           11 TERRACE PLACE               S2  ...              0.0   \n",
              "49295           11 TERRACE PLACE               S8  ...              0.0   \n",
              "49344      54 ST NICHOLAS AVENUE               1B  ...              0.0   \n",
              "\n",
              "       gross_square_feet  year_built  tax_class_at_time_of_sale  \\\n",
              "18354                0.0        1935                          2   \n",
              "18355                0.0        1935                          2   \n",
              "18356                0.0        1941                          2   \n",
              "18746                0.0        2008                          1   \n",
              "18747                0.0        2008                          1   \n",
              "...                  ...         ...                        ...   \n",
              "49292                0.0        1990                          4   \n",
              "49293                0.0        1990                          4   \n",
              "49294                0.0        2006                          4   \n",
              "49295                0.0        2006                          4   \n",
              "49344                0.0        1931                          1   \n",
              "\n",
              "       building_class_at_time_of_sale  sale_price  sale_date age age_category  \\\n",
              "18354                              D4     40000.0 2017-04-17  88      Pre-War   \n",
              "18355                              D4     40000.0 2017-04-17  88      Pre-War   \n",
              "18356                              D4     60000.0 2016-12-01  82      Pre-War   \n",
              "18746                              R3    310000.0 2017-02-28  15     Post-War   \n",
              "18747                              R3    342500.0 2017-07-31  15     Post-War   \n",
              "...                               ...         ...        ...  ..          ...   \n",
              "49292                              RP         0.0 2017-07-25  33     Post-War   \n",
              "49293                              RP         0.0 2017-07-17  33     Post-War   \n",
              "49294                              RS         0.0 2016-10-06  17     Post-War   \n",
              "49295                              RS         0.0 2016-10-24  17     Post-War   \n",
              "49344                              R3    510000.0 2017-07-13  92      Pre-War   \n",
              "\n",
              "       sale_price_in_m  \n",
              "18354           0.0400  \n",
              "18355           0.0400  \n",
              "18356           0.0600  \n",
              "18746           0.3100  \n",
              "18747           0.3425  \n",
              "...                ...  \n",
              "49292           0.0000  \n",
              "49293           0.0000  \n",
              "49294           0.0000  \n",
              "49295           0.0000  \n",
              "49344           0.5100  \n",
              "\n",
              "[8522 rows x 24 columns]"
            ],
            "text/html": [
              "\n",
              "  <div id=\"df-c3794eb1-7bdf-47bb-9b53-193dd3ae679a\">\n",
              "    <div class=\"colab-df-container\">\n",
              "      <div>\n",
              "<style scoped>\n",
              "    .dataframe tbody tr th:only-of-type {\n",
              "        vertical-align: middle;\n",
              "    }\n",
              "\n",
              "    .dataframe tbody tr th {\n",
              "        vertical-align: top;\n",
              "    }\n",
              "\n",
              "    .dataframe thead th {\n",
              "        text-align: right;\n",
              "    }\n",
              "</style>\n",
              "<table border=\"1\" class=\"dataframe\">\n",
              "  <thead>\n",
              "    <tr style=\"text-align: right;\">\n",
              "      <th></th>\n",
              "      <th>borough</th>\n",
              "      <th>neighborhood</th>\n",
              "      <th>building_class_category</th>\n",
              "      <th>tax_class_at_present</th>\n",
              "      <th>block</th>\n",
              "      <th>lot</th>\n",
              "      <th>ease-ment</th>\n",
              "      <th>building_class_at_present</th>\n",
              "      <th>address</th>\n",
              "      <th>apartment_number</th>\n",
              "      <th>...</th>\n",
              "      <th>land_square_feet</th>\n",
              "      <th>gross_square_feet</th>\n",
              "      <th>year_built</th>\n",
              "      <th>tax_class_at_time_of_sale</th>\n",
              "      <th>building_class_at_time_of_sale</th>\n",
              "      <th>sale_price</th>\n",
              "      <th>sale_date</th>\n",
              "      <th>age</th>\n",
              "      <th>age_category</th>\n",
              "      <th>sale_price_in_m</th>\n",
              "    </tr>\n",
              "  </thead>\n",
              "  <tbody>\n",
              "    <tr>\n",
              "      <th>18354</th>\n",
              "      <td>Bronx</td>\n",
              "      <td>BATHGATE</td>\n",
              "      <td>10 COOPS - ELEVATOR APARTMENTS</td>\n",
              "      <td>2</td>\n",
              "      <td>3035</td>\n",
              "      <td>48</td>\n",
              "      <td></td>\n",
              "      <td>D4</td>\n",
              "      <td>463 EAST 178TH STREET, 6E</td>\n",
              "      <td></td>\n",
              "      <td>...</td>\n",
              "      <td>0.0</td>\n",
              "      <td>0.0</td>\n",
              "      <td>1935</td>\n",
              "      <td>2</td>\n",
              "      <td>D4</td>\n",
              "      <td>40000.0</td>\n",
              "      <td>2017-04-17</td>\n",
              "      <td>88</td>\n",
              "      <td>Pre-War</td>\n",
              "      <td>0.0400</td>\n",
              "    </tr>\n",
              "    <tr>\n",
              "      <th>18355</th>\n",
              "      <td>Bronx</td>\n",
              "      <td>BATHGATE</td>\n",
              "      <td>10 COOPS - ELEVATOR APARTMENTS</td>\n",
              "      <td>2</td>\n",
              "      <td>3035</td>\n",
              "      <td>48</td>\n",
              "      <td></td>\n",
              "      <td>D4</td>\n",
              "      <td>463 EAST 178TH ST, 6B</td>\n",
              "      <td></td>\n",
              "      <td>...</td>\n",
              "      <td>0.0</td>\n",
              "      <td>0.0</td>\n",
              "      <td>1935</td>\n",
              "      <td>2</td>\n",
              "      <td>D4</td>\n",
              "      <td>40000.0</td>\n",
              "      <td>2017-04-17</td>\n",
              "      <td>88</td>\n",
              "      <td>Pre-War</td>\n",
              "      <td>0.0400</td>\n",
              "    </tr>\n",
              "    <tr>\n",
              "      <th>18356</th>\n",
              "      <td>Bronx</td>\n",
              "      <td>BATHGATE</td>\n",
              "      <td>10 COOPS - ELEVATOR APARTMENTS</td>\n",
              "      <td>2</td>\n",
              "      <td>3044</td>\n",
              "      <td>40</td>\n",
              "      <td></td>\n",
              "      <td>D4</td>\n",
              "      <td>495 E 178TH STREET, 2H</td>\n",
              "      <td></td>\n",
              "      <td>...</td>\n",
              "      <td>0.0</td>\n",
              "      <td>0.0</td>\n",
              "      <td>1941</td>\n",
              "      <td>2</td>\n",
              "      <td>D4</td>\n",
              "      <td>60000.0</td>\n",
              "      <td>2016-12-01</td>\n",
              "      <td>82</td>\n",
              "      <td>Pre-War</td>\n",
              "      <td>0.0600</td>\n",
              "    </tr>\n",
              "    <tr>\n",
              "      <th>18746</th>\n",
              "      <td>Bronx</td>\n",
              "      <td>BAYCHESTER</td>\n",
              "      <td>04 TAX CLASS 1 CONDOS</td>\n",
              "      <td>1A</td>\n",
              "      <td>4795</td>\n",
              "      <td>1009</td>\n",
              "      <td></td>\n",
              "      <td>R3</td>\n",
              "      <td>2877 ELY AVENUE</td>\n",
              "      <td>3</td>\n",
              "      <td>...</td>\n",
              "      <td>0.0</td>\n",
              "      <td>0.0</td>\n",
              "      <td>2008</td>\n",
              "      <td>1</td>\n",
              "      <td>R3</td>\n",
              "      <td>310000.0</td>\n",
              "      <td>2017-02-28</td>\n",
              "      <td>15</td>\n",
              "      <td>Post-War</td>\n",
              "      <td>0.3100</td>\n",
              "    </tr>\n",
              "    <tr>\n",
              "      <th>18747</th>\n",
              "      <td>Bronx</td>\n",
              "      <td>BAYCHESTER</td>\n",
              "      <td>04 TAX CLASS 1 CONDOS</td>\n",
              "      <td>1A</td>\n",
              "      <td>4795</td>\n",
              "      <td>1027</td>\n",
              "      <td></td>\n",
              "      <td>R3</td>\n",
              "      <td>2853 ELY AVENUE</td>\n",
              "      <td>3</td>\n",
              "      <td>...</td>\n",
              "      <td>0.0</td>\n",
              "      <td>0.0</td>\n",
              "      <td>2008</td>\n",
              "      <td>1</td>\n",
              "      <td>R3</td>\n",
              "      <td>342500.0</td>\n",
              "      <td>2017-07-31</td>\n",
              "      <td>15</td>\n",
              "      <td>Post-War</td>\n",
              "      <td>0.3425</td>\n",
              "    </tr>\n",
              "    <tr>\n",
              "      <th>...</th>\n",
              "      <td>...</td>\n",
              "      <td>...</td>\n",
              "      <td>...</td>\n",
              "      <td>...</td>\n",
              "      <td>...</td>\n",
              "      <td>...</td>\n",
              "      <td>...</td>\n",
              "      <td>...</td>\n",
              "      <td>...</td>\n",
              "      <td>...</td>\n",
              "      <td>...</td>\n",
              "      <td>...</td>\n",
              "      <td>...</td>\n",
              "      <td>...</td>\n",
              "      <td>...</td>\n",
              "      <td>...</td>\n",
              "      <td>...</td>\n",
              "      <td>...</td>\n",
              "      <td>...</td>\n",
              "      <td>...</td>\n",
              "      <td>...</td>\n",
              "    </tr>\n",
              "    <tr>\n",
              "      <th>49292</th>\n",
              "      <td>Brooklyn</td>\n",
              "      <td>WINDSOR TERRACE</td>\n",
              "      <td>44 CONDO PARKING</td>\n",
              "      <td>4</td>\n",
              "      <td>5287</td>\n",
              "      <td>1035</td>\n",
              "      <td></td>\n",
              "      <td>RP</td>\n",
              "      <td>207 PROSPECT PARK SW</td>\n",
              "      <td>P35</td>\n",
              "      <td>...</td>\n",
              "      <td>0.0</td>\n",
              "      <td>0.0</td>\n",
              "      <td>1990</td>\n",
              "      <td>4</td>\n",
              "      <td>RP</td>\n",
              "      <td>0.0</td>\n",
              "      <td>2017-07-25</td>\n",
              "      <td>33</td>\n",
              "      <td>Post-War</td>\n",
              "      <td>0.0000</td>\n",
              "    </tr>\n",
              "    <tr>\n",
              "      <th>49293</th>\n",
              "      <td>Brooklyn</td>\n",
              "      <td>WINDSOR TERRACE</td>\n",
              "      <td>44 CONDO PARKING</td>\n",
              "      <td>4</td>\n",
              "      <td>5287</td>\n",
              "      <td>1035</td>\n",
              "      <td></td>\n",
              "      <td>RP</td>\n",
              "      <td>207 PROSPECT PARK SW</td>\n",
              "      <td>P35</td>\n",
              "      <td>...</td>\n",
              "      <td>0.0</td>\n",
              "      <td>0.0</td>\n",
              "      <td>1990</td>\n",
              "      <td>4</td>\n",
              "      <td>RP</td>\n",
              "      <td>0.0</td>\n",
              "      <td>2017-07-17</td>\n",
              "      <td>33</td>\n",
              "      <td>Post-War</td>\n",
              "      <td>0.0000</td>\n",
              "    </tr>\n",
              "    <tr>\n",
              "      <th>49294</th>\n",
              "      <td>Brooklyn</td>\n",
              "      <td>WINDSOR TERRACE</td>\n",
              "      <td>47 CONDO NON-BUSINESS STORAGE</td>\n",
              "      <td>4</td>\n",
              "      <td>895</td>\n",
              "      <td>1213</td>\n",
              "      <td></td>\n",
              "      <td>RS</td>\n",
              "      <td>11 TERRACE PLACE</td>\n",
              "      <td>S2</td>\n",
              "      <td>...</td>\n",
              "      <td>0.0</td>\n",
              "      <td>0.0</td>\n",
              "      <td>2006</td>\n",
              "      <td>4</td>\n",
              "      <td>RS</td>\n",
              "      <td>0.0</td>\n",
              "      <td>2016-10-06</td>\n",
              "      <td>17</td>\n",
              "      <td>Post-War</td>\n",
              "      <td>0.0000</td>\n",
              "    </tr>\n",
              "    <tr>\n",
              "      <th>49295</th>\n",
              "      <td>Brooklyn</td>\n",
              "      <td>WINDSOR TERRACE</td>\n",
              "      <td>47 CONDO NON-BUSINESS STORAGE</td>\n",
              "      <td>4</td>\n",
              "      <td>895</td>\n",
              "      <td>1219</td>\n",
              "      <td></td>\n",
              "      <td>RS</td>\n",
              "      <td>11 TERRACE PLACE</td>\n",
              "      <td>S8</td>\n",
              "      <td>...</td>\n",
              "      <td>0.0</td>\n",
              "      <td>0.0</td>\n",
              "      <td>2006</td>\n",
              "      <td>4</td>\n",
              "      <td>RS</td>\n",
              "      <td>0.0</td>\n",
              "      <td>2016-10-24</td>\n",
              "      <td>17</td>\n",
              "      <td>Post-War</td>\n",
              "      <td>0.0000</td>\n",
              "    </tr>\n",
              "    <tr>\n",
              "      <th>49344</th>\n",
              "      <td>Brooklyn</td>\n",
              "      <td>WYCKOFF HEIGHTS</td>\n",
              "      <td>04 TAX CLASS 1 CONDOS</td>\n",
              "      <td>1A</td>\n",
              "      <td>3200</td>\n",
              "      <td>1002</td>\n",
              "      <td></td>\n",
              "      <td>R3</td>\n",
              "      <td>54 ST NICHOLAS AVENUE</td>\n",
              "      <td>1B</td>\n",
              "      <td>...</td>\n",
              "      <td>0.0</td>\n",
              "      <td>0.0</td>\n",
              "      <td>1931</td>\n",
              "      <td>1</td>\n",
              "      <td>R3</td>\n",
              "      <td>510000.0</td>\n",
              "      <td>2017-07-13</td>\n",
              "      <td>92</td>\n",
              "      <td>Pre-War</td>\n",
              "      <td>0.5100</td>\n",
              "    </tr>\n",
              "  </tbody>\n",
              "</table>\n",
              "<p>8522 rows × 24 columns</p>\n",
              "</div>\n",
              "      <button class=\"colab-df-convert\" onclick=\"convertToInteractive('df-c3794eb1-7bdf-47bb-9b53-193dd3ae679a')\"\n",
              "              title=\"Convert this dataframe to an interactive table.\"\n",
              "              style=\"display:none;\">\n",
              "        \n",
              "  <svg xmlns=\"http://www.w3.org/2000/svg\" height=\"24px\"viewBox=\"0 0 24 24\"\n",
              "       width=\"24px\">\n",
              "    <path d=\"M0 0h24v24H0V0z\" fill=\"none\"/>\n",
              "    <path d=\"M18.56 5.44l.94 2.06.94-2.06 2.06-.94-2.06-.94-.94-2.06-.94 2.06-2.06.94zm-11 1L8.5 8.5l.94-2.06 2.06-.94-2.06-.94L8.5 2.5l-.94 2.06-2.06.94zm10 10l.94 2.06.94-2.06 2.06-.94-2.06-.94-.94-2.06-.94 2.06-2.06.94z\"/><path d=\"M17.41 7.96l-1.37-1.37c-.4-.4-.92-.59-1.43-.59-.52 0-1.04.2-1.43.59L10.3 9.45l-7.72 7.72c-.78.78-.78 2.05 0 2.83L4 21.41c.39.39.9.59 1.41.59.51 0 1.02-.2 1.41-.59l7.78-7.78 2.81-2.81c.8-.78.8-2.07 0-2.86zM5.41 20L4 18.59l7.72-7.72 1.47 1.35L5.41 20z\"/>\n",
              "  </svg>\n",
              "      </button>\n",
              "      \n",
              "  <style>\n",
              "    .colab-df-container {\n",
              "      display:flex;\n",
              "      flex-wrap:wrap;\n",
              "      gap: 12px;\n",
              "    }\n",
              "\n",
              "    .colab-df-convert {\n",
              "      background-color: #E8F0FE;\n",
              "      border: none;\n",
              "      border-radius: 50%;\n",
              "      cursor: pointer;\n",
              "      display: none;\n",
              "      fill: #1967D2;\n",
              "      height: 32px;\n",
              "      padding: 0 0 0 0;\n",
              "      width: 32px;\n",
              "    }\n",
              "\n",
              "    .colab-df-convert:hover {\n",
              "      background-color: #E2EBFA;\n",
              "      box-shadow: 0px 1px 2px rgba(60, 64, 67, 0.3), 0px 1px 3px 1px rgba(60, 64, 67, 0.15);\n",
              "      fill: #174EA6;\n",
              "    }\n",
              "\n",
              "    [theme=dark] .colab-df-convert {\n",
              "      background-color: #3B4455;\n",
              "      fill: #D2E3FC;\n",
              "    }\n",
              "\n",
              "    [theme=dark] .colab-df-convert:hover {\n",
              "      background-color: #434B5C;\n",
              "      box-shadow: 0px 1px 3px 1px rgba(0, 0, 0, 0.15);\n",
              "      filter: drop-shadow(0px 1px 2px rgba(0, 0, 0, 0.3));\n",
              "      fill: #FFFFFF;\n",
              "    }\n",
              "  </style>\n",
              "\n",
              "      <script>\n",
              "        const buttonEl =\n",
              "          document.querySelector('#df-c3794eb1-7bdf-47bb-9b53-193dd3ae679a button.colab-df-convert');\n",
              "        buttonEl.style.display =\n",
              "          google.colab.kernel.accessAllowed ? 'block' : 'none';\n",
              "\n",
              "        async function convertToInteractive(key) {\n",
              "          const element = document.querySelector('#df-c3794eb1-7bdf-47bb-9b53-193dd3ae679a');\n",
              "          const dataTable =\n",
              "            await google.colab.kernel.invokeFunction('convertToInteractive',\n",
              "                                                     [key], {});\n",
              "          if (!dataTable) return;\n",
              "\n",
              "          const docLinkHtml = 'Like what you see? Visit the ' +\n",
              "            '<a target=\"_blank\" href=https://colab.research.google.com/notebooks/data_table.ipynb>data table notebook</a>'\n",
              "            + ' to learn more about interactive tables.';\n",
              "          element.innerHTML = '';\n",
              "          dataTable['output_type'] = 'display_data';\n",
              "          await google.colab.output.renderOutput(dataTable, element);\n",
              "          const docLink = document.createElement('div');\n",
              "          docLink.innerHTML = docLinkHtml;\n",
              "          element.appendChild(docLink);\n",
              "        }\n",
              "      </script>\n",
              "    </div>\n",
              "  </div>\n",
              "  "
            ]
          },
          "metadata": {},
          "execution_count": 26
        }
      ]
    },
    {
      "cell_type": "markdown",
      "source": [
        "Gross square feet didefinisikan sebagai luas total seluruh lantai yang diukur dari permukaan luar dinding, luar bangunan termasuk luas tanah dan ruang di setiap bangunan atau struktur apapun di properti. Sama seperti sebelumnya tidak mungkin jika gross square feet memiliki nilai sebesar 0, dan seharusnya dihapus."
      ],
      "metadata": {
        "id": "m4weKw5E1XOf"
      }
    },
    {
      "cell_type": "code",
      "source": [
        "# Hapus outliers dari kolom land square feet dan gross square feet.\n",
        "df = df[df['land_square_feet']!=0]\n",
        "df = df[df['gross_square_feet']!=0]"
      ],
      "metadata": {
        "id": "GVik03zZ04Kf"
      },
      "execution_count": 27,
      "outputs": []
    },
    {
      "cell_type": "markdown",
      "source": [
        "##**Measure of Central Tendency**"
      ],
      "metadata": {
        "id": "b5MlDaJs1dTL"
      }
    },
    {
      "cell_type": "markdown",
      "source": [
        "**Mean**"
      ],
      "metadata": {
        "id": "DrdZ86h11h9V"
      }
    },
    {
      "cell_type": "markdown",
      "source": [
        "Kita akan mecoba mencari mean harga jual properti dalam juta dolar di New York (kolom sale_price_in_m)."
      ],
      "metadata": {
        "id": "N-vL-68O1lQ5"
      }
    },
    {
      "cell_type": "code",
      "source": [
        "# slice kolom sale_price dan simpan dalam variabel baru\n",
        "x = df['sale_price_in_m']\n",
        "x"
      ],
      "metadata": {
        "colab": {
          "base_uri": "https://localhost:8080/"
        },
        "id": "wsHtjeeRzh9D",
        "outputId": "67d76eba-ee88-4256-8866-15d3955e44a3"
      },
      "execution_count": 28,
      "outputs": [
        {
          "output_type": "execute_result",
          "data": {
            "text/plain": [
              "0         6.625000\n",
              "3         3.936272\n",
              "4         8.000000\n",
              "6         3.192840\n",
              "9        16.232000\n",
              "           ...    \n",
              "84543     0.450000\n",
              "84544     0.550000\n",
              "84545     0.460000\n",
              "84546    11.693337\n",
              "84547     0.069300\n",
              "Name: sale_price_in_m, Length: 36805, dtype: float64"
            ]
          },
          "metadata": {},
          "execution_count": 28
        }
      ]
    },
    {
      "cell_type": "code",
      "source": [
        "# Mean dengan NumPy\n",
        "mean_ = np.mean(x)\n",
        "mean_"
      ],
      "metadata": {
        "colab": {
          "base_uri": "https://localhost:8080/"
        },
        "id": "ZiF1ElqIy9Lb",
        "outputId": "84955d9a-6d7b-4a24-e070-8681b844691c"
      },
      "execution_count": 29,
      "outputs": [
        {
          "output_type": "execute_result",
          "data": {
            "text/plain": [
              "1.3058409831001223"
            ]
          },
          "metadata": {},
          "execution_count": 29
        }
      ]
    },
    {
      "cell_type": "code",
      "source": [
        "# Mean dengan pd.Series\n",
        "mean_ = x.mean()\n",
        "mean_"
      ],
      "metadata": {
        "colab": {
          "base_uri": "https://localhost:8080/"
        },
        "id": "Y6gmuZBx1weP",
        "outputId": "58603edf-3d7a-49db-d384-1971a0e4b2ca"
      },
      "execution_count": 30,
      "outputs": [
        {
          "output_type": "execute_result",
          "data": {
            "text/plain": [
              "1.3058409831001223"
            ]
          },
          "metadata": {},
          "execution_count": 30
        }
      ]
    },
    {
      "cell_type": "code",
      "source": [
        "# Mean dengan Scipy\n",
        "mean_ = scipy.mean(x)\n",
        "mean_"
      ],
      "metadata": {
        "colab": {
          "base_uri": "https://localhost:8080/"
        },
        "id": "ky3bub7H1y1V",
        "outputId": "1ca84dbe-ca07-45e5-ef02-726f75d4dd29"
      },
      "execution_count": 31,
      "outputs": [
        {
          "output_type": "stream",
          "name": "stderr",
          "text": [
            "<ipython-input-31-30de06e87c8b>:2: DeprecationWarning: scipy.mean is deprecated and will be removed in SciPy 2.0.0, use numpy.mean instead\n",
            "  mean_ = scipy.mean(x)\n"
          ]
        },
        {
          "output_type": "execute_result",
          "data": {
            "text/plain": [
              "1.3058409831001223"
            ]
          },
          "metadata": {},
          "execution_count": 31
        }
      ]
    },
    {
      "cell_type": "markdown",
      "source": [
        "Kita akan mencoba mencari tahu rata-rata harga jual properti dari masing-masing wilayah."
      ],
      "metadata": {
        "id": "wX8oAEIB15Od"
      }
    },
    {
      "cell_type": "code",
      "source": [
        "# Slice kolom sale_price dan groupby borough .mean()\n",
        "mean_bor = df['sale_price'].groupby(df['borough']).mean()\n",
        "\n",
        "# Visualisasikan dalam bentuk bar plot agar lebih mudah dipahami\n",
        "mean_bor.plot(kind='bar',\n",
        "              figsize=(10, 8),\n",
        "              color='blue')\n",
        "plt.xlabel('borough')\n",
        "plt.ylabel('average selling price')\n",
        "plt.title('Average Selling Price in Each Borough')"
      ],
      "metadata": {
        "colab": {
          "base_uri": "https://localhost:8080/",
          "height": 812
        },
        "id": "7NxLkis116I8",
        "outputId": "22b8e48e-053d-4974-a338-62521ed2f29c"
      },
      "execution_count": 32,
      "outputs": [
        {
          "output_type": "execute_result",
          "data": {
            "text/plain": [
              "Text(0.5, 1.0, 'Average Selling Price in Each Borough')"
            ]
          },
          "metadata": {},
          "execution_count": 32
        },
        {
          "output_type": "display_data",
          "data": {
            "text/plain": [
              "<Figure size 1000x800 with 1 Axes>"
            ],
            "image/png": "[encoded data removed]"
          },
          "metadata": {}
        }
      ]
    },
    {
      "cell_type": "markdown",
      "source": [
        "Berdasarkan hasil visualisasi dengan bar plot, dapat disimpulkan bahwa dengan harga jual rata-rata properti di wilayah Manhattan jauh lebih tinggi dibandingkan dengan wilayah lainnya."
      ],
      "metadata": {
        "id": "MBZUFNWY19rI"
      }
    },
    {
      "cell_type": "markdown",
      "source": [
        "**Median**"
      ],
      "metadata": {
        "id": "BnUZlqsS2Ck3"
      }
    },
    {
      "cell_type": "markdown",
      "source": [
        "Kita akan mencoba mencari nilai tengah dari umur properti (kolom age)."
      ],
      "metadata": {
        "id": "PDfbtXkN2H1N"
      }
    },
    {
      "cell_type": "code",
      "source": [
        "# buat series yang berisi kolom age\n",
        "age_ = df['age']\n",
        "age_"
      ],
      "metadata": {
        "colab": {
          "base_uri": "https://localhost:8080/"
        },
        "id": "Lojg4Vjw2InJ",
        "outputId": "8be80608-bb83-4f51-abe2-7a123f0f6e1c"
      },
      "execution_count": 33,
      "outputs": [
        {
          "output_type": "execute_result",
          "data": {
            "text/plain": [
              "0        123\n",
              "3        110\n",
              "4        123\n",
              "6        103\n",
              "9        103\n",
              "        ... \n",
              "84543     25\n",
              "84544     25\n",
              "84545     98\n",
              "84546     22\n",
              "84547     17\n",
              "Name: age, Length: 36805, dtype: int64"
            ]
          },
          "metadata": {},
          "execution_count": 33
        }
      ]
    },
    {
      "cell_type": "code",
      "source": [
        "# Median dengan NumPy\n",
        "median_ = np.median(age_)\n",
        "median_"
      ],
      "metadata": {
        "colab": {
          "base_uri": "https://localhost:8080/"
        },
        "id": "tyhFsfv52FJ6",
        "outputId": "4278f618-9248-44c0-ac84-1f11a1a1b5ba"
      },
      "execution_count": 34,
      "outputs": [
        {
          "output_type": "execute_result",
          "data": {
            "text/plain": [
              "93.0"
            ]
          },
          "metadata": {},
          "execution_count": 34
        }
      ]
    },
    {
      "cell_type": "code",
      "source": [
        "# Median dengan pd.Series\n",
        "median_ = age_.median()\n",
        "median_"
      ],
      "metadata": {
        "colab": {
          "base_uri": "https://localhost:8080/"
        },
        "id": "_Lak3PEI2Poa",
        "outputId": "633c6e38-230d-4f4a-c4b2-9ed618981440"
      },
      "execution_count": 35,
      "outputs": [
        {
          "output_type": "execute_result",
          "data": {
            "text/plain": [
              "93.0"
            ]
          },
          "metadata": {},
          "execution_count": 35
        }
      ]
    },
    {
      "cell_type": "code",
      "source": [
        "# Median dengan Scipy\n",
        "median_ = scipy.median(age_)\n",
        "median_"
      ],
      "metadata": {
        "colab": {
          "base_uri": "https://localhost:8080/"
        },
        "id": "KMSGNJBt2Q2R",
        "outputId": "b8d91215-a8a3-4ac8-c8e7-3b93ec4c9230"
      },
      "execution_count": 36,
      "outputs": [
        {
          "output_type": "stream",
          "name": "stderr",
          "text": [
            "<ipython-input-36-d4e5550c3dfe>:2: DeprecationWarning: scipy.median is deprecated and will be removed in SciPy 2.0.0, use numpy.median instead\n",
            "  median_ = scipy.median(age_)\n"
          ]
        },
        {
          "output_type": "execute_result",
          "data": {
            "text/plain": [
              "93.0"
            ]
          },
          "metadata": {},
          "execution_count": 36
        }
      ]
    },
    {
      "cell_type": "markdown",
      "source": [
        "Kita akan mencoba memvisualisasikan median kolom age dari masing-masing wilayah"
      ],
      "metadata": {
        "id": "2oPxFoP32UmM"
      }
    },
    {
      "cell_type": "code",
      "source": [
        "sns.barplot(data=df, x='age', y='borough', estimator=np.median)\n",
        "plt.subplots(figsize=(25, 20))\n",
        "plt.title('Barplot: Median Age by Borough')\n",
        "plt.show()"
      ],
      "metadata": {
        "colab": {
          "base_uri": "https://localhost:8080/",
          "height": 1000
        },
        "id": "fwgtPgk62VXt",
        "outputId": "d38a8dac-593c-4029-ae65-6a3c7f2c972f"
      },
      "execution_count": 37,
      "outputs": [
        {
          "output_type": "display_data",
          "data": {
            "text/plain": [
              "<Figure size 640x480 with 1 Axes>"
            ],
            "image/png": "[encoded data removed]"
          },
          "metadata": {}
        },
        {
          "output_type": "display_data",
          "data": {
            "text/plain": [
              "<Figure size 2500x2000 with 1 Axes>"
            ],
            "image/png": "[encoded data removed]"
          },
          "metadata": {}
        }
      ]
    },
    {
      "cell_type": "markdown",
      "source": [
        "Berdasarkan hasil visualisasi tersebut dapat disimpulkan bahwa properti di Manhattan memiliki nilai tengah yang tinggi dibandingkan wilayah lain, sedangkan staten island merupakan wilayah dengan median age terendah, dan kemungkinan properti di wilayah state island banyak dibangun setelah masa perang."
      ],
      "metadata": {
        "id": "Fla6jjH62vyP"
      }
    },
    {
      "cell_type": "markdown",
      "source": [
        "**Mode**"
      ],
      "metadata": {
        "id": "tHwjENnK3RG6"
      }
    },
    {
      "cell_type": "markdown",
      "source": [
        "Kita akan mencoba mencari mode tahun properti di bangun (kolom year_built)."
      ],
      "metadata": {
        "id": "pl0hCVtZ3qxe"
      }
    },
    {
      "cell_type": "code",
      "source": [
        "# buat series yang berisi kolom year built\n",
        "years_built = df['year_built']\n",
        "years_built"
      ],
      "metadata": {
        "colab": {
          "base_uri": "https://localhost:8080/"
        },
        "id": "gBKFKYcR3Ij-",
        "outputId": "dd2c83ff-1e38-48bb-805c-3c94747fa30b"
      },
      "execution_count": 38,
      "outputs": [
        {
          "output_type": "execute_result",
          "data": {
            "text/plain": [
              "0        1900\n",
              "3        1913\n",
              "4        1900\n",
              "6        1920\n",
              "9        1920\n",
              "         ... \n",
              "84543    1998\n",
              "84544    1998\n",
              "84545    1925\n",
              "84546    2001\n",
              "84547    2006\n",
              "Name: year_built, Length: 36805, dtype: int64"
            ]
          },
          "metadata": {},
          "execution_count": 38
        }
      ]
    },
    {
      "cell_type": "code",
      "source": [
        "# Mode dengan pd.Series\n",
        "print(years_built.mode())"
      ],
      "metadata": {
        "colab": {
          "base_uri": "https://localhost:8080/"
        },
        "id": "aIlFSFjx4yYV",
        "outputId": "46f3dc32-58fa-4668-9b3b-203621017bba"
      },
      "execution_count": 39,
      "outputs": [
        {
          "output_type": "stream",
          "name": "stdout",
          "text": [
            "0    1920\n",
            "Name: year_built, dtype: int64\n"
          ]
        }
      ]
    },
    {
      "cell_type": "code",
      "source": [
        "# Mode dengan scipy\n",
        "mode_ = scipy.stats.mode(years_built)\n",
        "mode_"
      ],
      "metadata": {
        "colab": {
          "base_uri": "https://localhost:8080/"
        },
        "id": "B95y0b0a40Us",
        "outputId": "2c204f2a-b369-408e-c352-248f714660b6"
      },
      "execution_count": 40,
      "outputs": [
        {
          "output_type": "stream",
          "name": "stderr",
          "text": [
            "<ipython-input-40-ba0d94f21398>:2: FutureWarning: Unlike other reduction functions (e.g. `skew`, `kurtosis`), the default behavior of `mode` typically preserves the axis it acts along. In SciPy 1.11.0, this behavior will change: the default value of `keepdims` will become False, the `axis` over which the statistic is taken will be eliminated, and the value None will no longer be accepted. Set `keepdims` to True or False to avoid this warning.\n",
            "  mode_ = scipy.stats.mode(years_built)\n"
          ]
        },
        {
          "output_type": "execute_result",
          "data": {
            "text/plain": [
              "ModeResult(mode=array([1920]), count=array([4281]))"
            ]
          },
          "metadata": {},
          "execution_count": 40
        }
      ]
    },
    {
      "cell_type": "code",
      "source": [
        "# Mode dengan statistics\n",
        "mode_ = statistics.mode(years_built)\n",
        "mode_"
      ],
      "metadata": {
        "colab": {
          "base_uri": "https://localhost:8080/"
        },
        "id": "03tGwlUL42Qo",
        "outputId": "ff4ab2b2-fa71-4125-898c-47d9070b3a01"
      },
      "execution_count": 41,
      "outputs": [
        {
          "output_type": "execute_result",
          "data": {
            "text/plain": [
              "1920"
            ]
          },
          "metadata": {},
          "execution_count": 41
        }
      ]
    },
    {
      "cell_type": "markdown",
      "source": [
        "##**Measure of Spread**"
      ],
      "metadata": {
        "id": "eJpXdTDU45tu"
      }
    },
    {
      "cell_type": "markdown",
      "source": [
        "**Range**"
      ],
      "metadata": {
        "id": "PgBCqWj_5BIn"
      }
    },
    {
      "cell_type": "markdown",
      "source": [
        "Kita akan mencoba mencari range data harga jual properti rumah (kolom sale_price_in_m) di wilayah Manhattan."
      ],
      "metadata": {
        "id": "Vc5RHHVW5FWK"
      }
    },
    {
      "cell_type": "code",
      "source": [
        "# Buat df baru berisi borough dan sale price in m\n",
        "price_bor = df[['borough', 'sale_price_in_m']]\n",
        "price_bor"
      ],
      "metadata": {
        "colab": {
          "base_uri": "https://localhost:8080/",
          "height": 424
        },
        "id": "cTgn5KMf5IWU",
        "outputId": "cb22c3b3-bfe0-43c2-ed7b-f13da82dd46b"
      },
      "execution_count": 42,
      "outputs": [
        {
          "output_type": "execute_result",
          "data": {
            "text/plain": [
              "             borough  sale_price_in_m\n",
              "0          Manhattan         6.625000\n",
              "3          Manhattan         3.936272\n",
              "4          Manhattan         8.000000\n",
              "6          Manhattan         3.192840\n",
              "9          Manhattan        16.232000\n",
              "...              ...              ...\n",
              "84543  Staten Island         0.450000\n",
              "84544  Staten Island         0.550000\n",
              "84545  Staten Island         0.460000\n",
              "84546  Staten Island        11.693337\n",
              "84547  Staten Island         0.069300\n",
              "\n",
              "[36805 rows x 2 columns]"
            ],
            "text/html": [
              "\n",
              "  <div id=\"df-026c8375-af0b-4b8c-a529-e0d94e30e75f\">\n",
              "    <div class=\"colab-df-container\">\n",
              "      <div>\n",
              "<style scoped>\n",
              "    .dataframe tbody tr th:only-of-type {\n",
              "        vertical-align: middle;\n",
              "    }\n",
              "\n",
              "    .dataframe tbody tr th {\n",
              "        vertical-align: top;\n",
              "    }\n",
              "\n",
              "    .dataframe thead th {\n",
              "        text-align: right;\n",
              "    }\n",
              "</style>\n",
              "<table border=\"1\" class=\"dataframe\">\n",
              "  <thead>\n",
              "    <tr style=\"text-align: right;\">\n",
              "      <th></th>\n",
              "      <th>borough</th>\n",
              "      <th>sale_price_in_m</th>\n",
              "    </tr>\n",
              "  </thead>\n",
              "  <tbody>\n",
              "    <tr>\n",
              "      <th>0</th>\n",
              "      <td>Manhattan</td>\n",
              "      <td>6.625000</td>\n",
              "    </tr>\n",
              "    <tr>\n",
              "      <th>3</th>\n",
              "      <td>Manhattan</td>\n",
              "      <td>3.936272</td>\n",
              "    </tr>\n",
              "    <tr>\n",
              "      <th>4</th>\n",
              "      <td>Manhattan</td>\n",
              "      <td>8.000000</td>\n",
              "    </tr>\n",
              "    <tr>\n",
              "      <th>6</th>\n",
              "      <td>Manhattan</td>\n",
              "      <td>3.192840</td>\n",
              "    </tr>\n",
              "    <tr>\n",
              "      <th>9</th>\n",
              "      <td>Manhattan</td>\n",
              "      <td>16.232000</td>\n",
              "    </tr>\n",
              "    <tr>\n",
              "      <th>...</th>\n",
              "      <td>...</td>\n",
              "      <td>...</td>\n",
              "    </tr>\n",
              "    <tr>\n",
              "      <th>84543</th>\n",
              "      <td>Staten Island</td>\n",
              "      <td>0.450000</td>\n",
              "    </tr>\n",
              "    <tr>\n",
              "      <th>84544</th>\n",
              "      <td>Staten Island</td>\n",
              "      <td>0.550000</td>\n",
              "    </tr>\n",
              "    <tr>\n",
              "      <th>84545</th>\n",
              "      <td>Staten Island</td>\n",
              "      <td>0.460000</td>\n",
              "    </tr>\n",
              "    <tr>\n",
              "      <th>84546</th>\n",
              "      <td>Staten Island</td>\n",
              "      <td>11.693337</td>\n",
              "    </tr>\n",
              "    <tr>\n",
              "      <th>84547</th>\n",
              "      <td>Staten Island</td>\n",
              "      <td>0.069300</td>\n",
              "    </tr>\n",
              "  </tbody>\n",
              "</table>\n",
              "<p>36805 rows × 2 columns</p>\n",
              "</div>\n",
              "      <button class=\"colab-df-convert\" onclick=\"convertToInteractive('df-026c8375-af0b-4b8c-a529-e0d94e30e75f')\"\n",
              "              title=\"Convert this dataframe to an interactive table.\"\n",
              "              style=\"display:none;\">\n",
              "        \n",
              "  <svg xmlns=\"http://www.w3.org/2000/svg\" height=\"24px\"viewBox=\"0 0 24 24\"\n",
              "       width=\"24px\">\n",
              "    <path d=\"M0 0h24v24H0V0z\" fill=\"none\"/>\n",
              "    <path d=\"M18.56 5.44l.94 2.06.94-2.06 2.06-.94-2.06-.94-.94-2.06-.94 2.06-2.06.94zm-11 1L8.5 8.5l.94-2.06 2.06-.94-2.06-.94L8.5 2.5l-.94 2.06-2.06.94zm10 10l.94 2.06.94-2.06 2.06-.94-2.06-.94-.94-2.06-.94 2.06-2.06.94z\"/><path d=\"M17.41 7.96l-1.37-1.37c-.4-.4-.92-.59-1.43-.59-.52 0-1.04.2-1.43.59L10.3 9.45l-7.72 7.72c-.78.78-.78 2.05 0 2.83L4 21.41c.39.39.9.59 1.41.59.51 0 1.02-.2 1.41-.59l7.78-7.78 2.81-2.81c.8-.78.8-2.07 0-2.86zM5.41 20L4 18.59l7.72-7.72 1.47 1.35L5.41 20z\"/>\n",
              "  </svg>\n",
              "      </button>\n",
              "      \n",
              "  <style>\n",
              "    .colab-df-container {\n",
              "      display:flex;\n",
              "      flex-wrap:wrap;\n",
              "      gap: 12px;\n",
              "    }\n",
              "\n",
              "    .colab-df-convert {\n",
              "      background-color: #E8F0FE;\n",
              "      border: none;\n",
              "      border-radius: 50%;\n",
              "      cursor: pointer;\n",
              "      display: none;\n",
              "      fill: #1967D2;\n",
              "      height: 32px;\n",
              "      padding: 0 0 0 0;\n",
              "      width: 32px;\n",
              "    }\n",
              "\n",
              "    .colab-df-convert:hover {\n",
              "      background-color: #E2EBFA;\n",
              "      box-shadow: 0px 1px 2px rgba(60, 64, 67, 0.3), 0px 1px 3px 1px rgba(60, 64, 67, 0.15);\n",
              "      fill: #174EA6;\n",
              "    }\n",
              "\n",
              "    [theme=dark] .colab-df-convert {\n",
              "      background-color: #3B4455;\n",
              "      fill: #D2E3FC;\n",
              "    }\n",
              "\n",
              "    [theme=dark] .colab-df-convert:hover {\n",
              "      background-color: #434B5C;\n",
              "      box-shadow: 0px 1px 3px 1px rgba(0, 0, 0, 0.15);\n",
              "      filter: drop-shadow(0px 1px 2px rgba(0, 0, 0, 0.3));\n",
              "      fill: #FFFFFF;\n",
              "    }\n",
              "  </style>\n",
              "\n",
              "      <script>\n",
              "        const buttonEl =\n",
              "          document.querySelector('#df-026c8375-af0b-4b8c-a529-e0d94e30e75f button.colab-df-convert');\n",
              "        buttonEl.style.display =\n",
              "          google.colab.kernel.accessAllowed ? 'block' : 'none';\n",
              "\n",
              "        async function convertToInteractive(key) {\n",
              "          const element = document.querySelector('#df-026c8375-af0b-4b8c-a529-e0d94e30e75f');\n",
              "          const dataTable =\n",
              "            await google.colab.kernel.invokeFunction('convertToInteractive',\n",
              "                                                     [key], {});\n",
              "          if (!dataTable) return;\n",
              "\n",
              "          const docLinkHtml = 'Like what you see? Visit the ' +\n",
              "            '<a target=\"_blank\" href=https://colab.research.google.com/notebooks/data_table.ipynb>data table notebook</a>'\n",
              "            + ' to learn more about interactive tables.';\n",
              "          element.innerHTML = '';\n",
              "          dataTable['output_type'] = 'display_data';\n",
              "          await google.colab.output.renderOutput(dataTable, element);\n",
              "          const docLink = document.createElement('div');\n",
              "          docLink.innerHTML = docLinkHtml;\n",
              "          element.appendChild(docLink);\n",
              "        }\n",
              "      </script>\n",
              "    </div>\n",
              "  </div>\n",
              "  "
            ]
          },
          "metadata": {},
          "execution_count": 42
        }
      ]
    },
    {
      "cell_type": "code",
      "source": [
        "# filter borough = Manhattan\n",
        "price_man = price_bor.loc[price_bor['borough']=='Manhattan']\n",
        "price_man"
      ],
      "metadata": {
        "colab": {
          "base_uri": "https://localhost:8080/",
          "height": 424
        },
        "id": "Hx-fS8WY4_hR",
        "outputId": "c221a7c7-9052-4e52-bdcd-081103571bd9"
      },
      "execution_count": 43,
      "outputs": [
        {
          "output_type": "execute_result",
          "data": {
            "text/plain": [
              "         borough  sale_price_in_m\n",
              "0      Manhattan         6.625000\n",
              "3      Manhattan         3.936272\n",
              "4      Manhattan         8.000000\n",
              "6      Manhattan         3.192840\n",
              "9      Manhattan        16.232000\n",
              "...          ...              ...\n",
              "18040  Manhattan        11.925000\n",
              "18041  Manhattan        32.000000\n",
              "18042  Manhattan        40.100000\n",
              "18044  Manhattan         5.650000\n",
              "18300  Manhattan         2.000000\n",
              "\n",
              "[1006 rows x 2 columns]"
            ],
            "text/html": [
              "\n",
              "  <div id=\"df-f40a41be-d254-4758-979a-cfc39faa50c3\">\n",
              "    <div class=\"colab-df-container\">\n",
              "      <div>\n",
              "<style scoped>\n",
              "    .dataframe tbody tr th:only-of-type {\n",
              "        vertical-align: middle;\n",
              "    }\n",
              "\n",
              "    .dataframe tbody tr th {\n",
              "        vertical-align: top;\n",
              "    }\n",
              "\n",
              "    .dataframe thead th {\n",
              "        text-align: right;\n",
              "    }\n",
              "</style>\n",
              "<table border=\"1\" class=\"dataframe\">\n",
              "  <thead>\n",
              "    <tr style=\"text-align: right;\">\n",
              "      <th></th>\n",
              "      <th>borough</th>\n",
              "      <th>sale_price_in_m</th>\n",
              "    </tr>\n",
              "  </thead>\n",
              "  <tbody>\n",
              "    <tr>\n",
              "      <th>0</th>\n",
              "      <td>Manhattan</td>\n",
              "      <td>6.625000</td>\n",
              "    </tr>\n",
              "    <tr>\n",
              "      <th>3</th>\n",
              "      <td>Manhattan</td>\n",
              "      <td>3.936272</td>\n",
              "    </tr>\n",
              "    <tr>\n",
              "      <th>4</th>\n",
              "      <td>Manhattan</td>\n",
              "      <td>8.000000</td>\n",
              "    </tr>\n",
              "    <tr>\n",
              "      <th>6</th>\n",
              "      <td>Manhattan</td>\n",
              "      <td>3.192840</td>\n",
              "    </tr>\n",
              "    <tr>\n",
              "      <th>9</th>\n",
              "      <td>Manhattan</td>\n",
              "      <td>16.232000</td>\n",
              "    </tr>\n",
              "    <tr>\n",
              "      <th>...</th>\n",
              "      <td>...</td>\n",
              "      <td>...</td>\n",
              "    </tr>\n",
              "    <tr>\n",
              "      <th>18040</th>\n",
              "      <td>Manhattan</td>\n",
              "      <td>11.925000</td>\n",
              "    </tr>\n",
              "    <tr>\n",
              "      <th>18041</th>\n",
              "      <td>Manhattan</td>\n",
              "      <td>32.000000</td>\n",
              "    </tr>\n",
              "    <tr>\n",
              "      <th>18042</th>\n",
              "      <td>Manhattan</td>\n",
              "      <td>40.100000</td>\n",
              "    </tr>\n",
              "    <tr>\n",
              "      <th>18044</th>\n",
              "      <td>Manhattan</td>\n",
              "      <td>5.650000</td>\n",
              "    </tr>\n",
              "    <tr>\n",
              "      <th>18300</th>\n",
              "      <td>Manhattan</td>\n",
              "      <td>2.000000</td>\n",
              "    </tr>\n",
              "  </tbody>\n",
              "</table>\n",
              "<p>1006 rows × 2 columns</p>\n",
              "</div>\n",
              "      <button class=\"colab-df-convert\" onclick=\"convertToInteractive('df-f40a41be-d254-4758-979a-cfc39faa50c3')\"\n",
              "              title=\"Convert this dataframe to an interactive table.\"\n",
              "              style=\"display:none;\">\n",
              "        \n",
              "  <svg xmlns=\"http://www.w3.org/2000/svg\" height=\"24px\"viewBox=\"0 0 24 24\"\n",
              "       width=\"24px\">\n",
              "    <path d=\"M0 0h24v24H0V0z\" fill=\"none\"/>\n",
              "    <path d=\"M18.56 5.44l.94 2.06.94-2.06 2.06-.94-2.06-.94-.94-2.06-.94 2.06-2.06.94zm-11 1L8.5 8.5l.94-2.06 2.06-.94-2.06-.94L8.5 2.5l-.94 2.06-2.06.94zm10 10l.94 2.06.94-2.06 2.06-.94-2.06-.94-.94-2.06-.94 2.06-2.06.94z\"/><path d=\"M17.41 7.96l-1.37-1.37c-.4-.4-.92-.59-1.43-.59-.52 0-1.04.2-1.43.59L10.3 9.45l-7.72 7.72c-.78.78-.78 2.05 0 2.83L4 21.41c.39.39.9.59 1.41.59.51 0 1.02-.2 1.41-.59l7.78-7.78 2.81-2.81c.8-.78.8-2.07 0-2.86zM5.41 20L4 18.59l7.72-7.72 1.47 1.35L5.41 20z\"/>\n",
              "  </svg>\n",
              "      </button>\n",
              "      \n",
              "  <style>\n",
              "    .colab-df-container {\n",
              "      display:flex;\n",
              "      flex-wrap:wrap;\n",
              "      gap: 12px;\n",
              "    }\n",
              "\n",
              "    .colab-df-convert {\n",
              "      background-color: #E8F0FE;\n",
              "      border: none;\n",
              "      border-radius: 50%;\n",
              "      cursor: pointer;\n",
              "      display: none;\n",
              "      fill: #1967D2;\n",
              "      height: 32px;\n",
              "      padding: 0 0 0 0;\n",
              "      width: 32px;\n",
              "    }\n",
              "\n",
              "    .colab-df-convert:hover {\n",
              "      background-color: #E2EBFA;\n",
              "      box-shadow: 0px 1px 2px rgba(60, 64, 67, 0.3), 0px 1px 3px 1px rgba(60, 64, 67, 0.15);\n",
              "      fill: #174EA6;\n",
              "    }\n",
              "\n",
              "    [theme=dark] .colab-df-convert {\n",
              "      background-color: #3B4455;\n",
              "      fill: #D2E3FC;\n",
              "    }\n",
              "\n",
              "    [theme=dark] .colab-df-convert:hover {\n",
              "      background-color: #434B5C;\n",
              "      box-shadow: 0px 1px 3px 1px rgba(0, 0, 0, 0.15);\n",
              "      filter: drop-shadow(0px 1px 2px rgba(0, 0, 0, 0.3));\n",
              "      fill: #FFFFFF;\n",
              "    }\n",
              "  </style>\n",
              "\n",
              "      <script>\n",
              "        const buttonEl =\n",
              "          document.querySelector('#df-f40a41be-d254-4758-979a-cfc39faa50c3 button.colab-df-convert');\n",
              "        buttonEl.style.display =\n",
              "          google.colab.kernel.accessAllowed ? 'block' : 'none';\n",
              "\n",
              "        async function convertToInteractive(key) {\n",
              "          const element = document.querySelector('#df-f40a41be-d254-4758-979a-cfc39faa50c3');\n",
              "          const dataTable =\n",
              "            await google.colab.kernel.invokeFunction('convertToInteractive',\n",
              "                                                     [key], {});\n",
              "          if (!dataTable) return;\n",
              "\n",
              "          const docLinkHtml = 'Like what you see? Visit the ' +\n",
              "            '<a target=\"_blank\" href=https://colab.research.google.com/notebooks/data_table.ipynb>data table notebook</a>'\n",
              "            + ' to learn more about interactive tables.';\n",
              "          element.innerHTML = '';\n",
              "          dataTable['output_type'] = 'display_data';\n",
              "          await google.colab.output.renderOutput(dataTable, element);\n",
              "          const docLink = document.createElement('div');\n",
              "          docLink.innerHTML = docLinkHtml;\n",
              "          element.appendChild(docLink);\n",
              "        }\n",
              "      </script>\n",
              "    </div>\n",
              "  </div>\n",
              "  "
            ]
          },
          "metadata": {},
          "execution_count": 43
        }
      ]
    },
    {
      "cell_type": "code",
      "source": [
        "# ambil kolom sale price in m dan simpan series dalam variabel z\n",
        "z = price_man['sale_price_in_m']\n",
        "z"
      ],
      "metadata": {
        "colab": {
          "base_uri": "https://localhost:8080/"
        },
        "id": "4y2U3i8t6ECp",
        "outputId": "8a722be7-c297-4641-f00d-895c9d164699"
      },
      "execution_count": 44,
      "outputs": [
        {
          "output_type": "execute_result",
          "data": {
            "text/plain": [
              "0         6.625000\n",
              "3         3.936272\n",
              "4         8.000000\n",
              "6         3.192840\n",
              "9        16.232000\n",
              "           ...    \n",
              "18040    11.925000\n",
              "18041    32.000000\n",
              "18042    40.100000\n",
              "18044     5.650000\n",
              "18300     2.000000\n",
              "Name: sale_price_in_m, Length: 1006, dtype: float64"
            ]
          },
          "metadata": {},
          "execution_count": 44
        }
      ]
    },
    {
      "cell_type": "code",
      "source": [
        "# Hitung range dengan pandas\n",
        "range_ = z.max() - z.min()\n",
        "range_"
      ],
      "metadata": {
        "colab": {
          "base_uri": "https://localhost:8080/"
        },
        "id": "97y6iECG6GTx",
        "outputId": "68c9d09f-55e0-47af-b220-7602434bfbf3"
      },
      "execution_count": 45,
      "outputs": [
        {
          "output_type": "execute_result",
          "data": {
            "text/plain": [
              "2209.999999"
            ]
          },
          "metadata": {},
          "execution_count": 45
        }
      ]
    },
    {
      "cell_type": "code",
      "source": [
        "# range dengan NumPy\n",
        "np.amax(z) - np.amin(z)"
      ],
      "metadata": {
        "colab": {
          "base_uri": "https://localhost:8080/"
        },
        "id": "_cKnFTPK6Jo8",
        "outputId": "054ace3d-ec44-4db9-a294-7c448bfe36c4"
      },
      "execution_count": 46,
      "outputs": [
        {
          "output_type": "execute_result",
          "data": {
            "text/plain": [
              "2209.999999"
            ]
          },
          "metadata": {},
          "execution_count": 46
        }
      ]
    },
    {
      "cell_type": "markdown",
      "source": [
        "**Variance**"
      ],
      "metadata": {
        "id": "ahJCYhY266ij"
      }
    },
    {
      "cell_type": "code",
      "source": [
        "# Variance dengan NumPy\n",
        "# kita akan menggunakan data x yaitu sale_price\n",
        "var_ = np.var(x)\n",
        "var_"
      ],
      "metadata": {
        "colab": {
          "base_uri": "https://localhost:8080/"
        },
        "id": "EoXK9Frx68ty",
        "outputId": "bbde8bdd-11c8-49c5-da99-cccef6949ff1"
      },
      "execution_count": 47,
      "outputs": [
        {
          "output_type": "execute_result",
          "data": {
            "text/plain": [
              "230.59939773111736"
            ]
          },
          "metadata": {},
          "execution_count": 47
        }
      ]
    },
    {
      "cell_type": "code",
      "source": [
        "# Variance dengan pd.Series\n",
        "x.var()"
      ],
      "metadata": {
        "colab": {
          "base_uri": "https://localhost:8080/"
        },
        "id": "8k_Wx-Cb7MzS",
        "outputId": "9cb8ba4e-59d3-4e99-ede0-3ab7911d12d3"
      },
      "execution_count": 48,
      "outputs": [
        {
          "output_type": "execute_result",
          "data": {
            "text/plain": [
              "230.60566333805497"
            ]
          },
          "metadata": {},
          "execution_count": 48
        }
      ]
    },
    {
      "cell_type": "markdown",
      "source": [
        "**Standar Deviasi**"
      ],
      "metadata": {
        "id": "pfHc3NkJ7PLu"
      }
    },
    {
      "cell_type": "markdown",
      "source": [
        "Masih dengan data yang sama kita akan mencari standar deviasi dari harga jual properti dalam juta dolar ( kolom sale_price_in_m)"
      ],
      "metadata": {
        "id": "VdzTWgVr7Vwu"
      }
    },
    {
      "cell_type": "code",
      "source": [
        "# Std dengan NumPy\n",
        "np.std(x)"
      ],
      "metadata": {
        "colab": {
          "base_uri": "https://localhost:8080/"
        },
        "id": "rJr254Uo7YNN",
        "outputId": "5fd395cb-e097-4629-f6fc-c6999e1c6fb1"
      },
      "execution_count": 49,
      "outputs": [
        {
          "output_type": "execute_result",
          "data": {
            "text/plain": [
              "15.185499587801429"
            ]
          },
          "metadata": {},
          "execution_count": 49
        }
      ]
    },
    {
      "cell_type": "code",
      "source": [
        "# Std dengan pd.Series\n",
        "x.std()"
      ],
      "metadata": {
        "colab": {
          "base_uri": "https://localhost:8080/"
        },
        "id": "R9SSzY4d7bYy",
        "outputId": "f46e430c-6216-405a-b92c-55a12bdd7c4d"
      },
      "execution_count": 50,
      "outputs": [
        {
          "output_type": "execute_result",
          "data": {
            "text/plain": [
              "15.185705888698587"
            ]
          },
          "metadata": {},
          "execution_count": 50
        }
      ]
    },
    {
      "cell_type": "markdown",
      "source": [
        "### **Probability Distribution**"
      ],
      "metadata": {
        "id": "sBirY_da7n6R"
      }
    },
    {
      "cell_type": "markdown",
      "source": [
        "Kita akan mecari distribusi probabilitas data harga jual properti dalam juta dolar (kolom sale_price_in_m) dengan menggunakan histogram"
      ],
      "metadata": {
        "id": "dqB6ltRF7yVg"
      }
    },
    {
      "cell_type": "code",
      "source": [
        "sns.distplot(df['sale_price_in_m'], color='darkslategrey')\n",
        "plt.xlabel('sale price in m')\n",
        "plt.ylabel('probability of occurence')\n",
        "plt.title('Distribution of Sale Price in M')"
      ],
      "metadata": {
        "colab": {
          "base_uri": "https://localhost:8080/",
          "height": 680
        },
        "id": "MeN3EKSu7-gd",
        "outputId": "042382ea-9f4b-404b-e88f-638be47c0ef2"
      },
      "execution_count": 51,
      "outputs": [
        {
          "output_type": "stream",
          "name": "stderr",
          "text": [
            "<ipython-input-51-db9e327adbaf>:1: UserWarning: \n",
            "\n",
            "`distplot` is a deprecated function and will be removed in seaborn v0.14.0.\n",
            "\n",
            "Please adapt your code to use either `displot` (a figure-level function with\n",
            "similar flexibility) or `histplot` (an axes-level function for histograms).\n",
            "\n",
            "For a guide to updating your code to use the new functions, please see\n",
            "https://gist.github.com/mwaskom/de44147ed2974457ad6372750bbe5751\n",
            "\n",
            "  sns.distplot(df['sale_price_in_m'], color='darkslategrey')\n"
          ]
        },
        {
          "output_type": "execute_result",
          "data": {
            "text/plain": [
              "Text(0.5, 1.0, 'Distribution of Sale Price in M')"
            ]
          },
          "metadata": {},
          "execution_count": 51
        },
        {
          "output_type": "display_data",
          "data": {
            "text/plain": [
              "<Figure size 640x480 with 1 Axes>"
            ],
            "image/png": "[encoded data removed]"
          },
          "metadata": {}
        }
      ]
    },
    {
      "cell_type": "markdown",
      "source": [
        "Plot di atas menunjukkan hasil yang terlalu tinggi di kisaran angka 0 dan memanjang kesamping. Sehingga dalam hal ini akan dibuat batasan untuk data yang != 0 dan < 500 Juta Dolar."
      ],
      "metadata": {
        "id": "bbJgtHApIHIf"
      }
    },
    {
      "cell_type": "code",
      "source": [
        "# Df baru dengan nilai sale_price_in_m tdk sama dengan nol dan < 5 juta USD\n",
        "df_new = df[(df['sale_price_in_m'] <5) & (df['sale_price_in_m']!=0)]\n",
        "df_new.head()"
      ],
      "metadata": {
        "colab": {
          "base_uri": "https://localhost:8080/",
          "height": 525
        },
        "id": "36Q_098KIcEl",
        "outputId": "bf3d99b6-078a-4313-d1e8-7f4276270f0a"
      },
      "execution_count": 52,
      "outputs": [
        {
          "output_type": "execute_result",
          "data": {
            "text/plain": [
              "       borough   neighborhood                      building_class_category  \\\n",
              "3    Manhattan  ALPHABET CITY  07 RENTALS - WALKUP APARTMENTS                \n",
              "6    Manhattan  ALPHABET CITY  07 RENTALS - WALKUP APARTMENTS                \n",
              "172  Manhattan  ALPHABET CITY  14 RENTALS - 4-10 UNIT                        \n",
              "174  Manhattan  ALPHABET CITY  14 RENTALS - 4-10 UNIT                        \n",
              "195  Manhattan  ALPHABET CITY  22 STORE BUILDINGS                            \n",
              "\n",
              "    tax_class_at_present block lot ease-ment building_class_at_present  \\\n",
              "3                     2B   402  21                                  C4   \n",
              "6                     2B   406  32                                  C4   \n",
              "172                   2A   391  19                                  S3   \n",
              "174                   2A   394   5                                  S5   \n",
              "195                    4   390  34                                  K4   \n",
              "\n",
              "                   address apartment_number  ... land_square_feet  \\\n",
              "3      154 EAST 7TH STREET                   ...           2272.0   \n",
              "6             210 AVENUE B                   ...           1750.0   \n",
              "172  624 EAST 9TH   STREET                   ...           1520.0   \n",
              "174           183 AVENUE B                   ...           1779.0   \n",
              "195           115 AVENUE C                   ...           1218.0   \n",
              "\n",
              "     gross_square_feet  year_built  tax_class_at_time_of_sale  \\\n",
              "3               6794.0        1913                          2   \n",
              "6               4226.0        1920                          2   \n",
              "172             3360.0        1910                          2   \n",
              "174             3713.0        1910                          2   \n",
              "195             3586.0        1899                          4   \n",
              "\n",
              "     building_class_at_time_of_sale  sale_price  sale_date  age age_category  \\\n",
              "3                                C4   3936272.0 2016-09-23  110      Pre-War   \n",
              "6                                C4   3192840.0 2016-09-23  103      Pre-War   \n",
              "172                              S3   3300000.0 2016-11-15  113      Pre-War   \n",
              "174                              S5   4750000.0 2017-04-03  113      Pre-War   \n",
              "195                              K4   3700000.0 2016-09-28  124      Pre-War   \n",
              "\n",
              "     sale_price_in_m  \n",
              "3           3.936272  \n",
              "6           3.192840  \n",
              "172         3.300000  \n",
              "174         4.750000  \n",
              "195         3.700000  \n",
              "\n",
              "[5 rows x 24 columns]"
            ],
            "text/html": [
              "\n",
              "  <div id=\"df-901f0b80-600a-4fa0-a561-1ad9b8bff22d\">\n",
              "    <div class=\"colab-df-container\">\n",
              "      <div>\n",
              "<style scoped>\n",
              "    .dataframe tbody tr th:only-of-type {\n",
              "        vertical-align: middle;\n",
              "    }\n",
              "\n",
              "    .dataframe tbody tr th {\n",
              "        vertical-align: top;\n",
              "    }\n",
              "\n",
              "    .dataframe thead th {\n",
              "        text-align: right;\n",
              "    }\n",
              "</style>\n",
              "<table border=\"1\" class=\"dataframe\">\n",
              "  <thead>\n",
              "    <tr style=\"text-align: right;\">\n",
              "      <th></th>\n",
              "      <th>borough</th>\n",
              "      <th>neighborhood</th>\n",
              "      <th>building_class_category</th>\n",
              "      <th>tax_class_at_present</th>\n",
              "      <th>block</th>\n",
              "      <th>lot</th>\n",
              "      <th>ease-ment</th>\n",
              "      <th>building_class_at_present</th>\n",
              "      <th>address</th>\n",
              "      <th>apartment_number</th>\n",
              "      <th>...</th>\n",
              "      <th>land_square_feet</th>\n",
              "      <th>gross_square_feet</th>\n",
              "      <th>year_built</th>\n",
              "      <th>tax_class_at_time_of_sale</th>\n",
              "      <th>building_class_at_time_of_sale</th>\n",
              "      <th>sale_price</th>\n",
              "      <th>sale_date</th>\n",
              "      <th>age</th>\n",
              "      <th>age_category</th>\n",
              "      <th>sale_price_in_m</th>\n",
              "    </tr>\n",
              "  </thead>\n",
              "  <tbody>\n",
              "    <tr>\n",
              "      <th>3</th>\n",
              "      <td>Manhattan</td>\n",
              "      <td>ALPHABET CITY</td>\n",
              "      <td>07 RENTALS - WALKUP APARTMENTS</td>\n",
              "      <td>2B</td>\n",
              "      <td>402</td>\n",
              "      <td>21</td>\n",
              "      <td></td>\n",
              "      <td>C4</td>\n",
              "      <td>154 EAST 7TH STREET</td>\n",
              "      <td></td>\n",
              "      <td>...</td>\n",
              "      <td>2272.0</td>\n",
              "      <td>6794.0</td>\n",
              "      <td>1913</td>\n",
              "      <td>2</td>\n",
              "      <td>C4</td>\n",
              "      <td>3936272.0</td>\n",
              "      <td>2016-09-23</td>\n",
              "      <td>110</td>\n",
              "      <td>Pre-War</td>\n",
              "      <td>3.936272</td>\n",
              "    </tr>\n",
              "    <tr>\n",
              "      <th>6</th>\n",
              "      <td>Manhattan</td>\n",
              "      <td>ALPHABET CITY</td>\n",
              "      <td>07 RENTALS - WALKUP APARTMENTS</td>\n",
              "      <td>2B</td>\n",
              "      <td>406</td>\n",
              "      <td>32</td>\n",
              "      <td></td>\n",
              "      <td>C4</td>\n",
              "      <td>210 AVENUE B</td>\n",
              "      <td></td>\n",
              "      <td>...</td>\n",
              "      <td>1750.0</td>\n",
              "      <td>4226.0</td>\n",
              "      <td>1920</td>\n",
              "      <td>2</td>\n",
              "      <td>C4</td>\n",
              "      <td>3192840.0</td>\n",
              "      <td>2016-09-23</td>\n",
              "      <td>103</td>\n",
              "      <td>Pre-War</td>\n",
              "      <td>3.192840</td>\n",
              "    </tr>\n",
              "    <tr>\n",
              "      <th>172</th>\n",
              "      <td>Manhattan</td>\n",
              "      <td>ALPHABET CITY</td>\n",
              "      <td>14 RENTALS - 4-10 UNIT</td>\n",
              "      <td>2A</td>\n",
              "      <td>391</td>\n",
              "      <td>19</td>\n",
              "      <td></td>\n",
              "      <td>S3</td>\n",
              "      <td>624 EAST 9TH   STREET</td>\n",
              "      <td></td>\n",
              "      <td>...</td>\n",
              "      <td>1520.0</td>\n",
              "      <td>3360.0</td>\n",
              "      <td>1910</td>\n",
              "      <td>2</td>\n",
              "      <td>S3</td>\n",
              "      <td>3300000.0</td>\n",
              "      <td>2016-11-15</td>\n",
              "      <td>113</td>\n",
              "      <td>Pre-War</td>\n",
              "      <td>3.300000</td>\n",
              "    </tr>\n",
              "    <tr>\n",
              "      <th>174</th>\n",
              "      <td>Manhattan</td>\n",
              "      <td>ALPHABET CITY</td>\n",
              "      <td>14 RENTALS - 4-10 UNIT</td>\n",
              "      <td>2A</td>\n",
              "      <td>394</td>\n",
              "      <td>5</td>\n",
              "      <td></td>\n",
              "      <td>S5</td>\n",
              "      <td>183 AVENUE B</td>\n",
              "      <td></td>\n",
              "      <td>...</td>\n",
              "      <td>1779.0</td>\n",
              "      <td>3713.0</td>\n",
              "      <td>1910</td>\n",
              "      <td>2</td>\n",
              "      <td>S5</td>\n",
              "      <td>4750000.0</td>\n",
              "      <td>2017-04-03</td>\n",
              "      <td>113</td>\n",
              "      <td>Pre-War</td>\n",
              "      <td>4.750000</td>\n",
              "    </tr>\n",
              "    <tr>\n",
              "      <th>195</th>\n",
              "      <td>Manhattan</td>\n",
              "      <td>ALPHABET CITY</td>\n",
              "      <td>22 STORE BUILDINGS</td>\n",
              "      <td>4</td>\n",
              "      <td>390</td>\n",
              "      <td>34</td>\n",
              "      <td></td>\n",
              "      <td>K4</td>\n",
              "      <td>115 AVENUE C</td>\n",
              "      <td></td>\n",
              "      <td>...</td>\n",
              "      <td>1218.0</td>\n",
              "      <td>3586.0</td>\n",
              "      <td>1899</td>\n",
              "      <td>4</td>\n",
              "      <td>K4</td>\n",
              "      <td>3700000.0</td>\n",
              "      <td>2016-09-28</td>\n",
              "      <td>124</td>\n",
              "      <td>Pre-War</td>\n",
              "      <td>3.700000</td>\n",
              "    </tr>\n",
              "  </tbody>\n",
              "</table>\n",
              "<p>5 rows × 24 columns</p>\n",
              "</div>\n",
              "      <button class=\"colab-df-convert\" onclick=\"convertToInteractive('df-901f0b80-600a-4fa0-a561-1ad9b8bff22d')\"\n",
              "              title=\"Convert this dataframe to an interactive table.\"\n",
              "              style=\"display:none;\">\n",
              "        \n",
              "  <svg xmlns=\"http://www.w3.org/2000/svg\" height=\"24px\"viewBox=\"0 0 24 24\"\n",
              "       width=\"24px\">\n",
              "    <path d=\"M0 0h24v24H0V0z\" fill=\"none\"/>\n",
              "    <path d=\"M18.56 5.44l.94 2.06.94-2.06 2.06-.94-2.06-.94-.94-2.06-.94 2.06-2.06.94zm-11 1L8.5 8.5l.94-2.06 2.06-.94-2.06-.94L8.5 2.5l-.94 2.06-2.06.94zm10 10l.94 2.06.94-2.06 2.06-.94-2.06-.94-.94-2.06-.94 2.06-2.06.94z\"/><path d=\"M17.41 7.96l-1.37-1.37c-.4-.4-.92-.59-1.43-.59-.52 0-1.04.2-1.43.59L10.3 9.45l-7.72 7.72c-.78.78-.78 2.05 0 2.83L4 21.41c.39.39.9.59 1.41.59.51 0 1.02-.2 1.41-.59l7.78-7.78 2.81-2.81c.8-.78.8-2.07 0-2.86zM5.41 20L4 18.59l7.72-7.72 1.47 1.35L5.41 20z\"/>\n",
              "  </svg>\n",
              "      </button>\n",
              "      \n",
              "  <style>\n",
              "    .colab-df-container {\n",
              "      display:flex;\n",
              "      flex-wrap:wrap;\n",
              "      gap: 12px;\n",
              "    }\n",
              "\n",
              "    .colab-df-convert {\n",
              "      background-color: #E8F0FE;\n",
              "      border: none;\n",
              "      border-radius: 50%;\n",
              "      cursor: pointer;\n",
              "      display: none;\n",
              "      fill: #1967D2;\n",
              "      height: 32px;\n",
              "      padding: 0 0 0 0;\n",
              "      width: 32px;\n",
              "    }\n",
              "\n",
              "    .colab-df-convert:hover {\n",
              "      background-color: #E2EBFA;\n",
              "      box-shadow: 0px 1px 2px rgba(60, 64, 67, 0.3), 0px 1px 3px 1px rgba(60, 64, 67, 0.15);\n",
              "      fill: #174EA6;\n",
              "    }\n",
              "\n",
              "    [theme=dark] .colab-df-convert {\n",
              "      background-color: #3B4455;\n",
              "      fill: #D2E3FC;\n",
              "    }\n",
              "\n",
              "    [theme=dark] .colab-df-convert:hover {\n",
              "      background-color: #434B5C;\n",
              "      box-shadow: 0px 1px 3px 1px rgba(0, 0, 0, 0.15);\n",
              "      filter: drop-shadow(0px 1px 2px rgba(0, 0, 0, 0.3));\n",
              "      fill: #FFFFFF;\n",
              "    }\n",
              "  </style>\n",
              "\n",
              "      <script>\n",
              "        const buttonEl =\n",
              "          document.querySelector('#df-901f0b80-600a-4fa0-a561-1ad9b8bff22d button.colab-df-convert');\n",
              "        buttonEl.style.display =\n",
              "          google.colab.kernel.accessAllowed ? 'block' : 'none';\n",
              "\n",
              "        async function convertToInteractive(key) {\n",
              "          const element = document.querySelector('#df-901f0b80-600a-4fa0-a561-1ad9b8bff22d');\n",
              "          const dataTable =\n",
              "            await google.colab.kernel.invokeFunction('convertToInteractive',\n",
              "                                                     [key], {});\n",
              "          if (!dataTable) return;\n",
              "\n",
              "          const docLinkHtml = 'Like what you see? Visit the ' +\n",
              "            '<a target=\"_blank\" href=https://colab.research.google.com/notebooks/data_table.ipynb>data table notebook</a>'\n",
              "            + ' to learn more about interactive tables.';\n",
              "          element.innerHTML = '';\n",
              "          dataTable['output_type'] = 'display_data';\n",
              "          await google.colab.output.renderOutput(dataTable, element);\n",
              "          const docLink = document.createElement('div');\n",
              "          docLink.innerHTML = docLinkHtml;\n",
              "          element.appendChild(docLink);\n",
              "        }\n",
              "      </script>\n",
              "    </div>\n",
              "  </div>\n",
              "  "
            ]
          },
          "metadata": {},
          "execution_count": 52
        }
      ]
    },
    {
      "cell_type": "code",
      "source": [
        "# Tampilkan distribusi probabilitas df_new dengan histogram\n",
        "sns.distplot(df_new['sale_price_in_m'], color='darkslategrey')\n",
        "plt.xlabel('sale price in m')\n",
        "plt.ylabel('probability of occurence')\n",
        "plt.title('Distribution of Sale Price in M < $5,000,000')\n",
        "plt.show()"
      ],
      "metadata": {
        "colab": {
          "base_uri": "https://localhost:8080/",
          "height": 663
        },
        "id": "jWNNPBdUJgRP",
        "outputId": "ebc28257-5155-46df-bdcd-baa63abc33fb"
      },
      "execution_count": 53,
      "outputs": [
        {
          "output_type": "stream",
          "name": "stderr",
          "text": [
            "<ipython-input-53-f6b85ab35441>:2: UserWarning: \n",
            "\n",
            "`distplot` is a deprecated function and will be removed in seaborn v0.14.0.\n",
            "\n",
            "Please adapt your code to use either `displot` (a figure-level function with\n",
            "similar flexibility) or `histplot` (an axes-level function for histograms).\n",
            "\n",
            "For a guide to updating your code to use the new functions, please see\n",
            "https://gist.github.com/mwaskom/de44147ed2974457ad6372750bbe5751\n",
            "\n",
            "  sns.distplot(df_new['sale_price_in_m'], color='darkslategrey')\n"
          ]
        },
        {
          "output_type": "display_data",
          "data": {
            "text/plain": [
              "<Figure size 640x480 with 1 Axes>"
            ],
            "image/png": "[encoded data removed]"
          },
          "metadata": {}
        }
      ]
    },
    {
      "cell_type": "markdown",
      "source": [
        "Berdasarkan hasil plot tersebut menunjukkan bahwa distribusi probabilitas dari data harga jual (dalam juta usd) tidak terdistribusi secara normal."
      ],
      "metadata": {
        "id": "G3EmLASAKqH3"
      }
    },
    {
      "cell_type": "markdown",
      "source": [
        "### **Confidence Interval**"
      ],
      "metadata": {
        "id": "bxrfr08NNFax"
      }
    },
    {
      "cell_type": "markdown",
      "source": [
        "Kita akan menggunakan kolom sale price in m dan kolom age_category."
      ],
      "metadata": {
        "id": "R9TXUXS_NLxj"
      }
    },
    {
      "cell_type": "code",
      "source": [
        "# Kita buat df baru yang berisi sale price yang != 0 dan dengan age_category post_war\n",
        "df_ci = df[['sale_price_in_m', 'age_category']]\n",
        "df_ci"
      ],
      "metadata": {
        "colab": {
          "base_uri": "https://localhost:8080/",
          "height": 424
        },
        "id": "vq0PsKblNSSd",
        "outputId": "130ee656-a414-4353-f9a3-b49ae232a739"
      },
      "execution_count": 54,
      "outputs": [
        {
          "output_type": "execute_result",
          "data": {
            "text/plain": [
              "       sale_price_in_m age_category\n",
              "0             6.625000      Pre-War\n",
              "3             3.936272      Pre-War\n",
              "4             8.000000      Pre-War\n",
              "6             3.192840      Pre-War\n",
              "9            16.232000      Pre-War\n",
              "...                ...          ...\n",
              "84543         0.450000     Post-War\n",
              "84544         0.550000     Post-War\n",
              "84545         0.460000      Pre-War\n",
              "84546        11.693337     Post-War\n",
              "84547         0.069300     Post-War\n",
              "\n",
              "[36805 rows x 2 columns]"
            ],
            "text/html": [
              "\n",
              "  <div id=\"df-47e76ff2-654e-4ed7-a700-dd97f1214b32\">\n",
              "    <div class=\"colab-df-container\">\n",
              "      <div>\n",
              "<style scoped>\n",
              "    .dataframe tbody tr th:only-of-type {\n",
              "        vertical-align: middle;\n",
              "    }\n",
              "\n",
              "    .dataframe tbody tr th {\n",
              "        vertical-align: top;\n",
              "    }\n",
              "\n",
              "    .dataframe thead th {\n",
              "        text-align: right;\n",
              "    }\n",
              "</style>\n",
              "<table border=\"1\" class=\"dataframe\">\n",
              "  <thead>\n",
              "    <tr style=\"text-align: right;\">\n",
              "      <th></th>\n",
              "      <th>sale_price_in_m</th>\n",
              "      <th>age_category</th>\n",
              "    </tr>\n",
              "  </thead>\n",
              "  <tbody>\n",
              "    <tr>\n",
              "      <th>0</th>\n",
              "      <td>6.625000</td>\n",
              "      <td>Pre-War</td>\n",
              "    </tr>\n",
              "    <tr>\n",
              "      <th>3</th>\n",
              "      <td>3.936272</td>\n",
              "      <td>Pre-War</td>\n",
              "    </tr>\n",
              "    <tr>\n",
              "      <th>4</th>\n",
              "      <td>8.000000</td>\n",
              "      <td>Pre-War</td>\n",
              "    </tr>\n",
              "    <tr>\n",
              "      <th>6</th>\n",
              "      <td>3.192840</td>\n",
              "      <td>Pre-War</td>\n",
              "    </tr>\n",
              "    <tr>\n",
              "      <th>9</th>\n",
              "      <td>16.232000</td>\n",
              "      <td>Pre-War</td>\n",
              "    </tr>\n",
              "    <tr>\n",
              "      <th>...</th>\n",
              "      <td>...</td>\n",
              "      <td>...</td>\n",
              "    </tr>\n",
              "    <tr>\n",
              "      <th>84543</th>\n",
              "      <td>0.450000</td>\n",
              "      <td>Post-War</td>\n",
              "    </tr>\n",
              "    <tr>\n",
              "      <th>84544</th>\n",
              "      <td>0.550000</td>\n",
              "      <td>Post-War</td>\n",
              "    </tr>\n",
              "    <tr>\n",
              "      <th>84545</th>\n",
              "      <td>0.460000</td>\n",
              "      <td>Pre-War</td>\n",
              "    </tr>\n",
              "    <tr>\n",
              "      <th>84546</th>\n",
              "      <td>11.693337</td>\n",
              "      <td>Post-War</td>\n",
              "    </tr>\n",
              "    <tr>\n",
              "      <th>84547</th>\n",
              "      <td>0.069300</td>\n",
              "      <td>Post-War</td>\n",
              "    </tr>\n",
              "  </tbody>\n",
              "</table>\n",
              "<p>36805 rows × 2 columns</p>\n",
              "</div>\n",
              "      <button class=\"colab-df-convert\" onclick=\"convertToInteractive('df-47e76ff2-654e-4ed7-a700-dd97f1214b32')\"\n",
              "              title=\"Convert this dataframe to an interactive table.\"\n",
              "              style=\"display:none;\">\n",
              "        \n",
              "  <svg xmlns=\"http://www.w3.org/2000/svg\" height=\"24px\"viewBox=\"0 0 24 24\"\n",
              "       width=\"24px\">\n",
              "    <path d=\"M0 0h24v24H0V0z\" fill=\"none\"/>\n",
              "    <path d=\"M18.56 5.44l.94 2.06.94-2.06 2.06-.94-2.06-.94-.94-2.06-.94 2.06-2.06.94zm-11 1L8.5 8.5l.94-2.06 2.06-.94-2.06-.94L8.5 2.5l-.94 2.06-2.06.94zm10 10l.94 2.06.94-2.06 2.06-.94-2.06-.94-.94-2.06-.94 2.06-2.06.94z\"/><path d=\"M17.41 7.96l-1.37-1.37c-.4-.4-.92-.59-1.43-.59-.52 0-1.04.2-1.43.59L10.3 9.45l-7.72 7.72c-.78.78-.78 2.05 0 2.83L4 21.41c.39.39.9.59 1.41.59.51 0 1.02-.2 1.41-.59l7.78-7.78 2.81-2.81c.8-.78.8-2.07 0-2.86zM5.41 20L4 18.59l7.72-7.72 1.47 1.35L5.41 20z\"/>\n",
              "  </svg>\n",
              "      </button>\n",
              "      \n",
              "  <style>\n",
              "    .colab-df-container {\n",
              "      display:flex;\n",
              "      flex-wrap:wrap;\n",
              "      gap: 12px;\n",
              "    }\n",
              "\n",
              "    .colab-df-convert {\n",
              "      background-color: #E8F0FE;\n",
              "      border: none;\n",
              "      border-radius: 50%;\n",
              "      cursor: pointer;\n",
              "      display: none;\n",
              "      fill: #1967D2;\n",
              "      height: 32px;\n",
              "      padding: 0 0 0 0;\n",
              "      width: 32px;\n",
              "    }\n",
              "\n",
              "    .colab-df-convert:hover {\n",
              "      background-color: #E2EBFA;\n",
              "      box-shadow: 0px 1px 2px rgba(60, 64, 67, 0.3), 0px 1px 3px 1px rgba(60, 64, 67, 0.15);\n",
              "      fill: #174EA6;\n",
              "    }\n",
              "\n",
              "    [theme=dark] .colab-df-convert {\n",
              "      background-color: #3B4455;\n",
              "      fill: #D2E3FC;\n",
              "    }\n",
              "\n",
              "    [theme=dark] .colab-df-convert:hover {\n",
              "      background-color: #434B5C;\n",
              "      box-shadow: 0px 1px 3px 1px rgba(0, 0, 0, 0.15);\n",
              "      filter: drop-shadow(0px 1px 2px rgba(0, 0, 0, 0.3));\n",
              "      fill: #FFFFFF;\n",
              "    }\n",
              "  </style>\n",
              "\n",
              "      <script>\n",
              "        const buttonEl =\n",
              "          document.querySelector('#df-47e76ff2-654e-4ed7-a700-dd97f1214b32 button.colab-df-convert');\n",
              "        buttonEl.style.display =\n",
              "          google.colab.kernel.accessAllowed ? 'block' : 'none';\n",
              "\n",
              "        async function convertToInteractive(key) {\n",
              "          const element = document.querySelector('#df-47e76ff2-654e-4ed7-a700-dd97f1214b32');\n",
              "          const dataTable =\n",
              "            await google.colab.kernel.invokeFunction('convertToInteractive',\n",
              "                                                     [key], {});\n",
              "          if (!dataTable) return;\n",
              "\n",
              "          const docLinkHtml = 'Like what you see? Visit the ' +\n",
              "            '<a target=\"_blank\" href=https://colab.research.google.com/notebooks/data_table.ipynb>data table notebook</a>'\n",
              "            + ' to learn more about interactive tables.';\n",
              "          element.innerHTML = '';\n",
              "          dataTable['output_type'] = 'display_data';\n",
              "          await google.colab.output.renderOutput(dataTable, element);\n",
              "          const docLink = document.createElement('div');\n",
              "          docLink.innerHTML = docLinkHtml;\n",
              "          element.appendChild(docLink);\n",
              "        }\n",
              "      </script>\n",
              "    </div>\n",
              "  </div>\n",
              "  "
            ]
          },
          "metadata": {},
          "execution_count": 54
        }
      ]
    },
    {
      "cell_type": "code",
      "source": [
        "# Buang nilai 0 pada kolom sale_price_in_m\n",
        "df_neww = df_ci[df_ci['sale_price_in_m']!=0]"
      ],
      "metadata": {
        "id": "NvhI0IobY4VG"
      },
      "execution_count": 55,
      "outputs": []
    },
    {
      "cell_type": "code",
      "source": [
        "# Group df_ci by age_category dan aggregatkan mean, standar deviasi, dan size.\n",
        "df_neww.groupby('age_category').agg({'sale_price_in_m': [np.mean, np.std, np.size]})"
      ],
      "metadata": {
        "colab": {
          "base_uri": "https://localhost:8080/",
          "height": 175
        },
        "id": "-3UnCFDwOPvC",
        "outputId": "a12b2c0c-0444-48fb-9e31-5148604a8197"
      },
      "execution_count": 56,
      "outputs": [
        {
          "output_type": "execute_result",
          "data": {
            "text/plain": [
              "             sale_price_in_m                  \n",
              "                        mean        std   size\n",
              "age_category                                  \n",
              "Post-War            1.778903  27.405780  10118\n",
              "Pre-War             1.565675   6.740121  19201"
            ],
            "text/html": [
              "\n",
              "  <div id=\"df-45fc837c-c637-4693-aaa6-70fb9897a37f\">\n",
              "    <div class=\"colab-df-container\">\n",
              "      <div>\n",
              "<style scoped>\n",
              "    .dataframe tbody tr th:only-of-type {\n",
              "        vertical-align: middle;\n",
              "    }\n",
              "\n",
              "    .dataframe tbody tr th {\n",
              "        vertical-align: top;\n",
              "    }\n",
              "\n",
              "    .dataframe thead tr th {\n",
              "        text-align: left;\n",
              "    }\n",
              "\n",
              "    .dataframe thead tr:last-of-type th {\n",
              "        text-align: right;\n",
              "    }\n",
              "</style>\n",
              "<table border=\"1\" class=\"dataframe\">\n",
              "  <thead>\n",
              "    <tr>\n",
              "      <th></th>\n",
              "      <th colspan=\"3\" halign=\"left\">sale_price_in_m</th>\n",
              "    </tr>\n",
              "    <tr>\n",
              "      <th></th>\n",
              "      <th>mean</th>\n",
              "      <th>std</th>\n",
              "      <th>size</th>\n",
              "    </tr>\n",
              "    <tr>\n",
              "      <th>age_category</th>\n",
              "      <th></th>\n",
              "      <th></th>\n",
              "      <th></th>\n",
              "    </tr>\n",
              "  </thead>\n",
              "  <tbody>\n",
              "    <tr>\n",
              "      <th>Post-War</th>\n",
              "      <td>1.778903</td>\n",
              "      <td>27.405780</td>\n",
              "      <td>10118</td>\n",
              "    </tr>\n",
              "    <tr>\n",
              "      <th>Pre-War</th>\n",
              "      <td>1.565675</td>\n",
              "      <td>6.740121</td>\n",
              "      <td>19201</td>\n",
              "    </tr>\n",
              "  </tbody>\n",
              "</table>\n",
              "</div>\n",
              "      <button class=\"colab-df-convert\" onclick=\"convertToInteractive('df-45fc837c-c637-4693-aaa6-70fb9897a37f')\"\n",
              "              title=\"Convert this dataframe to an interactive table.\"\n",
              "              style=\"display:none;\">\n",
              "        \n",
              "  <svg xmlns=\"http://www.w3.org/2000/svg\" height=\"24px\"viewBox=\"0 0 24 24\"\n",
              "       width=\"24px\">\n",
              "    <path d=\"M0 0h24v24H0V0z\" fill=\"none\"/>\n",
              "    <path d=\"M18.56 5.44l.94 2.06.94-2.06 2.06-.94-2.06-.94-.94-2.06-.94 2.06-2.06.94zm-11 1L8.5 8.5l.94-2.06 2.06-.94-2.06-.94L8.5 2.5l-.94 2.06-2.06.94zm10 10l.94 2.06.94-2.06 2.06-.94-2.06-.94-.94-2.06-.94 2.06-2.06.94z\"/><path d=\"M17.41 7.96l-1.37-1.37c-.4-.4-.92-.59-1.43-.59-.52 0-1.04.2-1.43.59L10.3 9.45l-7.72 7.72c-.78.78-.78 2.05 0 2.83L4 21.41c.39.39.9.59 1.41.59.51 0 1.02-.2 1.41-.59l7.78-7.78 2.81-2.81c.8-.78.8-2.07 0-2.86zM5.41 20L4 18.59l7.72-7.72 1.47 1.35L5.41 20z\"/>\n",
              "  </svg>\n",
              "      </button>\n",
              "      \n",
              "  <style>\n",
              "    .colab-df-container {\n",
              "      display:flex;\n",
              "      flex-wrap:wrap;\n",
              "      gap: 12px;\n",
              "    }\n",
              "\n",
              "    .colab-df-convert {\n",
              "      background-color: #E8F0FE;\n",
              "      border: none;\n",
              "      border-radius: 50%;\n",
              "      cursor: pointer;\n",
              "      display: none;\n",
              "      fill: #1967D2;\n",
              "      height: 32px;\n",
              "      padding: 0 0 0 0;\n",
              "      width: 32px;\n",
              "    }\n",
              "\n",
              "    .colab-df-convert:hover {\n",
              "      background-color: #E2EBFA;\n",
              "      box-shadow: 0px 1px 2px rgba(60, 64, 67, 0.3), 0px 1px 3px 1px rgba(60, 64, 67, 0.15);\n",
              "      fill: #174EA6;\n",
              "    }\n",
              "\n",
              "    [theme=dark] .colab-df-convert {\n",
              "      background-color: #3B4455;\n",
              "      fill: #D2E3FC;\n",
              "    }\n",
              "\n",
              "    [theme=dark] .colab-df-convert:hover {\n",
              "      background-color: #434B5C;\n",
              "      box-shadow: 0px 1px 3px 1px rgba(0, 0, 0, 0.15);\n",
              "      filter: drop-shadow(0px 1px 2px rgba(0, 0, 0, 0.3));\n",
              "      fill: #FFFFFF;\n",
              "    }\n",
              "  </style>\n",
              "\n",
              "      <script>\n",
              "        const buttonEl =\n",
              "          document.querySelector('#df-45fc837c-c637-4693-aaa6-70fb9897a37f button.colab-df-convert');\n",
              "        buttonEl.style.display =\n",
              "          google.colab.kernel.accessAllowed ? 'block' : 'none';\n",
              "\n",
              "        async function convertToInteractive(key) {\n",
              "          const element = document.querySelector('#df-45fc837c-c637-4693-aaa6-70fb9897a37f');\n",
              "          const dataTable =\n",
              "            await google.colab.kernel.invokeFunction('convertToInteractive',\n",
              "                                                     [key], {});\n",
              "          if (!dataTable) return;\n",
              "\n",
              "          const docLinkHtml = 'Like what you see? Visit the ' +\n",
              "            '<a target=\"_blank\" href=https://colab.research.google.com/notebooks/data_table.ipynb>data table notebook</a>'\n",
              "            + ' to learn more about interactive tables.';\n",
              "          element.innerHTML = '';\n",
              "          dataTable['output_type'] = 'display_data';\n",
              "          await google.colab.output.renderOutput(dataTable, element);\n",
              "          const docLink = document.createElement('div');\n",
              "          docLink.innerHTML = docLinkHtml;\n",
              "          element.appendChild(docLink);\n",
              "        }\n",
              "      </script>\n",
              "    </div>\n",
              "  </div>\n",
              "  "
            ]
          },
          "metadata": {},
          "execution_count": 56
        }
      ]
    },
    {
      "cell_type": "code",
      "source": [
        "mean_post_war = 1.778903\n",
        "std = 27.405780\n",
        "n = 10118\n",
        "z = 1.96   #confidence level 95%"
      ],
      "metadata": {
        "id": "8UhZ-upLO3si"
      },
      "execution_count": 57,
      "outputs": []
    },
    {
      "cell_type": "code",
      "source": [
        "# standard error\n",
        "se = std / np.sqrt(n)"
      ],
      "metadata": {
        "id": "a5xa025VPI-d"
      },
      "execution_count": 58,
      "outputs": []
    },
    {
      "cell_type": "code",
      "source": [
        "# Construct the CI\n",
        "lcb = mean_post_war - z* se #lower limit of CI\n",
        "ucb = mean_post_war + z* se #upper limit of CI\n",
        "lcb, ucb"
      ],
      "metadata": {
        "colab": {
          "base_uri": "https://localhost:8080/"
        },
        "id": "CGurMv68PLFO",
        "outputId": "4112d326-beed-4754-9381-87f32bbb714b"
      },
      "execution_count": 59,
      "outputs": [
        {
          "output_type": "execute_result",
          "data": {
            "text/plain": [
              "(1.244891141922563, 2.312914858077437)"
            ]
          },
          "metadata": {},
          "execution_count": 59
        }
      ]
    },
    {
      "cell_type": "markdown",
      "source": [
        "Hasil Confidence Interval adalah sebesar 1.24 Juta USD - 2.31 Juta USD."
      ],
      "metadata": {
        "id": "8AFiE2oBPQaY"
      }
    },
    {
      "cell_type": "markdown",
      "source": [
        "### **Hypothesis**"
      ],
      "metadata": {
        "id": "pePdPqkHPT3f"
      }
    },
    {
      "cell_type": "code",
      "source": [
        "import statsmodels.api as sm"
      ],
      "metadata": {
        "id": "fCI2g5mwPW3i"
      },
      "execution_count": 60,
      "outputs": []
    },
    {
      "cell_type": "markdown",
      "source": [
        "Kita akan menguji apakah rata2 harga jual bangunan yang dibangun sebelum masa perang sama dengan rata-rata harga jual bangunan yang dibangun pasca perang.\n",
        "\n",
        "H0 : µ1 = µ2\n",
        "\n",
        "Ha : µ1 ≠ µ2\n",
        "\n",
        "\n"
      ],
      "metadata": {
        "id": "JEBStBdoPfpH"
      }
    },
    {
      "cell_type": "code",
      "source": [
        "# Dari df sebelumya kita slice dan buat df pre_war dan post_war\n",
        "pre_war = df_neww[df_neww['age_category']=='Pre-War']\n",
        "post_war = df_neww[df_neww['age_category']=='Post-War']"
      ],
      "metadata": {
        "id": "A_jy__PlPjL6"
      },
      "execution_count": 61,
      "outputs": []
    },
    {
      "cell_type": "code",
      "source": [
        "# Definisikan n1, mu1, dan std1\n",
        "n1 = len(pre_war)\n",
        "mu1 = pre_war['sale_price_in_m'].mean()\n",
        "std1 = pre_war['sale_price_in_m'].std()\n",
        "\n",
        "(n1, mu1, std1)"
      ],
      "metadata": {
        "colab": {
          "base_uri": "https://localhost:8080/"
        },
        "id": "oN9baUp9Pey3",
        "outputId": "794adad2-8e6c-4b3f-f176-57cdded8adf8"
      },
      "execution_count": 62,
      "outputs": [
        {
          "output_type": "execute_result",
          "data": {
            "text/plain": [
              "(19201, 1.5656754406541324, 6.740121226950356)"
            ]
          },
          "metadata": {},
          "execution_count": 62
        }
      ]
    },
    {
      "cell_type": "code",
      "source": [
        "# Definisikan n2, mu2, dan std2\n",
        "n2 = len(post_war)\n",
        "mu2 = post_war['sale_price_in_m'].mean()\n",
        "std2 = post_war['sale_price_in_m'].std()\n",
        "\n",
        "(n2, mu2, std2)"
      ],
      "metadata": {
        "colab": {
          "base_uri": "https://localhost:8080/"
        },
        "id": "EQe6bPlxa2te",
        "outputId": "c48c561c-2c0c-4387-cd8e-ff5cbf5dcc7d"
      },
      "execution_count": 63,
      "outputs": [
        {
          "output_type": "execute_result",
          "data": {
            "text/plain": [
              "(10118, 1.77890326615932, 27.405779778661422)"
            ]
          },
          "metadata": {},
          "execution_count": 63
        }
      ]
    },
    {
      "cell_type": "code",
      "source": [
        "sm.stats.ztest(pre_war['sale_price_in_m'],\n",
        "              post_war['sale_price_in_m'],alternative='two-sided')"
      ],
      "metadata": {
        "colab": {
          "base_uri": "https://localhost:8080/"
        },
        "id": "driTDVpjbL4V",
        "outputId": "1118982e-e015-4cf9-e3b2-bf05a1d282dc"
      },
      "execution_count": 64,
      "outputs": [
        {
          "output_type": "execute_result",
          "data": {
            "text/plain": [
              "(-1.021113304873036, 0.3072007602164464)"
            ]
          },
          "metadata": {},
          "execution_count": 64
        }
      ]
    },
    {
      "cell_type": "markdown",
      "source": [
        "Hasil p-value sebesar 0.30 > nilai alpha = 0.05 sehingga dalam hal ini H0 diterima artinya tidak cukup bukti untuk menyatakan bahwa rata-rata harga jual properti yang dibangun sebelum masa perang tidak sama dengan rata-rata harga jual properti yang dibangun setelah masa perang."
      ],
      "metadata": {
        "id": "Omn8jH4acD-9"
      }
    }
  ]
}